{
 "cells": [
  {
   "cell_type": "markdown",
   "metadata": {},
   "source": [
    "<center><strong><h1>TUGAS I</h1></strong><br />\n",
    "<strong><font color=\"blue\"><h2>PENGANTAR DATA MINING – PYTHON FUNDAMENTAL</h2></font></strong></center>\n",
    "<br>\n",
    "<center>\n",
    "    <h2>Maftuh Mashuri</h2>\n",
    "    <h2>11160940000076</h2>\n",
    "</center>"
   ]
  },
  {
   "cell_type": "markdown",
   "metadata": {},
   "source": [
    "<h2>1. Jelaskan tipe-tipe data pada python beserta contohnya dalam bentuk code!</h2>\n",
    "<ul>\n",
    "    <li>List</li>\n",
    "    <li>Stirng</li>\n",
    "    <li>Dictionary</li>\n",
    "    <li>Tuples</li>\n",
    "    <li>Numbers</li>\n",
    "</ul>"
   ]
  },
  {
   "cell_type": "markdown",
   "metadata": {},
   "source": [
    "<h3>- List</h3>\n",
    "<p>List adalah array yang berarti sekumpulan variabel yang dapat diubah elemennya. Dalam Python ditulis dengan tanda kurung kotak.</p>\n",
    "<p>Contoh :</p>"
   ]
  },
  {
   "cell_type": "code",
   "execution_count": 5,
   "metadata": {},
   "outputs": [
    {
     "name": "stdout",
     "output_type": "stream",
     "text": [
      "['apel', 'pisang', 'ceri']\n",
      "[1, 2, 3, 4, 5]\n",
      "<class 'list'>\n"
     ]
    }
   ],
   "source": [
    "buah = [\"apel\", \"pisang\", \"ceri\"]\n",
    "angka = [1, 2, 3, 4, 5]\n",
    "print(buah)\n",
    "print(angka)\n",
    "print(type(buah))"
   ]
  },
  {
   "cell_type": "markdown",
   "metadata": {},
   "source": [
    "<h3>- String</h3>\n",
    "<p>String adalah tipe data yang terdiri dari huruf a-z. Dalam python dikelilingi oleh tanda kutip tunggal, atau tanda kutip ganda.</p>\n",
    "<p>contoh : </p>"
   ]
  },
  {
   "cell_type": "code",
   "execution_count": 6,
   "metadata": {},
   "outputs": [
    {
     "name": "stdout",
     "output_type": "stream",
     "text": [
      "Maftuh Mashuri\n",
      "<class 'str'>\n"
     ]
    }
   ],
   "source": [
    "a = \"Maftuh Mashuri\"\n",
    "print(a)\n",
    "print(type(a))"
   ]
  },
  {
   "cell_type": "markdown",
   "metadata": {},
   "source": [
    "<h3>- Dictionary</h3>\n",
    "<p>Dictionary adalah kumpulan variabel yang tidak berurutan, dapat diubah, dan diindeks. Dictionary dalam Python ditulis dengan kurung kurawal, dan mereka memiliki kunci dan nilai.</p>\n",
    "<p>Contoh : </p>"
   ]
  },
  {
   "cell_type": "code",
   "execution_count": 7,
   "metadata": {},
   "outputs": [
    {
     "name": "stdout",
     "output_type": "stream",
     "text": [
      "{'nama_pertama': 'Maftuh', 'nama_kedua': 'Mashuri', 'umur': 20, 'nim': '11160940000076'}\n",
      "Maftuh\n",
      "<class 'dict'>\n"
     ]
    }
   ],
   "source": [
    "data = {\n",
    "    \"nama_pertama\": \"Maftuh\",\n",
    "    \"nama_kedua\": \"Mashuri\",\n",
    "    \"umur\": 20,\n",
    "    \"nim\": \"11160940000076\"\n",
    "}\n",
    "print(data)\n",
    "print(data[\"nama_pertama\"])\n",
    "print(type(data))"
   ]
  },
  {
   "cell_type": "markdown",
   "metadata": {},
   "source": [
    "<h3>- Tuples</h3>\n",
    "<p>Sebuah tuple adalah array atau kumpulan variabel yang tidak dapat diubah. Tuple dalam python ditulis dengan kurung bulat.</p>\n",
    "<p>Contoh : </p>"
   ]
  },
  {
   "cell_type": "code",
   "execution_count": 8,
   "metadata": {},
   "outputs": [
    {
     "name": "stdout",
     "output_type": "stream",
     "text": [
      "('apel', 'pisang', 'ceri')\n",
      "(1, 2, 3, 4, 5)\n",
      "<class 'tuple'>\n"
     ]
    }
   ],
   "source": [
    "buah = (\"apel\", \"pisang\", \"ceri\")\n",
    "angka = (1, 2, 3, 4, 5)\n",
    "print(buah)\n",
    "print(angka)\n",
    "print(type(buah))"
   ]
  },
  {
   "cell_type": "markdown",
   "metadata": {},
   "source": [
    "<h3>- Numbers</h3>\n",
    "<p>Numbers adalah tipe data numerik.</p>\n",
    "<p>Tipe data numerik dalam python diantaranya: </p>\n",
    "<ul>\n",
    "    <li>Integer</li>\n",
    "    <li>Real</li>\n",
    "    <li>Kompleks</li>\n",
    "</ul>\n",
    "<p>Contoh : </p>"
   ]
  },
  {
   "cell_type": "code",
   "execution_count": 9,
   "metadata": {},
   "outputs": [
    {
     "name": "stdout",
     "output_type": "stream",
     "text": [
      "9 5.8 (1+1j)\n",
      "<class 'int'> <class 'float'> <class 'complex'>\n"
     ]
    }
   ],
   "source": [
    "x = 9\n",
    "y = 5.8\n",
    "z = 1 + 1j\n",
    "print(x, y, z)\n",
    "print(type(x), type(y), type(z))"
   ]
  },
  {
   "cell_type": "markdown",
   "metadata": {},
   "source": [
    "<h2>2. Jelaskan tipe-tipe operator pada python beserta contohnya dalam bentuk code!</h2>\n",
    "<ul>\n",
    "    <li>Arithmetic Operators</li>\n",
    "    <li>Comparison Opetators</li>\n",
    "    <li>Assignment Operators</li>\n",
    "    <li>Logical Operators</li>\n",
    "    <li>Bitwise Operators</li>\n",
    "    <li>Membership Operators</li>\n",
    "    <li>Identity Operators</li>\n",
    "</ul>"
   ]
  },
  {
   "cell_type": "markdown",
   "metadata": {},
   "source": [
    "<h3>- Arithmetic Operators</h3>\n",
    "<p>Arithmetic Operators atau Operator aritmatika digunakan dengan nilai numerik untuk melakukan pengoperasian matematika umum:</p>\n",
    "<table style=\"margin-left:0;\">\n",
    "    <tbody>\n",
    "        <tr>\n",
    "            <th>Operator</th>\n",
    "            <th>Nama Operator</th>\n",
    "        </tr>\n",
    "        <tr>\n",
    "            <td>+</td>\n",
    "            <td>Penjumlahan</td>\n",
    "        </tr>\n",
    "        <tr>\n",
    "            <td>-</td>\n",
    "            <td>Pengurangan</td>\n",
    "        </tr>\n",
    "        <tr>\n",
    "            <td>*</td>\n",
    "            <td>Perkalian</td>\n",
    "        </tr>\n",
    "        <tr>\n",
    "            <td>/</td>\n",
    "            <td>Pembagian</td>\n",
    "        </tr>\n",
    "        <tr>\n",
    "            <td>%</td>\n",
    "            <td>Modulus</td>\n",
    "        </tr>\n",
    "        <tr>\n",
    "            <td>**</td>\n",
    "            <td>Pangkat</td>\n",
    "        </tr>\n",
    "        <tr>\n",
    "            <td>//</td>\n",
    "            <td>Pembagian Kebawah</td>\n",
    "        </tr>\n",
    "    </tbody>\n",
    "</table>\n",
    "<p>Contoh :</p>"
   ]
  },
  {
   "cell_type": "code",
   "execution_count": 11,
   "metadata": {},
   "outputs": [
    {
     "name": "stdout",
     "output_type": "stream",
     "text": [
      "9\n",
      "3\n",
      "18\n",
      "2.0\n",
      "0\n",
      "216\n",
      "2\n"
     ]
    }
   ],
   "source": [
    "x = 6\n",
    "y = 3\n",
    "\n",
    "z = x + y\n",
    "print(z)\n",
    "\n",
    "z = x - y\n",
    "print(z)\n",
    "\n",
    "z = x * y\n",
    "print(z)\n",
    "\n",
    "z = x / y\n",
    "print(z)\n",
    "\n",
    "z = x % y\n",
    "print(z)\n",
    "\n",
    "z = x ** y\n",
    "print(z)\n",
    "\n",
    "z = x // y\n",
    "print(z)"
   ]
  },
  {
   "cell_type": "markdown",
   "metadata": {},
   "source": [
    "<h3>- Comparison Operators</h3>\n",
    "<p>Comparison operators digunakan untuk membandingkan dua nilai:</p>\n",
    "<p>Contoh :</p>\n",
    "<table style=\"margin-left:0;\">\n",
    "    <tbody>\n",
    "        <tr>\n",
    "            <th style=\"width:25%\">Operator</th>\n",
    "            <th style=\"width:40%\">Nama</th>\n",
    "            <th style=\"width:30%\">Contoh</th>\n",
    "        </tr>\n",
    "        <tr>\n",
    "            <td>==</td>\n",
    "            <td>Sama dengan atau setara</td>\n",
    "            <td>x == y</td>\n",
    "        </tr>\n",
    "        <tr>\n",
    "            <td>!=</td>\n",
    "            <td>Tidak sama dengan atau tidak setara</td>\n",
    "            <td>x != y</td>\n",
    "        </tr>\n",
    "        <tr>\n",
    "            <td>&gt;</td>\n",
    "            <td>Lebih besar dari</td>\n",
    "            <td>x &gt; y</td>\n",
    "        </tr>\n",
    "        <tr>\n",
    "            <td>&lt;</td>\n",
    "            <td>Lebih kecil dari</td>\n",
    "            <td>x &lt; y</td>\n",
    "        </tr>\n",
    "        <tr>\n",
    "            <td>&gt;=</td>\n",
    "            <td>Lebih besar atau sama dengan</td>\n",
    "            <td>x &gt;= y</td>\n",
    "        </tr>\n",
    "        <tr>\n",
    "            <td>&lt;=</td>\n",
    "            <td>Lebih kecil atau sama dengan</td>\n",
    "            <td>x &lt;= y</td>\n",
    "        </tr>\n",
    "    </tbody>\n",
    "</table>"
   ]
  },
  {
   "cell_type": "markdown",
   "metadata": {},
   "source": [
    "<h3>- Assignment Operators</h3>\n",
    "<p>Assignment operators digunakan untuk menetapkan nilai ke variabel:</p>\n",
    "<p>Contoh :</p>\n",
    "<table style=\"margin-left:0;\">\n",
    "    <tbody>\n",
    "        <tr>\n",
    "            <th style=\"width:25%\">Operator</th>\n",
    "            <th style=\"width:20%\">Contoh</th>\n",
    "            <th style=\"width:20%\">Akan sama dengan</th>\n",
    "        </tr>\n",
    "        <tr>\n",
    "            <td>=</td>\n",
    "            <td>x = 5</td>\n",
    "            <td>x = 5</td>\n",
    "        </tr>\n",
    "        <tr>\n",
    "            <td>+=</td>\n",
    "            <td>x += 3</td>\n",
    "            <td>x = x + 3</td>\n",
    "        </tr>\n",
    "        <tr>\n",
    "            <td>-=</td>\n",
    "            <td>x -= 3</td>\n",
    "            <td>x = x - 3</td>\n",
    "        </tr>\n",
    "        <tr>\n",
    "            <td>*=</td>\n",
    "            <td>x *= 3</td>\n",
    "            <td>x = x * 3</td>\n",
    "        </tr>\n",
    "        <tr>\n",
    "            <td>/=</td>\n",
    "            <td>x /= 3</td>\n",
    "            <td>x = x / 3</td>\n",
    "        </tr>\n",
    "        <tr>\n",
    "            <td>%=</td>\n",
    "            <td>x %= 3</td>\n",
    "            <td>x = x % 3</td>\n",
    "        </tr>\n",
    "        <tr>\n",
    "            <td>//=</td>\n",
    "            <td>x //= 3</td>\n",
    "            <td>x = x // 3</td>\n",
    "        </tr>\n",
    "        <tr>\n",
    "            <td>**=</td>\n",
    "            <td>x **= 3</td>\n",
    "            <td>x = x ** 3</td>\n",
    "        </tr>\n",
    "        <tr>\n",
    "            <td>&amp;=</td>\n",
    "            <td>x &amp;= 3</td>\n",
    "            <td>x = x &amp; 3</td>\n",
    "        </tr>\n",
    "        <tr>\n",
    "            <td>|=</td>\n",
    "            <td>x |= 3</td>\n",
    "            <td>x = x | 3</td>\n",
    "        </tr>\n",
    "        <tr>\n",
    "            <td>^=</td>\n",
    "            <td>x ^= 3</td>\n",
    "            <td>x = x ^ 3</td>\n",
    "        </tr>\n",
    "        <tr>\n",
    "            <td>&gt;&gt;=</td>\n",
    "            <td>x &gt;&gt;= 3</td>\n",
    "            <td>x = x &gt;&gt; 3</td>\n",
    "        </tr>\n",
    "        <tr>\n",
    "            <td>&lt;&lt;=</td>\n",
    "            <td>x &lt;&lt;= 3</td>\n",
    "            <td>x = x &lt;&lt; 3</td>\n",
    "        </tr>\n",
    "    </tbody>\n",
    "</table>"
   ]
  },
  {
   "cell_type": "markdown",
   "metadata": {},
   "source": [
    "<h3>- Logical Operators</h3>\n",
    "<p>Logical operators digunakan untuk menggabungkan pernyataan bersyarat:</p>\n",
    "<p>Contoh :</p>\n",
    "<table style=\"margin-left:0;\">\n",
    "    <tbody>\n",
    "        <tr>\n",
    "            <th style=\"width:10%\">Operator</th>\n",
    "            <th style=\"width:35%\">Deskripsi</th>\n",
    "            <th style=\"width:30%\">Contoh</th>\n",
    "        </tr>\n",
    "        <tr>\n",
    "            <td>and&nbsp;</td>\n",
    "            <td>Mengembalikan nilai benar jika kedua pernyataan benar.</td>\n",
    "            <td>x &lt; 5 and&nbsp; x &lt; 10</td>\n",
    "        </tr>\n",
    "        <tr>\n",
    "            <td>or</td>\n",
    "            <td>Mengembalikan nilai benar jika salah satu pernyataan benar.</td>\n",
    "            <td>x &lt; 5 or x &lt; 4</td>\n",
    "        </tr>\n",
    "        <tr>\n",
    "            <td>not</td>\n",
    "            <td>Membalikkan hasilnya, mengembalikan nilai salah jika hasilnya benar.</td>\n",
    "            <td>not(x &lt; 5 and x &lt; 10)</td>\n",
    "        </tr>\n",
    "    </tbody>\n",
    "</table>"
   ]
  },
  {
   "cell_type": "markdown",
   "metadata": {},
   "source": [
    "<h3>- Bitwise operators</h3>\n",
    "<p>Bitwise operators digunakan untuk membandingkan angka (biner):</p>\n",
    "<table style=\"margin-left:0;\">\n",
    "    <tbody>\n",
    "        <tr>\n",
    "            <th style=\"width:10%\">Operator</th>\n",
    "            <th style=\"width:15%\">Nama</th>\n",
    "            <th style=\"width:75%\">Deskripsi</th>\n",
    "        </tr>\n",
    "        <tr>\n",
    "            <td>&amp;&nbsp;</td>\n",
    "            <td>AND</td>\n",
    "            <td>Set setiap bit menjadi 1 jika kedua bit tersebut adalah 1</td>\n",
    "        </tr>\n",
    "        <tr>\n",
    "            <td>|</td>\n",
    "            <td>OR</td>\n",
    "            <td>Set setiap bit menjadi 1 jika salah satu dari dua bit adalah 1</td>\n",
    "        </tr>\n",
    "        <tr>\n",
    "            <td>&nbsp;^</td>\n",
    "            <td>XOR</td>\n",
    "            <td>Set setiap bit menjadi 1 jika hanya satu dari dua bit yang 1</td>\n",
    "        </tr>\n",
    "        <tr>\n",
    "            <td>~&nbsp;</td>\n",
    "            <td>NOT</td>\n",
    "            <td>Menghindari semua bit</td>\n",
    "        </tr>\n",
    "        <tr>\n",
    "            <td>&lt;&lt;</td>\n",
    "            <td>Zero fill left shift</td>\n",
    "            <td>Geser ke kiri dengan mendorong angka nol dari kanan dan biarkan bit paling kiri jatuh</td>\n",
    "        </tr>\n",
    "        <tr>\n",
    "            <td>&gt;&gt;</td>\n",
    "            <td>Signed right shift</td>\n",
    "            <td>Geser ke kanan dengan mendorong salinan bit paling kiri dari kiri, dan biarkan bit paling kanan jatuh</td>\n",
    "        </tr>\n",
    "    </tbody>\n",
    "</table>"
   ]
  },
  {
   "cell_type": "markdown",
   "metadata": {},
   "source": [
    "<h3>- Membership operators</h3>\n",
    "<p>Membership operators digunakan untuk menguji apakah urutan disajikan dalam suatu objek:</p>\n",
    "<table style=\"margin-left:0;\">\n",
    "    <tbody>\n",
    "        <tr>\n",
    "            <th style=\"width:25%\">Operator</th>\n",
    "            <th style=\"width:35%\">Deskripsi</th>\n",
    "            <th style=\"width:30%\">Contoh</th>\n",
    "        </tr>\n",
    "        <tr>\n",
    "            <td>in&nbsp;</td>\n",
    "            <td>Mengembalikan nilai benar jika nilai yang ditentukan terdapat dalam objek</td>\n",
    "            <td>x in y</td>\n",
    "        </tr>\n",
    "        <tr>\n",
    "            <td>not in</td>\n",
    "            <td>Mengembalikan nilai benar jika nilai yang ditentukan tidak terdapat dalam objek</td>\n",
    "            <td>x not in y</td>\n",
    "        </tr>\n",
    "    </tbody>\n",
    "</table>"
   ]
  },
  {
   "cell_type": "markdown",
   "metadata": {},
   "source": [
    "<h3>- Identity operators</h3>\n",
    "<p>Identity operators digunakan untuk membandingkan objek, not jika mereka sama, tetapi jika mereka sebenarnya adalah objek yang sama, dengan lokasi memori yang sama:</p>\n",
    "<table style=\"margin-left:0;\">\n",
    "    <tbody>\n",
    "        <tr>\n",
    "            <th style=\"width:25%\">Operator</th>\n",
    "            <th style=\"width:35%\">Deskripsi</th>\n",
    "            <th style=\"width:30%\">Contoh</th>\n",
    "        </tr>\n",
    "        <tr>\n",
    "            <td>is&nbsp;</td>\n",
    "            <td>Mengembalikan nilai benar jika kedua variabel adalah objek yang sama</td>\n",
    "            <td>x is y</td>\n",
    "        </tr>\n",
    "        <tr>\n",
    "            <td>is not</td>\n",
    "            <td>Mengembalikan nilai true jika kedua variabel bukan objek yang sama</td>\n",
    "            <td>x is not y</td>\n",
    "        </tr>\n",
    "    </tbody>\n",
    "</table>"
   ]
  },
  {
   "cell_type": "markdown",
   "metadata": {},
   "source": [
    "<h2>3. Buat masing-masing sebuah contoh program yang menggunakan single if statement dan nested if statement pada python! </h2>"
   ]
  },
  {
   "cell_type": "code",
   "execution_count": 14,
   "metadata": {},
   "outputs": [
    {
     "name": "stdout",
     "output_type": "stream",
     "text": [
      "a lebih kecil dari b\n",
      "a lebih kecil dari b dan a adalah genap\n"
     ]
    }
   ],
   "source": [
    "a = 20\n",
    "b = 30\n",
    "# Single if\n",
    "if a < b:\n",
    "    print(\"a lebih kecil dari b\")\n",
    "\n",
    "# Nested if\n",
    "if a < b:\n",
    "    if a % 2 == 0:\n",
    "        print(\"a lebih kecil dari b dan a adalah genap\")"
   ]
  },
  {
   "cell_type": "markdown",
   "metadata": {},
   "source": [
    "<h2>4. Buat masing-masing sebuah contoh program yang menggunakan while loop, for loop dan nested loops pada python! </h2>"
   ]
  },
  {
   "cell_type": "code",
   "execution_count": 20,
   "metadata": {},
   "outputs": [
    {
     "name": "stdout",
     "output_type": "stream",
     "text": [
      "For loop\n",
      "7\n",
      "5\n",
      "3\n",
      "8\n",
      "5\n",
      "10\n",
      "4\n",
      "6\n",
      "2\n",
      "13\n"
     ]
    }
   ],
   "source": [
    "an = [7, 5, 3, 8, 5, 10, 4, 6, 2, 13]\n",
    "\n",
    "# For loop\n",
    "print(\"For loop\")\n",
    "for x in an:\n",
    "    print(x)"
   ]
  },
  {
   "cell_type": "code",
   "execution_count": 21,
   "metadata": {},
   "outputs": [
    {
     "name": "stdout",
     "output_type": "stream",
     "text": [
      "While loop\n",
      "0\n",
      "1\n",
      "2\n",
      "3\n",
      "4\n",
      "5\n",
      "6\n",
      "7\n",
      "8\n",
      "9\n"
     ]
    }
   ],
   "source": [
    "# While loop\n",
    "print(\"While loop\")\n",
    "i = 0\n",
    "while i < 10:\n",
    "    print(i)\n",
    "    i += 1"
   ]
  },
  {
   "cell_type": "code",
   "execution_count": 22,
   "metadata": {},
   "outputs": [
    {
     "name": "stdout",
     "output_type": "stream",
     "text": [
      "Nested loop\n",
      "2\n",
      "3\n",
      "4\n",
      "5\n",
      "5\n",
      "6\n",
      "7\n",
      "8\n",
      "10\n",
      "13\n"
     ]
    }
   ],
   "source": [
    "# Nested loop \n",
    "print(\"Nested loop\")\n",
    "for i in range(len(an)):\n",
    "    for j in range(len(an)):\n",
    "        if an[i] < an[j]:\n",
    "            temp = an[i]\n",
    "            an[i] = an[j]\n",
    "            an[j] = temp\n",
    "for x in an:\n",
    "    print(x)"
   ]
  },
  {
   "cell_type": "markdown",
   "metadata": {},
   "source": [
    "<h2>5. Buat masing-masing sebuah contoh program yang menggunakan break statement, continue statement, dan pass statement pada proses looping!</h2>"
   ]
  },
  {
   "cell_type": "code",
   "execution_count": 24,
   "metadata": {},
   "outputs": [
    {
     "name": "stdout",
     "output_type": "stream",
     "text": [
      "Nomornya adalah 1\n",
      "Nomornya adalah 2\n",
      "Nomornya adalah 3\n",
      "Nomornya adalah 4\n"
     ]
    }
   ],
   "source": [
    "nomor = 0\n",
    "\n",
    "for nomor in range(10):\n",
    "    nomor = nomor + 1\n",
    "    \n",
    "    if nomor == 5:\n",
    "        break\n",
    "    print('Nomornya adalah', nomor)"
   ]
  },
  {
   "cell_type": "code",
   "execution_count": 25,
   "metadata": {},
   "outputs": [
    {
     "name": "stdout",
     "output_type": "stream",
     "text": [
      "Nomornya adalah 1\n",
      "Nomornya adalah 2\n",
      "Nomornya adalah 3\n",
      "Nomornya adalah 4\n",
      "Nomornya adalah 6\n",
      "Nomornya adalah 7\n",
      "Nomornya adalah 8\n",
      "Nomornya adalah 9\n",
      "Nomornya adalah 10\n"
     ]
    }
   ],
   "source": [
    "nomor = 0\n",
    "\n",
    "for nomor in range(10):\n",
    "    nomor = nomor + 1\n",
    "    \n",
    "    if nomor == 5:\n",
    "        continue\n",
    "    print('Nomornya adalah', nomor)"
   ]
  },
  {
   "cell_type": "code",
   "execution_count": 26,
   "metadata": {},
   "outputs": [
    {
     "name": "stdout",
     "output_type": "stream",
     "text": [
      "Nomornya adalah 1\n",
      "Nomornya adalah 2\n",
      "Nomornya adalah 3\n",
      "Nomornya adalah 4\n",
      "Nomornya adalah 5\n",
      "Nomornya adalah 6\n",
      "Nomornya adalah 7\n",
      "Nomornya adalah 8\n",
      "Nomornya adalah 9\n",
      "Nomornya adalah 10\n"
     ]
    }
   ],
   "source": [
    "nomor = 0\n",
    "\n",
    "for nomor in range(10):\n",
    "    nomor = nomor + 1\n",
    "    \n",
    "    if nomor == 5:\n",
    "        pass\n",
    "    print('Nomornya adalah', nomor)"
   ]
  }
 ],
 "metadata": {
  "kernelspec": {
   "display_name": "Python 3",
   "language": "python",
   "name": "python3"
  },
  "language_info": {
   "codemirror_mode": {
    "name": "ipython",
    "version": 3
   },
   "file_extension": ".py",
   "mimetype": "text/x-python",
   "name": "python",
   "nbconvert_exporter": "python",
   "pygments_lexer": "ipython3",
   "version": "3.6.5"
  }
 },
 "nbformat": 4,
 "nbformat_minor": 2
}

{
 "cells": [
  {
   "cell_type": "code",
   "execution_count": null,
   "metadata": {},
   "outputs": [],
   "source": [
    "from tweepy.streaming import StreamListener\n",
    "from tweepy import OAuthHandler\n",
    "from tweepy import Stream\n",
    "\n",
    "access_token = \"754099178-P6OHZBkvonuofUBO2i5eAWDx6uXIxKhmoB7xxVyF\"\n",
    "access_token_secret = \"4ShZgKE4CXXaj6jmwz2er8jsao3RGRBIizYdVXU1kzIX0\"\n",
    "consumer_key = \"AawFA1sh9dYWXIU18CV7FZyVk\"\n",
    "consumer_secret = \"sKp3nIjwcUDAZNz8NSULxzy9HXFuIJ0aoRuSFhcFeI2p4I26nq\"\n",
    "\n",
    "class StdOutListener(StreamListener):\n",
    "    def on_data(self, data):\n",
    "        with open(\"nama_file.txt\", \"a\") as tweet_log:\n",
    "            tweet_log.write(data)\n",
    "\n",
    "    def on_error(self, status):\n",
    "        print (status)\n",
    "\n",
    "l = StdOutListener()\n",
    "auth = OAuthHandler(consumer_key, consumer_secret)\n",
    "auth.set_access_token(access_token, access_token_secret)\n",
    "stream = Stream(auth, l)\n",
    "stream.filter(locations=[106.20, -6.41, 107.19, -6.01])"
   ]
  }
 ],
 "metadata": {
  "kernelspec": {
   "display_name": "Python 3",
   "language": "python",
   "name": "python3"
  },
  "language_info": {
   "codemirror_mode": {
    "name": "ipython",
    "version": 3
   },
   "file_extension": ".py",
   "mimetype": "text/x-python",
   "name": "python",
   "nbconvert_exporter": "python",
   "pygments_lexer": "ipython3",
   "version": "3.6.5"
  }
 },
 "nbformat": 4,
 "nbformat_minor": 2
}

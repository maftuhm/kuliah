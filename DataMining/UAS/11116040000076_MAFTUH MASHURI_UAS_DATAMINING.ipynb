{
 "cells": [
  {
   "cell_type": "markdown",
   "metadata": {
    "_cell_guid": "6a09d4fb-60c5-4f45-b844-8c788a50c543",
    "_uuid": "8e892e637f005dd61ec7dcb95865e52f3de2a77f"
   },
   "source": [
    "<center><strong><h1>UAS</h1></strong></center>\n",
    "<p style=\"margin-left:33.3333%;font-size:20px;font-weight:600;color:blue;\">PENGANTAR DATA MINING</p>\n",
    "<p style=\"margin-left:30%;font-size:20px;font-weight:600;\">Maftuh Mashuri (11160940000076)</p>"
   ]
  },
  {
   "cell_type": "code",
   "execution_count": 91,
   "metadata": {},
   "outputs": [],
   "source": [
    "import numpy as np \n",
    "import pandas as pd \n",
    "import matplotlib.pyplot as plt\n",
    "import seaborn as sns\n",
    "from sklearn.feature_extraction import text\n",
    "from sklearn.feature_extraction.text import TfidfVectorizer\n",
    "from sklearn.cluster import KMeans\n",
    "from nltk.tokenize import TweetTokenizer as tw_tokenizer\n",
    "%matplotlib inline"
   ]
  },
  {
   "cell_type": "markdown",
   "metadata": {},
   "source": [
    "# BUTIR 1"
   ]
  },
  {
   "cell_type": "code",
   "execution_count": 92,
   "metadata": {
    "_cell_guid": "e58a3f06-4c2a-4b87-90de-f8b09039fd4e",
    "_uuid": "46f0b12d7bf66712642e9a9b807f5ef398426b83"
   },
   "outputs": [
    {
     "data": {
      "text/html": [
       "<div>\n",
       "<style scoped>\n",
       "    .dataframe tbody tr th:only-of-type {\n",
       "        vertical-align: middle;\n",
       "    }\n",
       "\n",
       "    .dataframe tbody tr th {\n",
       "        vertical-align: top;\n",
       "    }\n",
       "\n",
       "    .dataframe thead th {\n",
       "        text-align: right;\n",
       "    }\n",
       "</style>\n",
       "<table border=\"1\" class=\"dataframe\">\n",
       "  <thead>\n",
       "    <tr style=\"text-align: right;\">\n",
       "      <th></th>\n",
       "      <th>PassengerId</th>\n",
       "      <th>Survived</th>\n",
       "      <th>Pclass</th>\n",
       "      <th>Name</th>\n",
       "      <th>Sex</th>\n",
       "      <th>Age</th>\n",
       "      <th>SibSp</th>\n",
       "      <th>Parch</th>\n",
       "      <th>Ticket</th>\n",
       "      <th>Fare</th>\n",
       "      <th>Cabin</th>\n",
       "      <th>Embarked</th>\n",
       "    </tr>\n",
       "  </thead>\n",
       "  <tbody>\n",
       "    <tr>\n",
       "      <th>0</th>\n",
       "      <td>1</td>\n",
       "      <td>0</td>\n",
       "      <td>3</td>\n",
       "      <td>Braund, Mr. Owen Harris</td>\n",
       "      <td>male</td>\n",
       "      <td>22.0</td>\n",
       "      <td>1</td>\n",
       "      <td>0</td>\n",
       "      <td>A/5 21171</td>\n",
       "      <td>7.2500</td>\n",
       "      <td>NaN</td>\n",
       "      <td>S</td>\n",
       "    </tr>\n",
       "    <tr>\n",
       "      <th>1</th>\n",
       "      <td>2</td>\n",
       "      <td>1</td>\n",
       "      <td>1</td>\n",
       "      <td>Cumings, Mrs. John Bradley (Florence Briggs Th...</td>\n",
       "      <td>female</td>\n",
       "      <td>38.0</td>\n",
       "      <td>1</td>\n",
       "      <td>0</td>\n",
       "      <td>PC 17599</td>\n",
       "      <td>71.2833</td>\n",
       "      <td>C85</td>\n",
       "      <td>C</td>\n",
       "    </tr>\n",
       "    <tr>\n",
       "      <th>2</th>\n",
       "      <td>3</td>\n",
       "      <td>1</td>\n",
       "      <td>3</td>\n",
       "      <td>Heikkinen, Miss. Laina</td>\n",
       "      <td>female</td>\n",
       "      <td>26.0</td>\n",
       "      <td>0</td>\n",
       "      <td>0</td>\n",
       "      <td>STON/O2. 3101282</td>\n",
       "      <td>7.9250</td>\n",
       "      <td>NaN</td>\n",
       "      <td>S</td>\n",
       "    </tr>\n",
       "    <tr>\n",
       "      <th>3</th>\n",
       "      <td>4</td>\n",
       "      <td>1</td>\n",
       "      <td>1</td>\n",
       "      <td>Futrelle, Mrs. Jacques Heath (Lily May Peel)</td>\n",
       "      <td>female</td>\n",
       "      <td>35.0</td>\n",
       "      <td>1</td>\n",
       "      <td>0</td>\n",
       "      <td>113803</td>\n",
       "      <td>53.1000</td>\n",
       "      <td>C123</td>\n",
       "      <td>S</td>\n",
       "    </tr>\n",
       "    <tr>\n",
       "      <th>4</th>\n",
       "      <td>5</td>\n",
       "      <td>0</td>\n",
       "      <td>3</td>\n",
       "      <td>Allen, Mr. William Henry</td>\n",
       "      <td>male</td>\n",
       "      <td>35.0</td>\n",
       "      <td>0</td>\n",
       "      <td>0</td>\n",
       "      <td>373450</td>\n",
       "      <td>8.0500</td>\n",
       "      <td>NaN</td>\n",
       "      <td>S</td>\n",
       "    </tr>\n",
       "  </tbody>\n",
       "</table>\n",
       "</div>"
      ],
      "text/plain": [
       "   PassengerId  Survived  Pclass  \\\n",
       "0            1         0       3   \n",
       "1            2         1       1   \n",
       "2            3         1       3   \n",
       "3            4         1       1   \n",
       "4            5         0       3   \n",
       "\n",
       "                                                Name     Sex   Age  SibSp  \\\n",
       "0                            Braund, Mr. Owen Harris    male  22.0      1   \n",
       "1  Cumings, Mrs. John Bradley (Florence Briggs Th...  female  38.0      1   \n",
       "2                             Heikkinen, Miss. Laina  female  26.0      0   \n",
       "3       Futrelle, Mrs. Jacques Heath (Lily May Peel)  female  35.0      1   \n",
       "4                           Allen, Mr. William Henry    male  35.0      0   \n",
       "\n",
       "   Parch            Ticket     Fare Cabin Embarked  \n",
       "0      0         A/5 21171   7.2500   NaN        S  \n",
       "1      0          PC 17599  71.2833   C85        C  \n",
       "2      0  STON/O2. 3101282   7.9250   NaN        S  \n",
       "3      0            113803  53.1000  C123        S  \n",
       "4      0            373450   8.0500   NaN        S  "
      ]
     },
     "execution_count": 92,
     "metadata": {},
     "output_type": "execute_result"
    }
   ],
   "source": [
    "dataset = pd.read_csv('data/datauas.csv')\n",
    "dataset.head()"
   ]
  },
  {
   "cell_type": "code",
   "execution_count": 87,
   "metadata": {},
   "outputs": [],
   "source": [
    "def bar_chart(feature):\n",
    "    survived = dataset[dataset['Survived']==1][feature].value_counts()\n",
    "    dead = dataset[dataset['Survived']==0][feature].value_counts()\n",
    "    df = pd.DataFrame([survived,dead])\n",
    "    df.index = ['Survived','Dead']\n",
    "    df.plot(kind='bar',stacked=True, figsize=(10,5))"
   ]
  },
  {
   "cell_type": "code",
   "execution_count": 88,
   "metadata": {},
   "outputs": [
    {
     "data": {
      "image/png": "[encoded data removed]",
      "text/plain": [
       "<Figure size 720x360 with 1 Axes>"
      ]
     },
     "metadata": {
      "needs_background": "light"
     },
     "output_type": "display_data"
    }
   ],
   "source": [
    "bar_chart('Sex')"
   ]
  },
  {
   "cell_type": "markdown",
   "metadata": {},
   "source": [
    "Grafik diatas menginformasikan bahwa yang paling banyak hidup adalah **wanita** dari pada **pria**"
   ]
  },
  {
   "cell_type": "code",
   "execution_count": 89,
   "metadata": {},
   "outputs": [
    {
     "data": {
      "image/png": "[encoded data removed]",
      "text/plain": [
       "<Figure size 720x360 with 1 Axes>"
      ]
     },
     "metadata": {
      "needs_background": "light"
     },
     "output_type": "display_data"
    }
   ],
   "source": [
    "bar_chart('Pclass')"
   ]
  },
  {
   "cell_type": "markdown",
   "metadata": {},
   "source": [
    "Grafik diatas menginformasikan bahwa **kelas 1** lebih banyak yang hidup dari pada kelas lainnya dan **kelas 3** lebih banyak yang meninggal dari pada kelas lainnya"
   ]
  },
  {
   "cell_type": "code",
   "execution_count": 90,
   "metadata": {},
   "outputs": [
    {
     "data": {
      "image/png": "[encoded data removed]",
      "text/plain": [
       "<Figure size 720x360 with 1 Axes>"
      ]
     },
     "metadata": {
      "needs_background": "light"
     },
     "output_type": "display_data"
    }
   ],
   "source": [
    "bar_chart('SibSp')"
   ]
  },
  {
   "cell_type": "markdown",
   "metadata": {},
   "source": [
    "Grafik diatas menginformasikan bahwa **orang yang membawa lebih dari 2 orang kerabat** lebih banyak yang hidup dari pada **orang yang hanya sendiri**"
   ]
  },
  {
   "cell_type": "code",
   "execution_count": 93,
   "metadata": {},
   "outputs": [
    {
     "data": {
      "image/png": "[encoded data removed]",
      "text/plain": [
       "<Figure size 720x360 with 1 Axes>"
      ]
     },
     "metadata": {
      "needs_background": "light"
     },
     "output_type": "display_data"
    }
   ],
   "source": [
    "bar_chart('Parch')"
   ]
  },
  {
   "cell_type": "markdown",
   "metadata": {},
   "source": [
    "Grafik diatas menginformasikan bahwa **orang yang membawa lebih dari 2 keluarga(orang tua, anak)** lebih banyak yang hidup dari pada **orang yang hanya sendiri**"
   ]
  },
  {
   "cell_type": "code",
   "execution_count": 11,
   "metadata": {},
   "outputs": [
    {
     "data": {
      "image/png": "[encoded data removed]",
      "text/plain": [
       "<Figure size 720x360 with 1 Axes>"
      ]
     },
     "metadata": {
      "needs_background": "light"
     },
     "output_type": "display_data"
    }
   ],
   "source": [
    "bar_chart('Embarked')"
   ]
  },
  {
   "cell_type": "markdown",
   "metadata": {},
   "source": [
    "Grafi diatas menginformasikan bahwa **seseorang yang naik dari Cherbourg** lebih mungkin selamat dari pada yang naik dari Queenstown dan Southampton "
   ]
  },
  {
   "cell_type": "code",
   "execution_count": 19,
   "metadata": {},
   "outputs": [
    {
     "data": {
      "image/png": "[encoded data removed]",
      "text/plain": [
       "<Figure size 720x360 with 1 Axes>"
      ]
     },
     "metadata": {
      "needs_background": "light"
     },
     "output_type": "display_data"
    }
   ],
   "source": [
    "bar_chart('Title')"
   ]
  },
  {
   "cell_type": "markdown",
   "metadata": {},
   "source": [
    "Grafi diatas menginformasikan bahwa **seseorang yang naik dari Cherbourg** lebih mungkin selamat dari pada yang naik dari Queenstown dan Southampton"
   ]
  },
  {
   "cell_type": "code",
   "execution_count": 94,
   "metadata": {},
   "outputs": [],
   "source": [
    "dataset['Title'] = dataset['Name'].str.extract(' ([A-Za-z]+)\\.', expand=False)"
   ]
  },
  {
   "cell_type": "code",
   "execution_count": 95,
   "metadata": {},
   "outputs": [],
   "source": [
    "title_mapping = {\"Mr\": 0, \"Miss\": 1, \"Mrs\": 2, \n",
    "                 \"Master\": 3, \"Dr\": 3, \"Rev\": 3, \"Col\": 3, \"Major\": 3, \"Mlle\": 3,\"Countess\": 3,\n",
    "                 \"Ms\": 3, \"Lady\": 3, \"Jonkheer\": 3, \"Don\": 3, \"Dona\" : 3, \"Mme\": 3,\"Capt\": 3,\"Sir\": 3 }\n",
    "dataset['Title'] = dataset['Title'].map(title_mapping)"
   ]
  },
  {
   "cell_type": "code",
   "execution_count": 96,
   "metadata": {},
   "outputs": [
    {
     "data": {
      "text/html": [
       "<div>\n",
       "<style scoped>\n",
       "    .dataframe tbody tr th:only-of-type {\n",
       "        vertical-align: middle;\n",
       "    }\n",
       "\n",
       "    .dataframe tbody tr th {\n",
       "        vertical-align: top;\n",
       "    }\n",
       "\n",
       "    .dataframe thead th {\n",
       "        text-align: right;\n",
       "    }\n",
       "</style>\n",
       "<table border=\"1\" class=\"dataframe\">\n",
       "  <thead>\n",
       "    <tr style=\"text-align: right;\">\n",
       "      <th></th>\n",
       "      <th>PassengerId</th>\n",
       "      <th>Survived</th>\n",
       "      <th>Pclass</th>\n",
       "      <th>Name</th>\n",
       "      <th>Sex</th>\n",
       "      <th>Age</th>\n",
       "      <th>SibSp</th>\n",
       "      <th>Parch</th>\n",
       "      <th>Ticket</th>\n",
       "      <th>Fare</th>\n",
       "      <th>Cabin</th>\n",
       "      <th>Embarked</th>\n",
       "      <th>Title</th>\n",
       "    </tr>\n",
       "  </thead>\n",
       "  <tbody>\n",
       "    <tr>\n",
       "      <th>0</th>\n",
       "      <td>1</td>\n",
       "      <td>0</td>\n",
       "      <td>3</td>\n",
       "      <td>Braund, Mr. Owen Harris</td>\n",
       "      <td>male</td>\n",
       "      <td>22.0</td>\n",
       "      <td>1</td>\n",
       "      <td>0</td>\n",
       "      <td>A/5 21171</td>\n",
       "      <td>7.2500</td>\n",
       "      <td>NaN</td>\n",
       "      <td>S</td>\n",
       "      <td>0</td>\n",
       "    </tr>\n",
       "    <tr>\n",
       "      <th>1</th>\n",
       "      <td>2</td>\n",
       "      <td>1</td>\n",
       "      <td>1</td>\n",
       "      <td>Cumings, Mrs. John Bradley (Florence Briggs Th...</td>\n",
       "      <td>female</td>\n",
       "      <td>38.0</td>\n",
       "      <td>1</td>\n",
       "      <td>0</td>\n",
       "      <td>PC 17599</td>\n",
       "      <td>71.2833</td>\n",
       "      <td>C85</td>\n",
       "      <td>C</td>\n",
       "      <td>2</td>\n",
       "    </tr>\n",
       "    <tr>\n",
       "      <th>2</th>\n",
       "      <td>3</td>\n",
       "      <td>1</td>\n",
       "      <td>3</td>\n",
       "      <td>Heikkinen, Miss. Laina</td>\n",
       "      <td>female</td>\n",
       "      <td>26.0</td>\n",
       "      <td>0</td>\n",
       "      <td>0</td>\n",
       "      <td>STON/O2. 3101282</td>\n",
       "      <td>7.9250</td>\n",
       "      <td>NaN</td>\n",
       "      <td>S</td>\n",
       "      <td>1</td>\n",
       "    </tr>\n",
       "    <tr>\n",
       "      <th>3</th>\n",
       "      <td>4</td>\n",
       "      <td>1</td>\n",
       "      <td>1</td>\n",
       "      <td>Futrelle, Mrs. Jacques Heath (Lily May Peel)</td>\n",
       "      <td>female</td>\n",
       "      <td>35.0</td>\n",
       "      <td>1</td>\n",
       "      <td>0</td>\n",
       "      <td>113803</td>\n",
       "      <td>53.1000</td>\n",
       "      <td>C123</td>\n",
       "      <td>S</td>\n",
       "      <td>2</td>\n",
       "    </tr>\n",
       "    <tr>\n",
       "      <th>4</th>\n",
       "      <td>5</td>\n",
       "      <td>0</td>\n",
       "      <td>3</td>\n",
       "      <td>Allen, Mr. William Henry</td>\n",
       "      <td>male</td>\n",
       "      <td>35.0</td>\n",
       "      <td>0</td>\n",
       "      <td>0</td>\n",
       "      <td>373450</td>\n",
       "      <td>8.0500</td>\n",
       "      <td>NaN</td>\n",
       "      <td>S</td>\n",
       "      <td>0</td>\n",
       "    </tr>\n",
       "  </tbody>\n",
       "</table>\n",
       "</div>"
      ],
      "text/plain": [
       "   PassengerId  Survived  Pclass  \\\n",
       "0            1         0       3   \n",
       "1            2         1       1   \n",
       "2            3         1       3   \n",
       "3            4         1       1   \n",
       "4            5         0       3   \n",
       "\n",
       "                                                Name     Sex   Age  SibSp  \\\n",
       "0                            Braund, Mr. Owen Harris    male  22.0      1   \n",
       "1  Cumings, Mrs. John Bradley (Florence Briggs Th...  female  38.0      1   \n",
       "2                             Heikkinen, Miss. Laina  female  26.0      0   \n",
       "3       Futrelle, Mrs. Jacques Heath (Lily May Peel)  female  35.0      1   \n",
       "4                           Allen, Mr. William Henry    male  35.0      0   \n",
       "\n",
       "   Parch            Ticket     Fare Cabin Embarked  Title  \n",
       "0      0         A/5 21171   7.2500   NaN        S      0  \n",
       "1      0          PC 17599  71.2833   C85        C      2  \n",
       "2      0  STON/O2. 3101282   7.9250   NaN        S      1  \n",
       "3      0            113803  53.1000  C123        S      2  \n",
       "4      0            373450   8.0500   NaN        S      0  "
      ]
     },
     "execution_count": 96,
     "metadata": {},
     "output_type": "execute_result"
    }
   ],
   "source": [
    "dataset.head()"
   ]
  },
  {
   "cell_type": "code",
   "execution_count": 20,
   "metadata": {},
   "outputs": [],
   "source": [
    "# delete unnecessary feature from dataset\n",
    "dataset.drop('Name', axis=1, inplace=True)"
   ]
  },
  {
   "cell_type": "code",
   "execution_count": 22,
   "metadata": {},
   "outputs": [],
   "source": [
    "sex_mapping = {\"male\": 0, \"female\": 1}\n",
    "dataset['Sex'] = dataset['Sex'].map(sex_mapping)"
   ]
  },
  {
   "cell_type": "code",
   "execution_count": 23,
   "metadata": {},
   "outputs": [
    {
     "data": {
      "image/png": "[encoded data removed]",
      "text/plain": [
       "<Figure size 720x360 with 1 Axes>"
      ]
     },
     "metadata": {
      "needs_background": "light"
     },
     "output_type": "display_data"
    }
   ],
   "source": [
    "bar_chart('Sex')"
   ]
  },
  {
   "cell_type": "markdown",
   "metadata": {},
   "source": [
    "#### 4.4.1 some age is missing\n",
    "Let's use Title's median age for missing Age"
   ]
  },
  {
   "cell_type": "code",
   "execution_count": 98,
   "metadata": {},
   "outputs": [
    {
     "data": {
      "text/html": [
       "<div>\n",
       "<style scoped>\n",
       "    .dataframe tbody tr th:only-of-type {\n",
       "        vertical-align: middle;\n",
       "    }\n",
       "\n",
       "    .dataframe tbody tr th {\n",
       "        vertical-align: top;\n",
       "    }\n",
       "\n",
       "    .dataframe thead th {\n",
       "        text-align: right;\n",
       "    }\n",
       "</style>\n",
       "<table border=\"1\" class=\"dataframe\">\n",
       "  <thead>\n",
       "    <tr style=\"text-align: right;\">\n",
       "      <th></th>\n",
       "      <th>PassengerId</th>\n",
       "      <th>Survived</th>\n",
       "      <th>Pclass</th>\n",
       "      <th>Name</th>\n",
       "      <th>Sex</th>\n",
       "      <th>Age</th>\n",
       "      <th>SibSp</th>\n",
       "      <th>Parch</th>\n",
       "      <th>Ticket</th>\n",
       "      <th>Fare</th>\n",
       "      <th>Cabin</th>\n",
       "      <th>Embarked</th>\n",
       "      <th>Title</th>\n",
       "    </tr>\n",
       "  </thead>\n",
       "  <tbody>\n",
       "    <tr>\n",
       "      <th>0</th>\n",
       "      <td>1</td>\n",
       "      <td>0</td>\n",
       "      <td>3</td>\n",
       "      <td>Braund, Mr. Owen Harris</td>\n",
       "      <td>male</td>\n",
       "      <td>22.0</td>\n",
       "      <td>1</td>\n",
       "      <td>0</td>\n",
       "      <td>A/5 21171</td>\n",
       "      <td>7.2500</td>\n",
       "      <td>NaN</td>\n",
       "      <td>S</td>\n",
       "      <td>0</td>\n",
       "    </tr>\n",
       "    <tr>\n",
       "      <th>1</th>\n",
       "      <td>2</td>\n",
       "      <td>1</td>\n",
       "      <td>1</td>\n",
       "      <td>Cumings, Mrs. John Bradley (Florence Briggs Th...</td>\n",
       "      <td>female</td>\n",
       "      <td>38.0</td>\n",
       "      <td>1</td>\n",
       "      <td>0</td>\n",
       "      <td>PC 17599</td>\n",
       "      <td>71.2833</td>\n",
       "      <td>C85</td>\n",
       "      <td>C</td>\n",
       "      <td>2</td>\n",
       "    </tr>\n",
       "    <tr>\n",
       "      <th>2</th>\n",
       "      <td>3</td>\n",
       "      <td>1</td>\n",
       "      <td>3</td>\n",
       "      <td>Heikkinen, Miss. Laina</td>\n",
       "      <td>female</td>\n",
       "      <td>26.0</td>\n",
       "      <td>0</td>\n",
       "      <td>0</td>\n",
       "      <td>STON/O2. 3101282</td>\n",
       "      <td>7.9250</td>\n",
       "      <td>NaN</td>\n",
       "      <td>S</td>\n",
       "      <td>1</td>\n",
       "    </tr>\n",
       "    <tr>\n",
       "      <th>3</th>\n",
       "      <td>4</td>\n",
       "      <td>1</td>\n",
       "      <td>1</td>\n",
       "      <td>Futrelle, Mrs. Jacques Heath (Lily May Peel)</td>\n",
       "      <td>female</td>\n",
       "      <td>35.0</td>\n",
       "      <td>1</td>\n",
       "      <td>0</td>\n",
       "      <td>113803</td>\n",
       "      <td>53.1000</td>\n",
       "      <td>C123</td>\n",
       "      <td>S</td>\n",
       "      <td>2</td>\n",
       "    </tr>\n",
       "    <tr>\n",
       "      <th>4</th>\n",
       "      <td>5</td>\n",
       "      <td>0</td>\n",
       "      <td>3</td>\n",
       "      <td>Allen, Mr. William Henry</td>\n",
       "      <td>male</td>\n",
       "      <td>35.0</td>\n",
       "      <td>0</td>\n",
       "      <td>0</td>\n",
       "      <td>373450</td>\n",
       "      <td>8.0500</td>\n",
       "      <td>NaN</td>\n",
       "      <td>S</td>\n",
       "      <td>0</td>\n",
       "    </tr>\n",
       "  </tbody>\n",
       "</table>\n",
       "</div>"
      ],
      "text/plain": [
       "   PassengerId  Survived  Pclass  \\\n",
       "0            1         0       3   \n",
       "1            2         1       1   \n",
       "2            3         1       3   \n",
       "3            4         1       1   \n",
       "4            5         0       3   \n",
       "\n",
       "                                                Name     Sex   Age  SibSp  \\\n",
       "0                            Braund, Mr. Owen Harris    male  22.0      1   \n",
       "1  Cumings, Mrs. John Bradley (Florence Briggs Th...  female  38.0      1   \n",
       "2                             Heikkinen, Miss. Laina  female  26.0      0   \n",
       "3       Futrelle, Mrs. Jacques Heath (Lily May Peel)  female  35.0      1   \n",
       "4                           Allen, Mr. William Henry    male  35.0      0   \n",
       "\n",
       "   Parch            Ticket     Fare Cabin Embarked  Title  \n",
       "0      0         A/5 21171   7.2500   NaN        S      0  \n",
       "1      0          PC 17599  71.2833   C85        C      2  \n",
       "2      0  STON/O2. 3101282   7.9250   NaN        S      1  \n",
       "3      0            113803  53.1000  C123        S      2  \n",
       "4      0            373450   8.0500   NaN        S      0  "
      ]
     },
     "execution_count": 98,
     "metadata": {},
     "output_type": "execute_result"
    }
   ],
   "source": [
    "dataset.head()"
   ]
  },
  {
   "cell_type": "markdown",
   "metadata": {},
   "source": [
    "# Mengisi missing values kelas"
   ]
  },
  {
   "cell_type": "code",
   "execution_count": 99,
   "metadata": {},
   "outputs": [],
   "source": [
    "dataset[\"Age\"].fillna(dataset.groupby(\"Title\")[\"Age\"].transform(\"median\"), inplace=True)\n"
   ]
  },
  {
   "cell_type": "code",
   "execution_count": 108,
   "metadata": {},
   "outputs": [
    {
     "data": {
      "text/plain": [
       "0      30.0\n",
       "1      35.0\n",
       "2      21.0\n",
       "3      35.0\n",
       "4      30.0\n",
       "5      30.0\n",
       "6      30.0\n",
       "7       9.0\n",
       "8      35.0\n",
       "9      35.0\n",
       "10     21.0\n",
       "11     21.0\n",
       "12     30.0\n",
       "13     30.0\n",
       "14     21.0\n",
       "15     35.0\n",
       "16      9.0\n",
       "17     30.0\n",
       "18     35.0\n",
       "19     35.0\n",
       "20     30.0\n",
       "21     30.0\n",
       "22     21.0\n",
       "23     30.0\n",
       "24     21.0\n",
       "25     35.0\n",
       "26     30.0\n",
       "27     30.0\n",
       "28     21.0\n",
       "29     30.0\n",
       "       ... \n",
       "861    30.0\n",
       "862    35.0\n",
       "863    21.0\n",
       "864    30.0\n",
       "865    35.0\n",
       "866    21.0\n",
       "867    30.0\n",
       "868    30.0\n",
       "869     9.0\n",
       "870    30.0\n",
       "871    35.0\n",
       "872    30.0\n",
       "873    30.0\n",
       "874    35.0\n",
       "875    21.0\n",
       "876    30.0\n",
       "877    30.0\n",
       "878    30.0\n",
       "879    35.0\n",
       "880    35.0\n",
       "881    30.0\n",
       "882    21.0\n",
       "883    30.0\n",
       "884    30.0\n",
       "885    35.0\n",
       "886     9.0\n",
       "887    21.0\n",
       "888    21.0\n",
       "889    30.0\n",
       "890    30.0\n",
       "Name: Age, Length: 891, dtype: float64"
      ]
     },
     "execution_count": 108,
     "metadata": {},
     "output_type": "execute_result"
    }
   ],
   "source": [
    "dataset.groupby(\"Title\")[\"Age\"].transform(\"median\")"
   ]
  },
  {
   "cell_type": "code",
   "execution_count": 101,
   "metadata": {},
   "outputs": [
    {
     "data": {
      "image/png": "[encoded data removed]",
      "text/plain": [
       "<Figure size 912.425x216 with 1 Axes>"
      ]
     },
     "metadata": {
      "needs_background": "light"
     },
     "output_type": "display_data"
    }
   ],
   "source": [
    "facet = sns.FacetGrid(dataset, hue=\"Survived\",aspect=4)\n",
    "facet.map(sns.kdeplot,'Age',shade= True)\n",
    "facet.set(xlim=(0, dataset['Age'].max()))\n",
    "facet.add_legend()\n",
    " \n",
    "plt.show() "
   ]
  },
  {
   "cell_type": "code",
   "execution_count": 102,
   "metadata": {},
   "outputs": [
    {
     "data": {
      "text/plain": [
       "(0, 20)"
      ]
     },
     "execution_count": 102,
     "metadata": {},
     "output_type": "execute_result"
    },
    {
     "data": {
      "image/png": "[encoded data removed]",
      "text/plain": [
       "<Figure size 912.425x216 with 1 Axes>"
      ]
     },
     "metadata": {
      "needs_background": "light"
     },
     "output_type": "display_data"
    }
   ],
   "source": [
    "facet = sns.FacetGrid(dataset, hue=\"Survived\",aspect=4)\n",
    "facet.map(sns.kdeplot,'Age',shade= True)\n",
    "facet.set(xlim=(0, dataset['Age'].max()))\n",
    "facet.add_legend()\n",
    "plt.xlim(0, 20)"
   ]
  },
  {
   "cell_type": "code",
   "execution_count": 103,
   "metadata": {},
   "outputs": [
    {
     "data": {
      "text/plain": [
       "(20, 30)"
      ]
     },
     "execution_count": 103,
     "metadata": {},
     "output_type": "execute_result"
    },
    {
     "data": {
      "image/png": "[encoded data removed]",
      "text/plain": [
       "<Figure size 912.425x216 with 1 Axes>"
      ]
     },
     "metadata": {
      "needs_background": "light"
     },
     "output_type": "display_data"
    }
   ],
   "source": [
    "facet = sns.FacetGrid(dataset, hue=\"Survived\",aspect=4)\n",
    "facet.map(sns.kdeplot,'Age',shade= True)\n",
    "facet.set(xlim=(0, dataset['Age'].max()))\n",
    "facet.add_legend()\n",
    "plt.xlim(20, 30)"
   ]
  },
  {
   "cell_type": "code",
   "execution_count": 104,
   "metadata": {},
   "outputs": [
    {
     "data": {
      "text/plain": [
       "(30, 40)"
      ]
     },
     "execution_count": 104,
     "metadata": {},
     "output_type": "execute_result"
    },
    {
     "data": {
      "image/png": "[encoded data removed]",
      "text/plain": [
       "<Figure size 912.425x216 with 1 Axes>"
      ]
     },
     "metadata": {
      "needs_background": "light"
     },
     "output_type": "display_data"
    }
   ],
   "source": [
    "facet = sns.FacetGrid(dataset, hue=\"Survived\",aspect=4)\n",
    "facet.map(sns.kdeplot,'Age',shade= True)\n",
    "facet.set(xlim=(0, dataset['Age'].max()))\n",
    "facet.add_legend()\n",
    "plt.xlim(30, 40)"
   ]
  },
  {
   "cell_type": "code",
   "execution_count": 105,
   "metadata": {},
   "outputs": [
    {
     "data": {
      "text/plain": [
       "(40, 60)"
      ]
     },
     "execution_count": 105,
     "metadata": {},
     "output_type": "execute_result"
    },
    {
     "data": {
      "image/png": "[encoded data removed]",
      "text/plain": [
       "<Figure size 912.425x216 with 1 Axes>"
      ]
     },
     "metadata": {
      "needs_background": "light"
     },
     "output_type": "display_data"
    }
   ],
   "source": [
    "facet = sns.FacetGrid(dataset, hue=\"Survived\",aspect=4)\n",
    "facet.map(sns.kdeplot,'Age',shade= True)\n",
    "facet.set(xlim=(0, dataset['Age'].max()))\n",
    "facet.add_legend()\n",
    "plt.xlim(40, 60)"
   ]
  },
  {
   "cell_type": "code",
   "execution_count": 106,
   "metadata": {},
   "outputs": [
    {
     "data": {
      "text/plain": [
       "(40, 60)"
      ]
     },
     "execution_count": 106,
     "metadata": {},
     "output_type": "execute_result"
    },
    {
     "data": {
      "image/png": "[encoded data removed]",
      "text/plain": [
       "<Figure size 912.425x216 with 1 Axes>"
      ]
     },
     "metadata": {
      "needs_background": "light"
     },
     "output_type": "display_data"
    }
   ],
   "source": [
    "facet = sns.FacetGrid(dataset, hue=\"Survived\",aspect=4)\n",
    "facet.map(sns.kdeplot,'Age',shade= True)\n",
    "facet.set(xlim=(0, dataset['Age'].max()))\n",
    "facet.add_legend()\n",
    "plt.xlim(40, 60)"
   ]
  },
  {
   "cell_type": "code",
   "execution_count": 107,
   "metadata": {},
   "outputs": [
    {
     "data": {
      "text/plain": [
       "(60, 80.0)"
      ]
     },
     "execution_count": 107,
     "metadata": {},
     "output_type": "execute_result"
    },
    {
     "data": {
      "image/png": "[encoded data removed]",
      "text/plain": [
       "<Figure size 912.425x216 with 1 Axes>"
      ]
     },
     "metadata": {
      "needs_background": "light"
     },
     "output_type": "display_data"
    }
   ],
   "source": [
    "facet = sns.FacetGrid(dataset, hue=\"Survived\",aspect=4)\n",
    "facet.map(sns.kdeplot,'Age',shade= True)\n",
    "facet.set(xlim=(0, dataset['Age'].max()))\n",
    "facet.add_legend()\n",
    "plt.xlim(60)"
   ]
  },
  {
   "cell_type": "code",
   "execution_count": 35,
   "metadata": {},
   "outputs": [],
   "source": [
    "dataset.loc[ dataset['Age'] <= 16, 'Age'] = 0,\n",
    "dataset.loc[(dataset['Age'] > 16) & (dataset['Age'] <= 26), 'Age'] = 1,\n",
    "dataset.loc[(dataset['Age'] > 26) & (dataset['Age'] <= 36), 'Age'] = 2,\n",
    "dataset.loc[(dataset['Age'] > 36) & (dataset['Age'] <= 62), 'Age'] = 3,\n",
    "dataset.loc[ dataset['Age'] > 62, 'Age'] = 4"
   ]
  },
  {
   "cell_type": "code",
   "execution_count": 36,
   "metadata": {},
   "outputs": [
    {
     "data": {
      "text/html": [
       "<div>\n",
       "<style scoped>\n",
       "    .dataframe tbody tr th:only-of-type {\n",
       "        vertical-align: middle;\n",
       "    }\n",
       "\n",
       "    .dataframe tbody tr th {\n",
       "        vertical-align: top;\n",
       "    }\n",
       "\n",
       "    .dataframe thead th {\n",
       "        text-align: right;\n",
       "    }\n",
       "</style>\n",
       "<table border=\"1\" class=\"dataframe\">\n",
       "  <thead>\n",
       "    <tr style=\"text-align: right;\">\n",
       "      <th></th>\n",
       "      <th>PassengerId</th>\n",
       "      <th>Survived</th>\n",
       "      <th>Pclass</th>\n",
       "      <th>Sex</th>\n",
       "      <th>Age</th>\n",
       "      <th>SibSp</th>\n",
       "      <th>Parch</th>\n",
       "      <th>Ticket</th>\n",
       "      <th>Fare</th>\n",
       "      <th>Cabin</th>\n",
       "      <th>Embarked</th>\n",
       "      <th>Title</th>\n",
       "    </tr>\n",
       "  </thead>\n",
       "  <tbody>\n",
       "    <tr>\n",
       "      <th>0</th>\n",
       "      <td>1</td>\n",
       "      <td>0</td>\n",
       "      <td>3</td>\n",
       "      <td>0</td>\n",
       "      <td>1.0</td>\n",
       "      <td>1</td>\n",
       "      <td>0</td>\n",
       "      <td>A/5 21171</td>\n",
       "      <td>7.2500</td>\n",
       "      <td>NaN</td>\n",
       "      <td>S</td>\n",
       "      <td>0</td>\n",
       "    </tr>\n",
       "    <tr>\n",
       "      <th>1</th>\n",
       "      <td>2</td>\n",
       "      <td>1</td>\n",
       "      <td>1</td>\n",
       "      <td>1</td>\n",
       "      <td>3.0</td>\n",
       "      <td>1</td>\n",
       "      <td>0</td>\n",
       "      <td>PC 17599</td>\n",
       "      <td>71.2833</td>\n",
       "      <td>C85</td>\n",
       "      <td>C</td>\n",
       "      <td>2</td>\n",
       "    </tr>\n",
       "    <tr>\n",
       "      <th>2</th>\n",
       "      <td>3</td>\n",
       "      <td>1</td>\n",
       "      <td>3</td>\n",
       "      <td>1</td>\n",
       "      <td>1.0</td>\n",
       "      <td>0</td>\n",
       "      <td>0</td>\n",
       "      <td>STON/O2. 3101282</td>\n",
       "      <td>7.9250</td>\n",
       "      <td>NaN</td>\n",
       "      <td>S</td>\n",
       "      <td>1</td>\n",
       "    </tr>\n",
       "    <tr>\n",
       "      <th>3</th>\n",
       "      <td>4</td>\n",
       "      <td>1</td>\n",
       "      <td>1</td>\n",
       "      <td>1</td>\n",
       "      <td>2.0</td>\n",
       "      <td>1</td>\n",
       "      <td>0</td>\n",
       "      <td>113803</td>\n",
       "      <td>53.1000</td>\n",
       "      <td>C123</td>\n",
       "      <td>S</td>\n",
       "      <td>2</td>\n",
       "    </tr>\n",
       "    <tr>\n",
       "      <th>4</th>\n",
       "      <td>5</td>\n",
       "      <td>0</td>\n",
       "      <td>3</td>\n",
       "      <td>0</td>\n",
       "      <td>2.0</td>\n",
       "      <td>0</td>\n",
       "      <td>0</td>\n",
       "      <td>373450</td>\n",
       "      <td>8.0500</td>\n",
       "      <td>NaN</td>\n",
       "      <td>S</td>\n",
       "      <td>0</td>\n",
       "    </tr>\n",
       "  </tbody>\n",
       "</table>\n",
       "</div>"
      ],
      "text/plain": [
       "   PassengerId  Survived  Pclass  Sex  Age  SibSp  Parch            Ticket  \\\n",
       "0            1         0       3    0  1.0      1      0         A/5 21171   \n",
       "1            2         1       1    1  3.0      1      0          PC 17599   \n",
       "2            3         1       3    1  1.0      0      0  STON/O2. 3101282   \n",
       "3            4         1       1    1  2.0      1      0            113803   \n",
       "4            5         0       3    0  2.0      0      0            373450   \n",
       "\n",
       "      Fare Cabin Embarked  Title  \n",
       "0   7.2500   NaN        S      0  \n",
       "1  71.2833   C85        C      2  \n",
       "2   7.9250   NaN        S      1  \n",
       "3  53.1000  C123        S      2  \n",
       "4   8.0500   NaN        S      0  "
      ]
     },
     "execution_count": 36,
     "metadata": {},
     "output_type": "execute_result"
    }
   ],
   "source": [
    "dataset.head()"
   ]
  },
  {
   "cell_type": "code",
   "execution_count": 37,
   "metadata": {},
   "outputs": [
    {
     "data": {
      "image/png": "[encoded data removed]",
      "text/plain": [
       "<Figure size 720x360 with 1 Axes>"
      ]
     },
     "metadata": {
      "needs_background": "light"
     },
     "output_type": "display_data"
    }
   ],
   "source": [
    "bar_chart('Age')"
   ]
  },
  {
   "cell_type": "markdown",
   "metadata": {},
   "source": [
    "# Mengisi missing values kelas"
   ]
  },
  {
   "cell_type": "code",
   "execution_count": 38,
   "metadata": {},
   "outputs": [
    {
     "data": {
      "text/plain": [
       "<matplotlib.axes._subplots.AxesSubplot at 0x2144d2f70f0>"
      ]
     },
     "execution_count": 38,
     "metadata": {},
     "output_type": "execute_result"
    },
    {
     "data": {
      "image/png": "[encoded data removed]",
      "text/plain": [
       "<Figure size 720x360 with 1 Axes>"
      ]
     },
     "metadata": {
      "needs_background": "light"
     },
     "output_type": "display_data"
    }
   ],
   "source": [
    "Pclass1 = dataset[dataset['Pclass']==1]['Embarked'].value_counts()\n",
    "Pclass2 = dataset[dataset['Pclass']==2]['Embarked'].value_counts()\n",
    "Pclass3 = dataset[dataset['Pclass']==3]['Embarked'].value_counts()\n",
    "df = pd.DataFrame([Pclass1, Pclass2, Pclass3])\n",
    "df.index = ['1st class','2nd class', '3rd class']\n",
    "df.plot(kind='bar',stacked=True, figsize=(10,5))"
   ]
  },
  {
   "cell_type": "markdown",
   "metadata": {},
   "source": [
    "more than 50% of 1st class are from S embark  \n",
    "more than 50% of 2nd class are from S embark  \n",
    "more than 50% of 3rd class are from S embark\n",
    "\n",
    "**fill out missing embark with S embark**"
   ]
  },
  {
   "cell_type": "code",
   "execution_count": 39,
   "metadata": {},
   "outputs": [],
   "source": [
    "dataset['Embarked'] = dataset['Embarked'].fillna('S')"
   ]
  },
  {
   "cell_type": "code",
   "execution_count": 40,
   "metadata": {},
   "outputs": [
    {
     "data": {
      "text/html": [
       "<div>\n",
       "<style scoped>\n",
       "    .dataframe tbody tr th:only-of-type {\n",
       "        vertical-align: middle;\n",
       "    }\n",
       "\n",
       "    .dataframe tbody tr th {\n",
       "        vertical-align: top;\n",
       "    }\n",
       "\n",
       "    .dataframe thead th {\n",
       "        text-align: right;\n",
       "    }\n",
       "</style>\n",
       "<table border=\"1\" class=\"dataframe\">\n",
       "  <thead>\n",
       "    <tr style=\"text-align: right;\">\n",
       "      <th></th>\n",
       "      <th>PassengerId</th>\n",
       "      <th>Survived</th>\n",
       "      <th>Pclass</th>\n",
       "      <th>Sex</th>\n",
       "      <th>Age</th>\n",
       "      <th>SibSp</th>\n",
       "      <th>Parch</th>\n",
       "      <th>Ticket</th>\n",
       "      <th>Fare</th>\n",
       "      <th>Cabin</th>\n",
       "      <th>Embarked</th>\n",
       "      <th>Title</th>\n",
       "    </tr>\n",
       "  </thead>\n",
       "  <tbody>\n",
       "    <tr>\n",
       "      <th>0</th>\n",
       "      <td>1</td>\n",
       "      <td>0</td>\n",
       "      <td>3</td>\n",
       "      <td>0</td>\n",
       "      <td>1.0</td>\n",
       "      <td>1</td>\n",
       "      <td>0</td>\n",
       "      <td>A/5 21171</td>\n",
       "      <td>7.2500</td>\n",
       "      <td>NaN</td>\n",
       "      <td>S</td>\n",
       "      <td>0</td>\n",
       "    </tr>\n",
       "    <tr>\n",
       "      <th>1</th>\n",
       "      <td>2</td>\n",
       "      <td>1</td>\n",
       "      <td>1</td>\n",
       "      <td>1</td>\n",
       "      <td>3.0</td>\n",
       "      <td>1</td>\n",
       "      <td>0</td>\n",
       "      <td>PC 17599</td>\n",
       "      <td>71.2833</td>\n",
       "      <td>C85</td>\n",
       "      <td>C</td>\n",
       "      <td>2</td>\n",
       "    </tr>\n",
       "    <tr>\n",
       "      <th>2</th>\n",
       "      <td>3</td>\n",
       "      <td>1</td>\n",
       "      <td>3</td>\n",
       "      <td>1</td>\n",
       "      <td>1.0</td>\n",
       "      <td>0</td>\n",
       "      <td>0</td>\n",
       "      <td>STON/O2. 3101282</td>\n",
       "      <td>7.9250</td>\n",
       "      <td>NaN</td>\n",
       "      <td>S</td>\n",
       "      <td>1</td>\n",
       "    </tr>\n",
       "    <tr>\n",
       "      <th>3</th>\n",
       "      <td>4</td>\n",
       "      <td>1</td>\n",
       "      <td>1</td>\n",
       "      <td>1</td>\n",
       "      <td>2.0</td>\n",
       "      <td>1</td>\n",
       "      <td>0</td>\n",
       "      <td>113803</td>\n",
       "      <td>53.1000</td>\n",
       "      <td>C123</td>\n",
       "      <td>S</td>\n",
       "      <td>2</td>\n",
       "    </tr>\n",
       "    <tr>\n",
       "      <th>4</th>\n",
       "      <td>5</td>\n",
       "      <td>0</td>\n",
       "      <td>3</td>\n",
       "      <td>0</td>\n",
       "      <td>2.0</td>\n",
       "      <td>0</td>\n",
       "      <td>0</td>\n",
       "      <td>373450</td>\n",
       "      <td>8.0500</td>\n",
       "      <td>NaN</td>\n",
       "      <td>S</td>\n",
       "      <td>0</td>\n",
       "    </tr>\n",
       "  </tbody>\n",
       "</table>\n",
       "</div>"
      ],
      "text/plain": [
       "   PassengerId  Survived  Pclass  Sex  Age  SibSp  Parch            Ticket  \\\n",
       "0            1         0       3    0  1.0      1      0         A/5 21171   \n",
       "1            2         1       1    1  3.0      1      0          PC 17599   \n",
       "2            3         1       3    1  1.0      0      0  STON/O2. 3101282   \n",
       "3            4         1       1    1  2.0      1      0            113803   \n",
       "4            5         0       3    0  2.0      0      0            373450   \n",
       "\n",
       "      Fare Cabin Embarked  Title  \n",
       "0   7.2500   NaN        S      0  \n",
       "1  71.2833   C85        C      2  \n",
       "2   7.9250   NaN        S      1  \n",
       "3  53.1000  C123        S      2  \n",
       "4   8.0500   NaN        S      0  "
      ]
     },
     "execution_count": 40,
     "metadata": {},
     "output_type": "execute_result"
    }
   ],
   "source": [
    "dataset.head()"
   ]
  },
  {
   "cell_type": "code",
   "execution_count": 41,
   "metadata": {},
   "outputs": [],
   "source": [
    "embarked_mapping = {\"S\": 0, \"C\": 1, \"Q\": 2}\n",
    "dataset['Embarked'] = dataset['Embarked'].map(embarked_mapping)"
   ]
  },
  {
   "cell_type": "markdown",
   "metadata": {},
   "source": [
    "### 4.6 Fare"
   ]
  },
  {
   "cell_type": "code",
   "execution_count": 44,
   "metadata": {},
   "outputs": [
    {
     "data": {
      "text/html": [
       "<div>\n",
       "<style scoped>\n",
       "    .dataframe tbody tr th:only-of-type {\n",
       "        vertical-align: middle;\n",
       "    }\n",
       "\n",
       "    .dataframe tbody tr th {\n",
       "        vertical-align: top;\n",
       "    }\n",
       "\n",
       "    .dataframe thead th {\n",
       "        text-align: right;\n",
       "    }\n",
       "</style>\n",
       "<table border=\"1\" class=\"dataframe\">\n",
       "  <thead>\n",
       "    <tr style=\"text-align: right;\">\n",
       "      <th></th>\n",
       "      <th>PassengerId</th>\n",
       "      <th>Survived</th>\n",
       "      <th>Pclass</th>\n",
       "      <th>Sex</th>\n",
       "      <th>Age</th>\n",
       "      <th>SibSp</th>\n",
       "      <th>Parch</th>\n",
       "      <th>Ticket</th>\n",
       "      <th>Fare</th>\n",
       "      <th>Cabin</th>\n",
       "      <th>Embarked</th>\n",
       "      <th>Title</th>\n",
       "    </tr>\n",
       "  </thead>\n",
       "  <tbody>\n",
       "    <tr>\n",
       "      <th>0</th>\n",
       "      <td>1</td>\n",
       "      <td>0</td>\n",
       "      <td>3</td>\n",
       "      <td>0</td>\n",
       "      <td>1.0</td>\n",
       "      <td>1</td>\n",
       "      <td>0</td>\n",
       "      <td>A/5 21171</td>\n",
       "      <td>7.2500</td>\n",
       "      <td>NaN</td>\n",
       "      <td>0</td>\n",
       "      <td>0</td>\n",
       "    </tr>\n",
       "    <tr>\n",
       "      <th>1</th>\n",
       "      <td>2</td>\n",
       "      <td>1</td>\n",
       "      <td>1</td>\n",
       "      <td>1</td>\n",
       "      <td>3.0</td>\n",
       "      <td>1</td>\n",
       "      <td>0</td>\n",
       "      <td>PC 17599</td>\n",
       "      <td>71.2833</td>\n",
       "      <td>C85</td>\n",
       "      <td>1</td>\n",
       "      <td>2</td>\n",
       "    </tr>\n",
       "    <tr>\n",
       "      <th>2</th>\n",
       "      <td>3</td>\n",
       "      <td>1</td>\n",
       "      <td>3</td>\n",
       "      <td>1</td>\n",
       "      <td>1.0</td>\n",
       "      <td>0</td>\n",
       "      <td>0</td>\n",
       "      <td>STON/O2. 3101282</td>\n",
       "      <td>7.9250</td>\n",
       "      <td>NaN</td>\n",
       "      <td>0</td>\n",
       "      <td>1</td>\n",
       "    </tr>\n",
       "    <tr>\n",
       "      <th>3</th>\n",
       "      <td>4</td>\n",
       "      <td>1</td>\n",
       "      <td>1</td>\n",
       "      <td>1</td>\n",
       "      <td>2.0</td>\n",
       "      <td>1</td>\n",
       "      <td>0</td>\n",
       "      <td>113803</td>\n",
       "      <td>53.1000</td>\n",
       "      <td>C123</td>\n",
       "      <td>0</td>\n",
       "      <td>2</td>\n",
       "    </tr>\n",
       "    <tr>\n",
       "      <th>4</th>\n",
       "      <td>5</td>\n",
       "      <td>0</td>\n",
       "      <td>3</td>\n",
       "      <td>0</td>\n",
       "      <td>2.0</td>\n",
       "      <td>0</td>\n",
       "      <td>0</td>\n",
       "      <td>373450</td>\n",
       "      <td>8.0500</td>\n",
       "      <td>NaN</td>\n",
       "      <td>0</td>\n",
       "      <td>0</td>\n",
       "    </tr>\n",
       "  </tbody>\n",
       "</table>\n",
       "</div>"
      ],
      "text/plain": [
       "   PassengerId  Survived  Pclass  Sex  Age  SibSp  Parch            Ticket  \\\n",
       "0            1         0       3    0  1.0      1      0         A/5 21171   \n",
       "1            2         1       1    1  3.0      1      0          PC 17599   \n",
       "2            3         1       3    1  1.0      0      0  STON/O2. 3101282   \n",
       "3            4         1       1    1  2.0      1      0            113803   \n",
       "4            5         0       3    0  2.0      0      0            373450   \n",
       "\n",
       "      Fare Cabin  Embarked  Title  \n",
       "0   7.2500   NaN         0      0  \n",
       "1  71.2833   C85         1      2  \n",
       "2   7.9250   NaN         0      1  \n",
       "3  53.1000  C123         0      2  \n",
       "4   8.0500   NaN         0      0  "
      ]
     },
     "execution_count": 44,
     "metadata": {},
     "output_type": "execute_result"
    }
   ],
   "source": [
    "# fill missing Fare with median fare for each Pclass\n",
    "dataset[\"Fare\"].fillna(dataset.groupby(\"Pclass\")[\"Fare\"].transform(\"median\"), inplace=True)\n",
    "dataset.head()"
   ]
  },
  {
   "cell_type": "code",
   "execution_count": 45,
   "metadata": {},
   "outputs": [
    {
     "data": {
      "image/png": "[encoded data removed]",
      "text/plain": [
       "<Figure size 912.425x216 with 1 Axes>"
      ]
     },
     "metadata": {
      "needs_background": "light"
     },
     "output_type": "display_data"
    }
   ],
   "source": [
    "facet = sns.FacetGrid(dataset, hue=\"Survived\",aspect=4)\n",
    "facet.map(sns.kdeplot,'Fare',shade= True)\n",
    "facet.set(xlim=(0, dataset['Fare'].max()))\n",
    "facet.add_legend()\n",
    " \n",
    "plt.show()  "
   ]
  },
  {
   "cell_type": "code",
   "execution_count": 46,
   "metadata": {},
   "outputs": [
    {
     "data": {
      "text/plain": [
       "(0, 20)"
      ]
     },
     "execution_count": 46,
     "metadata": {},
     "output_type": "execute_result"
    },
    {
     "data": {
      "image/png": "[encoded data removed]",
      "text/plain": [
       "<Figure size 912.425x216 with 1 Axes>"
      ]
     },
     "metadata": {
      "needs_background": "light"
     },
     "output_type": "display_data"
    }
   ],
   "source": [
    "facet = sns.FacetGrid(dataset, hue=\"Survived\",aspect=4)\n",
    "facet.map(sns.kdeplot,'Fare',shade= True)\n",
    "facet.set(xlim=(0, dataset['Fare'].max()))\n",
    "facet.add_legend()\n",
    "plt.xlim(0, 20)"
   ]
  },
  {
   "cell_type": "code",
   "execution_count": 47,
   "metadata": {},
   "outputs": [
    {
     "data": {
      "text/plain": [
       "(0, 30)"
      ]
     },
     "execution_count": 47,
     "metadata": {},
     "output_type": "execute_result"
    },
    {
     "data": {
      "image/png": "[encoded data removed]",
      "text/plain": [
       "<Figure size 912.425x216 with 1 Axes>"
      ]
     },
     "metadata": {
      "needs_background": "light"
     },
     "output_type": "display_data"
    }
   ],
   "source": [
    "facet = sns.FacetGrid(dataset, hue=\"Survived\",aspect=4)\n",
    "facet.map(sns.kdeplot,'Fare',shade= True)\n",
    "facet.set(xlim=(0, dataset['Fare'].max()))\n",
    "facet.add_legend()\n",
    "plt.xlim(0, 30)"
   ]
  },
  {
   "cell_type": "code",
   "execution_count": 48,
   "metadata": {},
   "outputs": [
    {
     "data": {
      "text/plain": [
       "(0, 512.3292)"
      ]
     },
     "execution_count": 48,
     "metadata": {},
     "output_type": "execute_result"
    },
    {
     "data": {
      "image/png": "[encoded data removed]",
      "text/plain": [
       "<Figure size 912.425x216 with 1 Axes>"
      ]
     },
     "metadata": {
      "needs_background": "light"
     },
     "output_type": "display_data"
    }
   ],
   "source": [
    "facet = sns.FacetGrid(dataset, hue=\"Survived\",aspect=4)\n",
    "facet.map(sns.kdeplot,'Fare',shade= True)\n",
    "facet.set(xlim=(0, dataset['Fare'].max()))\n",
    "facet.add_legend()\n",
    "plt.xlim(0)"
   ]
  },
  {
   "cell_type": "code",
   "execution_count": 49,
   "metadata": {},
   "outputs": [],
   "source": [
    "dataset.loc[ dataset['Fare'] <= 17, 'Fare'] = 0,\n",
    "dataset.loc[(dataset['Fare'] > 17) & (dataset['Fare'] <= 30), 'Fare'] = 1,\n",
    "dataset.loc[(dataset['Fare'] > 30) & (dataset['Fare'] <= 100), 'Fare'] = 2,\n",
    "dataset.loc[ dataset['Fare'] > 100, 'Fare'] = 3"
   ]
  },
  {
   "cell_type": "code",
   "execution_count": 50,
   "metadata": {},
   "outputs": [
    {
     "data": {
      "text/html": [
       "<div>\n",
       "<style scoped>\n",
       "    .dataframe tbody tr th:only-of-type {\n",
       "        vertical-align: middle;\n",
       "    }\n",
       "\n",
       "    .dataframe tbody tr th {\n",
       "        vertical-align: top;\n",
       "    }\n",
       "\n",
       "    .dataframe thead th {\n",
       "        text-align: right;\n",
       "    }\n",
       "</style>\n",
       "<table border=\"1\" class=\"dataframe\">\n",
       "  <thead>\n",
       "    <tr style=\"text-align: right;\">\n",
       "      <th></th>\n",
       "      <th>PassengerId</th>\n",
       "      <th>Survived</th>\n",
       "      <th>Pclass</th>\n",
       "      <th>Sex</th>\n",
       "      <th>Age</th>\n",
       "      <th>SibSp</th>\n",
       "      <th>Parch</th>\n",
       "      <th>Ticket</th>\n",
       "      <th>Fare</th>\n",
       "      <th>Cabin</th>\n",
       "      <th>Embarked</th>\n",
       "      <th>Title</th>\n",
       "    </tr>\n",
       "  </thead>\n",
       "  <tbody>\n",
       "    <tr>\n",
       "      <th>0</th>\n",
       "      <td>1</td>\n",
       "      <td>0</td>\n",
       "      <td>3</td>\n",
       "      <td>0</td>\n",
       "      <td>1.0</td>\n",
       "      <td>1</td>\n",
       "      <td>0</td>\n",
       "      <td>A/5 21171</td>\n",
       "      <td>0.0</td>\n",
       "      <td>NaN</td>\n",
       "      <td>0</td>\n",
       "      <td>0</td>\n",
       "    </tr>\n",
       "    <tr>\n",
       "      <th>1</th>\n",
       "      <td>2</td>\n",
       "      <td>1</td>\n",
       "      <td>1</td>\n",
       "      <td>1</td>\n",
       "      <td>3.0</td>\n",
       "      <td>1</td>\n",
       "      <td>0</td>\n",
       "      <td>PC 17599</td>\n",
       "      <td>2.0</td>\n",
       "      <td>C85</td>\n",
       "      <td>1</td>\n",
       "      <td>2</td>\n",
       "    </tr>\n",
       "    <tr>\n",
       "      <th>2</th>\n",
       "      <td>3</td>\n",
       "      <td>1</td>\n",
       "      <td>3</td>\n",
       "      <td>1</td>\n",
       "      <td>1.0</td>\n",
       "      <td>0</td>\n",
       "      <td>0</td>\n",
       "      <td>STON/O2. 3101282</td>\n",
       "      <td>0.0</td>\n",
       "      <td>NaN</td>\n",
       "      <td>0</td>\n",
       "      <td>1</td>\n",
       "    </tr>\n",
       "    <tr>\n",
       "      <th>3</th>\n",
       "      <td>4</td>\n",
       "      <td>1</td>\n",
       "      <td>1</td>\n",
       "      <td>1</td>\n",
       "      <td>2.0</td>\n",
       "      <td>1</td>\n",
       "      <td>0</td>\n",
       "      <td>113803</td>\n",
       "      <td>2.0</td>\n",
       "      <td>C123</td>\n",
       "      <td>0</td>\n",
       "      <td>2</td>\n",
       "    </tr>\n",
       "    <tr>\n",
       "      <th>4</th>\n",
       "      <td>5</td>\n",
       "      <td>0</td>\n",
       "      <td>3</td>\n",
       "      <td>0</td>\n",
       "      <td>2.0</td>\n",
       "      <td>0</td>\n",
       "      <td>0</td>\n",
       "      <td>373450</td>\n",
       "      <td>0.0</td>\n",
       "      <td>NaN</td>\n",
       "      <td>0</td>\n",
       "      <td>0</td>\n",
       "    </tr>\n",
       "  </tbody>\n",
       "</table>\n",
       "</div>"
      ],
      "text/plain": [
       "   PassengerId  Survived  Pclass  Sex  Age  SibSp  Parch            Ticket  \\\n",
       "0            1         0       3    0  1.0      1      0         A/5 21171   \n",
       "1            2         1       1    1  3.0      1      0          PC 17599   \n",
       "2            3         1       3    1  1.0      0      0  STON/O2. 3101282   \n",
       "3            4         1       1    1  2.0      1      0            113803   \n",
       "4            5         0       3    0  2.0      0      0            373450   \n",
       "\n",
       "   Fare Cabin  Embarked  Title  \n",
       "0   0.0   NaN         0      0  \n",
       "1   2.0   C85         1      2  \n",
       "2   0.0   NaN         0      1  \n",
       "3   2.0  C123         0      2  \n",
       "4   0.0   NaN         0      0  "
      ]
     },
     "execution_count": 50,
     "metadata": {},
     "output_type": "execute_result"
    }
   ],
   "source": [
    "dataset.head()"
   ]
  },
  {
   "cell_type": "markdown",
   "metadata": {},
   "source": [
    "### 4.7 Cabin"
   ]
  },
  {
   "cell_type": "code",
   "execution_count": 51,
   "metadata": {},
   "outputs": [
    {
     "data": {
      "text/plain": [
       "G6                 4\n",
       "C23 C25 C27        4\n",
       "B96 B98            4\n",
       "F33                3\n",
       "E101               3\n",
       "C22 C26            3\n",
       "F2                 3\n",
       "D                  3\n",
       "B57 B59 B63 B66    2\n",
       "B77                2\n",
       "B58 B60            2\n",
       "C125               2\n",
       "E44                2\n",
       "E33                2\n",
       "D35                2\n",
       "C65                2\n",
       "D33                2\n",
       "C2                 2\n",
       "E121               2\n",
       "C124               2\n",
       "B5                 2\n",
       "C83                2\n",
       "B28                2\n",
       "B18                2\n",
       "E24                2\n",
       "B35                2\n",
       "C93                2\n",
       "C78                2\n",
       "B22                2\n",
       "B20                2\n",
       "                  ..\n",
       "E40                1\n",
       "D37                1\n",
       "B41                1\n",
       "C111               1\n",
       "B50                1\n",
       "C47                1\n",
       "D10 D12            1\n",
       "F G63              1\n",
       "B79                1\n",
       "A32                1\n",
       "E38                1\n",
       "E49                1\n",
       "C70                1\n",
       "D50                1\n",
       "C7                 1\n",
       "A7                 1\n",
       "D56                1\n",
       "A36                1\n",
       "B3                 1\n",
       "A10                1\n",
       "C110               1\n",
       "A16                1\n",
       "D15                1\n",
       "A20                1\n",
       "B69                1\n",
       "D45                1\n",
       "C103               1\n",
       "B39                1\n",
       "C50                1\n",
       "A23                1\n",
       "Name: Cabin, Length: 147, dtype: int64"
      ]
     },
     "execution_count": 51,
     "metadata": {},
     "output_type": "execute_result"
    }
   ],
   "source": [
    "dataset.Cabin.value_counts()"
   ]
  },
  {
   "cell_type": "code",
   "execution_count": 52,
   "metadata": {},
   "outputs": [],
   "source": [
    "dataset['Cabin'] = dataset['Cabin'].str[:1]"
   ]
  },
  {
   "cell_type": "code",
   "execution_count": 53,
   "metadata": {},
   "outputs": [
    {
     "data": {
      "text/plain": [
       "<matplotlib.axes._subplots.AxesSubplot at 0x2144d29f7f0>"
      ]
     },
     "execution_count": 53,
     "metadata": {},
     "output_type": "execute_result"
    },
    {
     "data": {
      "image/png": "[encoded data removed]",
      "text/plain": [
       "<Figure size 720x360 with 1 Axes>"
      ]
     },
     "metadata": {
      "needs_background": "light"
     },
     "output_type": "display_data"
    }
   ],
   "source": [
    "Pclass1 = dataset[dataset['Pclass']==1]['Cabin'].value_counts()\n",
    "Pclass2 = dataset[dataset['Pclass']==2]['Cabin'].value_counts()\n",
    "Pclass3 = dataset[dataset['Pclass']==3]['Cabin'].value_counts()\n",
    "df = pd.DataFrame([Pclass1, Pclass2, Pclass3])\n",
    "df.index = ['1st class','2nd class', '3rd class']\n",
    "df.plot(kind='bar',stacked=True, figsize=(10,5))"
   ]
  },
  {
   "cell_type": "code",
   "execution_count": 54,
   "metadata": {},
   "outputs": [],
   "source": [
    "cabin_mapping = {\"A\": 0, \"B\": 0.4, \"C\": 0.8, \"D\": 1.2, \"E\": 1.6, \"F\": 2, \"G\": 2.4, \"T\": 2.8}\n",
    "dataset['Cabin'] = dataset['Cabin'].map(cabin_mapping)"
   ]
  },
  {
   "cell_type": "code",
   "execution_count": 55,
   "metadata": {},
   "outputs": [],
   "source": [
    "# fill missing Fare with median fare for each Pclass\n",
    "dataset[\"Cabin\"].fillna(dataset.groupby(\"Pclass\")[\"Cabin\"].transform(\"median\"), inplace=True)\n"
   ]
  },
  {
   "cell_type": "markdown",
   "metadata": {},
   "source": [
    "# FamilySize"
   ]
  },
  {
   "cell_type": "code",
   "execution_count": 57,
   "metadata": {},
   "outputs": [],
   "source": [
    "dataset[\"FamilySize\"] = dataset[\"SibSp\"] + dataset[\"Parch\"] + 1\n"
   ]
  },
  {
   "cell_type": "code",
   "execution_count": 58,
   "metadata": {},
   "outputs": [
    {
     "data": {
      "text/plain": [
       "(0, 11.0)"
      ]
     },
     "execution_count": 58,
     "metadata": {},
     "output_type": "execute_result"
    },
    {
     "data": {
      "image/png": "[encoded data removed]",
      "text/plain": [
       "<Figure size 912.425x216 with 1 Axes>"
      ]
     },
     "metadata": {
      "needs_background": "light"
     },
     "output_type": "display_data"
    }
   ],
   "source": [
    "facet = sns.FacetGrid(dataset, hue=\"Survived\",aspect=4)\n",
    "facet.map(sns.kdeplot,'FamilySize',shade= True)\n",
    "facet.set(xlim=(0, dataset['FamilySize'].max()))\n",
    "facet.add_legend()\n",
    "plt.xlim(0)"
   ]
  },
  {
   "cell_type": "code",
   "execution_count": 59,
   "metadata": {},
   "outputs": [],
   "source": [
    "family_mapping = {1: 0, 2: 0.4, 3: 0.8, 4: 1.2, 5: 1.6, 6: 2, 7: 2.4, 8: 2.8, 9: 3.2, 10: 3.6, 11: 4}\n",
    "dataset['FamilySize'] = dataset['FamilySize'].map(family_mapping)"
   ]
  },
  {
   "cell_type": "code",
   "execution_count": 60,
   "metadata": {},
   "outputs": [
    {
     "data": {
      "text/html": [
       "<div>\n",
       "<style scoped>\n",
       "    .dataframe tbody tr th:only-of-type {\n",
       "        vertical-align: middle;\n",
       "    }\n",
       "\n",
       "    .dataframe tbody tr th {\n",
       "        vertical-align: top;\n",
       "    }\n",
       "\n",
       "    .dataframe thead th {\n",
       "        text-align: right;\n",
       "    }\n",
       "</style>\n",
       "<table border=\"1\" class=\"dataframe\">\n",
       "  <thead>\n",
       "    <tr style=\"text-align: right;\">\n",
       "      <th></th>\n",
       "      <th>PassengerId</th>\n",
       "      <th>Survived</th>\n",
       "      <th>Pclass</th>\n",
       "      <th>Sex</th>\n",
       "      <th>Age</th>\n",
       "      <th>SibSp</th>\n",
       "      <th>Parch</th>\n",
       "      <th>Ticket</th>\n",
       "      <th>Fare</th>\n",
       "      <th>Cabin</th>\n",
       "      <th>Embarked</th>\n",
       "      <th>Title</th>\n",
       "      <th>FamilySize</th>\n",
       "    </tr>\n",
       "  </thead>\n",
       "  <tbody>\n",
       "    <tr>\n",
       "      <th>0</th>\n",
       "      <td>1</td>\n",
       "      <td>0</td>\n",
       "      <td>3</td>\n",
       "      <td>0</td>\n",
       "      <td>1.0</td>\n",
       "      <td>1</td>\n",
       "      <td>0</td>\n",
       "      <td>A/5 21171</td>\n",
       "      <td>0.0</td>\n",
       "      <td>2.0</td>\n",
       "      <td>0</td>\n",
       "      <td>0</td>\n",
       "      <td>0.4</td>\n",
       "    </tr>\n",
       "    <tr>\n",
       "      <th>1</th>\n",
       "      <td>2</td>\n",
       "      <td>1</td>\n",
       "      <td>1</td>\n",
       "      <td>1</td>\n",
       "      <td>3.0</td>\n",
       "      <td>1</td>\n",
       "      <td>0</td>\n",
       "      <td>PC 17599</td>\n",
       "      <td>2.0</td>\n",
       "      <td>0.8</td>\n",
       "      <td>1</td>\n",
       "      <td>2</td>\n",
       "      <td>0.4</td>\n",
       "    </tr>\n",
       "    <tr>\n",
       "      <th>2</th>\n",
       "      <td>3</td>\n",
       "      <td>1</td>\n",
       "      <td>3</td>\n",
       "      <td>1</td>\n",
       "      <td>1.0</td>\n",
       "      <td>0</td>\n",
       "      <td>0</td>\n",
       "      <td>STON/O2. 3101282</td>\n",
       "      <td>0.0</td>\n",
       "      <td>2.0</td>\n",
       "      <td>0</td>\n",
       "      <td>1</td>\n",
       "      <td>0.0</td>\n",
       "    </tr>\n",
       "    <tr>\n",
       "      <th>3</th>\n",
       "      <td>4</td>\n",
       "      <td>1</td>\n",
       "      <td>1</td>\n",
       "      <td>1</td>\n",
       "      <td>2.0</td>\n",
       "      <td>1</td>\n",
       "      <td>0</td>\n",
       "      <td>113803</td>\n",
       "      <td>2.0</td>\n",
       "      <td>0.8</td>\n",
       "      <td>0</td>\n",
       "      <td>2</td>\n",
       "      <td>0.4</td>\n",
       "    </tr>\n",
       "    <tr>\n",
       "      <th>4</th>\n",
       "      <td>5</td>\n",
       "      <td>0</td>\n",
       "      <td>3</td>\n",
       "      <td>0</td>\n",
       "      <td>2.0</td>\n",
       "      <td>0</td>\n",
       "      <td>0</td>\n",
       "      <td>373450</td>\n",
       "      <td>0.0</td>\n",
       "      <td>2.0</td>\n",
       "      <td>0</td>\n",
       "      <td>0</td>\n",
       "      <td>0.0</td>\n",
       "    </tr>\n",
       "  </tbody>\n",
       "</table>\n",
       "</div>"
      ],
      "text/plain": [
       "   PassengerId  Survived  Pclass  Sex  Age  SibSp  Parch            Ticket  \\\n",
       "0            1         0       3    0  1.0      1      0         A/5 21171   \n",
       "1            2         1       1    1  3.0      1      0          PC 17599   \n",
       "2            3         1       3    1  1.0      0      0  STON/O2. 3101282   \n",
       "3            4         1       1    1  2.0      1      0            113803   \n",
       "4            5         0       3    0  2.0      0      0            373450   \n",
       "\n",
       "   Fare  Cabin  Embarked  Title  FamilySize  \n",
       "0   0.0    2.0         0      0         0.4  \n",
       "1   2.0    0.8         1      2         0.4  \n",
       "2   0.0    2.0         0      1         0.0  \n",
       "3   2.0    0.8         0      2         0.4  \n",
       "4   0.0    2.0         0      0         0.0  "
      ]
     },
     "execution_count": 60,
     "metadata": {},
     "output_type": "execute_result"
    }
   ],
   "source": [
    "dataset.head()"
   ]
  },
  {
   "cell_type": "code",
   "execution_count": 61,
   "metadata": {},
   "outputs": [],
   "source": [
    "features_drop = ['Ticket', 'SibSp', 'Parch']\n",
    "dataset = dataset.drop(features_drop, axis=1)\n",
    "test = test.drop(features_drop, axis=1)\n",
    "train = train.drop(['PassengerId'], axis=1)"
   ]
  },
  {
   "cell_type": "code",
   "execution_count": 68,
   "metadata": {},
   "outputs": [
    {
     "data": {
      "text/plain": [
       "((891, 9), (891,))"
      ]
     },
     "execution_count": 68,
     "metadata": {},
     "output_type": "execute_result"
    }
   ],
   "source": [
    "data_clean = np.array(dataset.drop(['Survived'], 1).astype(float))\n",
    "target = np.array(dataset['Survived'])\n",
    "\n",
    "data_clean.shape, target.shape"
   ]
  },
  {
   "cell_type": "code",
   "execution_count": 70,
   "metadata": {},
   "outputs": [
    {
     "data": {
      "text/plain": [
       "array([[1.00e+00, 3.00e+00, 0.00e+00, ..., 0.00e+00, 0.00e+00, 4.00e-01],\n",
       "       [2.00e+00, 1.00e+00, 1.00e+00, ..., 1.00e+00, 2.00e+00, 4.00e-01],\n",
       "       [3.00e+00, 3.00e+00, 1.00e+00, ..., 0.00e+00, 1.00e+00, 0.00e+00],\n",
       "       ...,\n",
       "       [8.89e+02, 3.00e+00, 1.00e+00, ..., 0.00e+00, 1.00e+00, 1.20e+00],\n",
       "       [8.90e+02, 1.00e+00, 0.00e+00, ..., 1.00e+00, 0.00e+00, 0.00e+00],\n",
       "       [8.91e+02, 3.00e+00, 0.00e+00, ..., 2.00e+00, 0.00e+00, 0.00e+00]])"
      ]
     },
     "execution_count": 70,
     "metadata": {},
     "output_type": "execute_result"
    }
   ],
   "source": [
    "data_clean"
   ]
  },
  {
   "cell_type": "markdown",
   "metadata": {},
   "source": [
    "## 5. Modelling"
   ]
  },
  {
   "cell_type": "code",
   "execution_count": 64,
   "metadata": {},
   "outputs": [],
   "source": [
    "# Importing Classifier Modules\n",
    "from sklearn.cluster import KMeans\n",
    "from sklearn.preprocessing import LabelEncoder\n",
    "from sklearn.preprocessing import MinMaxScaler\n",
    "\n",
    "from sklearn.neighbors import KNeighborsClassifier\n",
    "from sklearn.tree import DecisionTreeClassifier\n",
    "from sklearn.ensemble import RandomForestClassifier\n",
    "from sklearn.naive_bayes import GaussianNB\n",
    "from sklearn.svm import SVC\n",
    "\n",
    "import numpy as np"
   ]
  },
  {
   "cell_type": "code",
   "execution_count": 71,
   "metadata": {},
   "outputs": [
    {
     "data": {
      "text/plain": [
       "KMeans(algorithm='auto', copy_x=True, init='k-means++', max_iter=300,\n",
       "    n_clusters=2, n_init=10, n_jobs=None, precompute_distances='auto',\n",
       "    random_state=None, tol=0.0001, verbose=0)"
      ]
     },
     "execution_count": 71,
     "metadata": {},
     "output_type": "execute_result"
    }
   ],
   "source": [
    "kmeans = KMeans(n_clusters=2) # You want cluster the passenger records into 2: Survived or Not survived\n",
    "kmeans.fit(data_clean)"
   ]
  },
  {
   "cell_type": "code",
   "execution_count": 73,
   "metadata": {},
   "outputs": [
    {
     "name": "stdout",
     "output_type": "stream",
     "text": [
      "0.5084175084175084\n"
     ]
    }
   ],
   "source": [
    "correct = 0\n",
    "for i in range(len(data_clean)):\n",
    "    predict_me = np.array(data_clean[i].astype(float))\n",
    "    predict_me = predict_me.reshape(-1, len(predict_me))\n",
    "    prediction = kmeans.predict(predict_me)\n",
    "    if prediction[0] == target[i]:\n",
    "        correct += 1\n",
    "\n",
    "print(correct/len(data_clean))"
   ]
  },
  {
   "cell_type": "code",
   "execution_count": 74,
   "metadata": {},
   "outputs": [
    {
     "data": {
      "text/plain": [
       "KMeans(algorithm='auto', copy_x=True, init='k-means++', max_iter=600,\n",
       "    n_clusters=2, n_init=10, n_jobs=None, precompute_distances='auto',\n",
       "    random_state=None, tol=0.0001, verbose=0)"
      ]
     },
     "execution_count": 74,
     "metadata": {},
     "output_type": "execute_result"
    }
   ],
   "source": [
    "kmeans = kmeans = KMeans(n_clusters=2, max_iter=600, algorithm = 'auto')\n",
    "kmeans.fit(data_clean)"
   ]
  },
  {
   "cell_type": "code",
   "execution_count": 75,
   "metadata": {},
   "outputs": [
    {
     "name": "stdout",
     "output_type": "stream",
     "text": [
      "0.5084175084175084\n"
     ]
    }
   ],
   "source": [
    "correct = 0\n",
    "for i in range(len(data_clean)):\n",
    "    predict_me = np.array(data_clean[i].astype(float))\n",
    "    predict_me = predict_me.reshape(-1, len(predict_me))\n",
    "    prediction = kmeans.predict(predict_me)\n",
    "    if prediction[0] == target[i]:\n",
    "        correct += 1\n",
    "\n",
    "print(correct/len(data_clean))"
   ]
  },
  {
   "cell_type": "code",
   "execution_count": 77,
   "metadata": {},
   "outputs": [],
   "source": [
    "scaler = MinMaxScaler()\n",
    "data_clean_scaled = scaler.fit_transform(data_clean)"
   ]
  },
  {
   "cell_type": "code",
   "execution_count": 78,
   "metadata": {},
   "outputs": [
    {
     "data": {
      "text/plain": [
       "KMeans(algorithm='auto', copy_x=True, init='k-means++', max_iter=600,\n",
       "    n_clusters=2, n_init=10, n_jobs=None, precompute_distances='auto',\n",
       "    random_state=None, tol=0.0001, verbose=0)"
      ]
     },
     "execution_count": 78,
     "metadata": {},
     "output_type": "execute_result"
    }
   ],
   "source": [
    "kmeans.fit(data_clean_scaled)\n"
   ]
  },
  {
   "cell_type": "code",
   "execution_count": 79,
   "metadata": {},
   "outputs": [
    {
     "name": "stdout",
     "output_type": "stream",
     "text": [
      "0.622895622895623\n"
     ]
    }
   ],
   "source": [
    "correct = 0\n",
    "for i in range(len(data_clean)):\n",
    "    predict_me = np.array(data_clean[i].astype(float))\n",
    "    predict_me = predict_me.reshape(-1, len(predict_me))\n",
    "    prediction = kmeans.predict(predict_me)\n",
    "    if prediction[0] == target[i]:\n",
    "        correct += 1\n",
    "\n",
    "print(correct/len(data_clean))"
   ]
  },
  {
   "cell_type": "markdown",
   "metadata": {},
   "source": [
    "# BUTIR 2"
   ]
  },
  {
   "cell_type": "code",
   "execution_count": 109,
   "metadata": {},
   "outputs": [
    {
     "data": {
      "text/html": [
       "<div>\n",
       "<style scoped>\n",
       "    .dataframe tbody tr th:only-of-type {\n",
       "        vertical-align: middle;\n",
       "    }\n",
       "\n",
       "    .dataframe tbody tr th {\n",
       "        vertical-align: top;\n",
       "    }\n",
       "\n",
       "    .dataframe thead th {\n",
       "        text-align: right;\n",
       "    }\n",
       "</style>\n",
       "<table border=\"1\" class=\"dataframe\">\n",
       "  <thead>\n",
       "    <tr style=\"text-align: right;\">\n",
       "      <th></th>\n",
       "      <th>text</th>\n",
       "    </tr>\n",
       "  </thead>\n",
       "  <tbody>\n",
       "    <tr>\n",
       "      <th>0</th>\n",
       "      <td>@agnesberti01 itu kata jata kiasan anak jaman ...</td>\n",
       "    </tr>\n",
       "    <tr>\n",
       "      <th>1</th>\n",
       "      <td>@sadbness Klo bulanan kan happy menstruasi</td>\n",
       "    </tr>\n",
       "    <tr>\n",
       "      <th>2</th>\n",
       "      <td>Jalan ke warteg aja mas deket, dah gt murah, k...</td>\n",
       "    </tr>\n",
       "    <tr>\n",
       "      <th>3</th>\n",
       "      <td>Siapin lilin dulu dah</td>\n",
       "    </tr>\n",
       "    <tr>\n",
       "      <th>4</th>\n",
       "      <td>#DebatCapresJICT \\n#asingkuasaipelabuhanJICT</td>\n",
       "    </tr>\n",
       "  </tbody>\n",
       "</table>\n",
       "</div>"
      ],
      "text/plain": [
       "                                                text\n",
       "0  @agnesberti01 itu kata jata kiasan anak jaman ...\n",
       "1         @sadbness Klo bulanan kan happy menstruasi\n",
       "2  Jalan ke warteg aja mas deket, dah gt murah, k...\n",
       "3                              Siapin lilin dulu dah\n",
       "4       #DebatCapresJICT \\n#asingkuasaipelabuhanJICT"
      ]
     },
     "execution_count": 109,
     "metadata": {},
     "output_type": "execute_result"
    }
   ],
   "source": [
    "data = pd.read_csv(\"data/export_dataframe.csv\",error_bad_lines=False,usecols =[\"text\"])\n",
    "data[data['text'].duplicated(keep=False)].sort_values('text').head(8)\n",
    "data.head()"
   ]
  },
  {
   "cell_type": "code",
   "execution_count": 110,
   "metadata": {},
   "outputs": [],
   "source": [
    "stopword_file1 = open('stopword/stopword_id.txt', \"r\").read() # Membuka file stopword bahasa indonesia dan menjadikan isi file tersebut sebagai string\n",
    "stopword_file2 = open('stopword_en/stopwords_en.txt', \"r\").read()  # Membuka file stopword bahasa inggris dan menjadikan isi file tersebut sebagai string\n",
    "stopword_file3 = open('stopword_noise/stopword_noise.txt', \"r\").read()  # Membuka file stopword noise dan menjadikan isi file tersebut sebagai string\n",
    "stopword_file_all = stopword_file1 + stopword_file2 + stopword_file3  # Menggabungkan ketiga string stopword sebelumnya kedalam satu string\n",
    "stopwords = stopword_file_all.split('\\n') # Memisahkan kata dalam string yang sudah digambungkan berdasarkan baris\n",
    "# print(stopwords)"
   ]
  },
  {
   "cell_type": "code",
   "execution_count": 111,
   "metadata": {},
   "outputs": [],
   "source": [
    "slangwords = dict() # Membuat dictionary kosong untuk menyimpan kata slang dan formal sebagai key dan value\n",
    "slangwords_dataframe = pd.read_csv('slangword/colloquial-indonesian-lexicon.csv') # Membuka file csv yang berisi kata slang dan formal dan mengkonversi kedalam dataframe\n",
    "for slang, formal in zip(slangwords_dataframe['slang'], slangwords_dataframe['formal']):\n",
    "    slangwords[slang] = formal # Mapping kata slang dan formal dan memasukkan ke dalam dictionary secara berulang\n",
    "\n",
    "slangword_file = open('slangword/slangword.txt', \"r\").read() # Membuka file yang berisi kata slang dan kata formal dan mengkonversi kedalam string\n",
    "slangwords_text = slangword_file.split('\\n') # Memisahkan kata berdasarkan baris namun kata slang dan kata formal masih belum terpisah. output : (['slang:formal', ...])\n",
    "#print(slangwords_text)\n",
    "for slang in slangwords_text:\n",
    "    split_slang = slang.split(\":\") # Memisahkan semua kata slang dan kata formal berdasarkan \"titik dua (:)\"\n",
    "    slangwords[split_slang[0]] = split_slang[1] # Mapping semua kata slang dan kata formal ke dalam dictionary. Output : {'slang' : 'formal', ...}\n",
    "#print(slangwords)"
   ]
  },
  {
   "cell_type": "code",
   "execution_count": 112,
   "metadata": {},
   "outputs": [
    {
     "data": {
      "text/html": [
       "<div>\n",
       "<style scoped>\n",
       "    .dataframe tbody tr th:only-of-type {\n",
       "        vertical-align: middle;\n",
       "    }\n",
       "\n",
       "    .dataframe tbody tr th {\n",
       "        vertical-align: top;\n",
       "    }\n",
       "\n",
       "    .dataframe thead th {\n",
       "        text-align: right;\n",
       "    }\n",
       "</style>\n",
       "<table border=\"1\" class=\"dataframe\">\n",
       "  <thead>\n",
       "    <tr style=\"text-align: right;\">\n",
       "      <th></th>\n",
       "      <th>text</th>\n",
       "      <th>tokenized</th>\n",
       "      <th>clean_text</th>\n",
       "    </tr>\n",
       "  </thead>\n",
       "  <tbody>\n",
       "    <tr>\n",
       "      <th>0</th>\n",
       "      <td>@agnesberti01 itu kata jata kiasan anak jaman ...</td>\n",
       "      <td>[itu, kata, jata, kiasan, anak, jaman, 2012]</td>\n",
       "      <td>[itu, kata, jata, kiasan, anak, jaman, 2012]</td>\n",
       "    </tr>\n",
       "    <tr>\n",
       "      <th>1</th>\n",
       "      <td>@sadbness Klo bulanan kan happy menstruasi</td>\n",
       "      <td>[klo, bulanan, kan, happy, menstruasi]</td>\n",
       "      <td>[klo, bulanan, kan, happy, menstruasi]</td>\n",
       "    </tr>\n",
       "    <tr>\n",
       "      <th>2</th>\n",
       "      <td>Jalan ke warteg aja mas deket, dah gt murah, k...</td>\n",
       "      <td>[jalan, ke, warteg, aja, mas, deket, ,, dah, g...</td>\n",
       "      <td>[jalan, ke, warteg, aja, mas, deket, dah, gt, ...</td>\n",
       "    </tr>\n",
       "    <tr>\n",
       "      <th>3</th>\n",
       "      <td>Siapin lilin dulu dah</td>\n",
       "      <td>[siapin, lilin, dulu, dah]</td>\n",
       "      <td>[siapin, lilin, dulu, dah]</td>\n",
       "    </tr>\n",
       "    <tr>\n",
       "      <th>4</th>\n",
       "      <td>#DebatCapresJICT \\n#asingkuasaipelabuhanJICT</td>\n",
       "      <td>[#debatcapresjict, #asingkuasaipelabuhanjict]</td>\n",
       "      <td>[]</td>\n",
       "    </tr>\n",
       "    <tr>\n",
       "      <th>5</th>\n",
       "      <td>quote quote \\n\\n\" hasil tidak akan mengkhianat...</td>\n",
       "      <td>[quote, quote, \", hasil, tidak, akan, mengkhia...</td>\n",
       "      <td>[quote, quote, hasil, tidak, akan, mengkhianat...</td>\n",
       "    </tr>\n",
       "    <tr>\n",
       "      <th>6</th>\n",
       "      <td>[23:56] #JAKARTA Tol Tomang - Karang Tengah - ...</td>\n",
       "      <td>[[, 23:56, ], #jakarta, tol, tomang, -, karang...</td>\n",
       "      <td>[tol, tomang, karang, tengah, tangerang, bitung]</td>\n",
       "    </tr>\n",
       "    <tr>\n",
       "      <th>7</th>\n",
       "      <td>[23:56] #JAKARTA Tol Cengkareng - Pluit - Toma...</td>\n",
       "      <td>[[, 23:56, ], #jakarta, tol, cengkareng, -, pl...</td>\n",
       "      <td>[tol, cengkareng, pluit, tomang, cawang]</td>\n",
       "    </tr>\n",
       "    <tr>\n",
       "      <th>8</th>\n",
       "      <td>[23:56] #JAKARTA Tol Cawang - Pancoran #LANCAR...</td>\n",
       "      <td>[[, 23:56, ], #jakarta, tol, cawang, -, pancor...</td>\n",
       "      <td>[tol, cawang, pancoran]</td>\n",
       "    </tr>\n",
       "    <tr>\n",
       "      <th>9</th>\n",
       "      <td>[23:56] #JAKARTA Buaran - Cipinang #LANCAR #Ja...</td>\n",
       "      <td>[[, 23:56, ], #jakarta, buaran, -, cipinang, #...</td>\n",
       "      <td>[buaran, cipinang]</td>\n",
       "    </tr>\n",
       "  </tbody>\n",
       "</table>\n",
       "</div>"
      ],
      "text/plain": [
       "                                                text  \\\n",
       "0  @agnesberti01 itu kata jata kiasan anak jaman ...   \n",
       "1         @sadbness Klo bulanan kan happy menstruasi   \n",
       "2  Jalan ke warteg aja mas deket, dah gt murah, k...   \n",
       "3                              Siapin lilin dulu dah   \n",
       "4       #DebatCapresJICT \\n#asingkuasaipelabuhanJICT   \n",
       "5  quote quote \\n\\n\" hasil tidak akan mengkhianat...   \n",
       "6  [23:56] #JAKARTA Tol Tomang - Karang Tengah - ...   \n",
       "7  [23:56] #JAKARTA Tol Cengkareng - Pluit - Toma...   \n",
       "8  [23:56] #JAKARTA Tol Cawang - Pancoran #LANCAR...   \n",
       "9  [23:56] #JAKARTA Buaran - Cipinang #LANCAR #Ja...   \n",
       "\n",
       "                                           tokenized  \\\n",
       "0       [itu, kata, jata, kiasan, anak, jaman, 2012]   \n",
       "1             [klo, bulanan, kan, happy, menstruasi]   \n",
       "2  [jalan, ke, warteg, aja, mas, deket, ,, dah, g...   \n",
       "3                         [siapin, lilin, dulu, dah]   \n",
       "4      [#debatcapresjict, #asingkuasaipelabuhanjict]   \n",
       "5  [quote, quote, \", hasil, tidak, akan, mengkhia...   \n",
       "6  [[, 23:56, ], #jakarta, tol, tomang, -, karang...   \n",
       "7  [[, 23:56, ], #jakarta, tol, cengkareng, -, pl...   \n",
       "8  [[, 23:56, ], #jakarta, tol, cawang, -, pancor...   \n",
       "9  [[, 23:56, ], #jakarta, buaran, -, cipinang, #...   \n",
       "\n",
       "                                          clean_text  \n",
       "0       [itu, kata, jata, kiasan, anak, jaman, 2012]  \n",
       "1             [klo, bulanan, kan, happy, menstruasi]  \n",
       "2  [jalan, ke, warteg, aja, mas, deket, dah, gt, ...  \n",
       "3                         [siapin, lilin, dulu, dah]  \n",
       "4                                                 []  \n",
       "5  [quote, quote, hasil, tidak, akan, mengkhianat...  \n",
       "6   [tol, tomang, karang, tengah, tangerang, bitung]  \n",
       "7           [tol, cengkareng, pluit, tomang, cawang]  \n",
       "8                            [tol, cawang, pancoran]  \n",
       "9                                 [buaran, cipinang]  "
      ]
     },
     "execution_count": 112,
     "metadata": {},
     "output_type": "execute_result"
    }
   ],
   "source": [
    "data['tokenized'] = list(map(lambda tweet: tw_tokenizer(strip_handles=True, reduce_len=True).tokenize(tweet.lower()), data['text'])) # Memisahkan kata dalam text berasarkan \"spasi\"\n",
    "data['clean_text'] = list(map(lambda tweet: [w for w in tweet if w.isalnum()], data['tokenized'])) # Filtering kata yang hanya berisi karakater a-z dan 0-9 (Menghapus url, hashtag, mention)\n",
    "data.head(10)"
   ]
  },
  {
   "cell_type": "code",
   "execution_count": 113,
   "metadata": {},
   "outputs": [
    {
     "data": {
      "text/html": [
       "<div>\n",
       "<style scoped>\n",
       "    .dataframe tbody tr th:only-of-type {\n",
       "        vertical-align: middle;\n",
       "    }\n",
       "\n",
       "    .dataframe tbody tr th {\n",
       "        vertical-align: top;\n",
       "    }\n",
       "\n",
       "    .dataframe thead th {\n",
       "        text-align: right;\n",
       "    }\n",
       "</style>\n",
       "<table border=\"1\" class=\"dataframe\">\n",
       "  <thead>\n",
       "    <tr style=\"text-align: right;\">\n",
       "      <th></th>\n",
       "      <th>text</th>\n",
       "      <th>tokenized</th>\n",
       "      <th>clean_text</th>\n",
       "      <th>handled_slangword</th>\n",
       "    </tr>\n",
       "  </thead>\n",
       "  <tbody>\n",
       "    <tr>\n",
       "      <th>0</th>\n",
       "      <td>@agnesberti01 itu kata jata kiasan anak jaman ...</td>\n",
       "      <td>[itu, kata, jata, kiasan, anak, jaman, 2012]</td>\n",
       "      <td>[itu, kata, jata, kiasan, anak, jaman, 2012]</td>\n",
       "      <td>[itu, kata, jata, kiasan, anak, zaman, 2012]</td>\n",
       "    </tr>\n",
       "    <tr>\n",
       "      <th>1</th>\n",
       "      <td>@sadbness Klo bulanan kan happy menstruasi</td>\n",
       "      <td>[klo, bulanan, kan, happy, menstruasi]</td>\n",
       "      <td>[klo, bulanan, kan, happy, menstruasi]</td>\n",
       "      <td>[kalau, bulanan, kan, happy, menstruasi]</td>\n",
       "    </tr>\n",
       "    <tr>\n",
       "      <th>2</th>\n",
       "      <td>Jalan ke warteg aja mas deket, dah gt murah, k...</td>\n",
       "      <td>[jalan, ke, warteg, aja, mas, deket, ,, dah, g...</td>\n",
       "      <td>[jalan, ke, warteg, aja, mas, deket, dah, gt, ...</td>\n",
       "      <td>[jalan, ke, warteg, saja, mas, dekat, deh, beg...</td>\n",
       "    </tr>\n",
       "    <tr>\n",
       "      <th>3</th>\n",
       "      <td>Siapin lilin dulu dah</td>\n",
       "      <td>[siapin, lilin, dulu, dah]</td>\n",
       "      <td>[siapin, lilin, dulu, dah]</td>\n",
       "      <td>[siapin, lilin, dahulu, deh]</td>\n",
       "    </tr>\n",
       "    <tr>\n",
       "      <th>4</th>\n",
       "      <td>#DebatCapresJICT \\n#asingkuasaipelabuhanJICT</td>\n",
       "      <td>[#debatcapresjict, #asingkuasaipelabuhanjict]</td>\n",
       "      <td>[]</td>\n",
       "      <td>[]</td>\n",
       "    </tr>\n",
       "    <tr>\n",
       "      <th>5</th>\n",
       "      <td>quote quote \\n\\n\" hasil tidak akan mengkhianat...</td>\n",
       "      <td>[quote, quote, \", hasil, tidak, akan, mengkhia...</td>\n",
       "      <td>[quote, quote, hasil, tidak, akan, mengkhianat...</td>\n",
       "      <td>[quote, quote, hasil, tidak, akan, mengkhianat...</td>\n",
       "    </tr>\n",
       "    <tr>\n",
       "      <th>6</th>\n",
       "      <td>[23:56] #JAKARTA Tol Tomang - Karang Tengah - ...</td>\n",
       "      <td>[[, 23:56, ], #jakarta, tol, tomang, -, karang...</td>\n",
       "      <td>[tol, tomang, karang, tengah, tangerang, bitung]</td>\n",
       "      <td>[tol, tomang, karang, tengah, tangerang, bitung]</td>\n",
       "    </tr>\n",
       "    <tr>\n",
       "      <th>7</th>\n",
       "      <td>[23:56] #JAKARTA Tol Cengkareng - Pluit - Toma...</td>\n",
       "      <td>[[, 23:56, ], #jakarta, tol, cengkareng, -, pl...</td>\n",
       "      <td>[tol, cengkareng, pluit, tomang, cawang]</td>\n",
       "      <td>[tol, cengkareng, pluit, tomang, cawang]</td>\n",
       "    </tr>\n",
       "    <tr>\n",
       "      <th>8</th>\n",
       "      <td>[23:56] #JAKARTA Tol Cawang - Pancoran #LANCAR...</td>\n",
       "      <td>[[, 23:56, ], #jakarta, tol, cawang, -, pancor...</td>\n",
       "      <td>[tol, cawang, pancoran]</td>\n",
       "      <td>[tol, cawang, pancoran]</td>\n",
       "    </tr>\n",
       "    <tr>\n",
       "      <th>9</th>\n",
       "      <td>[23:56] #JAKARTA Buaran - Cipinang #LANCAR #Ja...</td>\n",
       "      <td>[[, 23:56, ], #jakarta, buaran, -, cipinang, #...</td>\n",
       "      <td>[buaran, cipinang]</td>\n",
       "      <td>[buaran, cipinang]</td>\n",
       "    </tr>\n",
       "  </tbody>\n",
       "</table>\n",
       "</div>"
      ],
      "text/plain": [
       "                                                text  \\\n",
       "0  @agnesberti01 itu kata jata kiasan anak jaman ...   \n",
       "1         @sadbness Klo bulanan kan happy menstruasi   \n",
       "2  Jalan ke warteg aja mas deket, dah gt murah, k...   \n",
       "3                              Siapin lilin dulu dah   \n",
       "4       #DebatCapresJICT \\n#asingkuasaipelabuhanJICT   \n",
       "5  quote quote \\n\\n\" hasil tidak akan mengkhianat...   \n",
       "6  [23:56] #JAKARTA Tol Tomang - Karang Tengah - ...   \n",
       "7  [23:56] #JAKARTA Tol Cengkareng - Pluit - Toma...   \n",
       "8  [23:56] #JAKARTA Tol Cawang - Pancoran #LANCAR...   \n",
       "9  [23:56] #JAKARTA Buaran - Cipinang #LANCAR #Ja...   \n",
       "\n",
       "                                           tokenized  \\\n",
       "0       [itu, kata, jata, kiasan, anak, jaman, 2012]   \n",
       "1             [klo, bulanan, kan, happy, menstruasi]   \n",
       "2  [jalan, ke, warteg, aja, mas, deket, ,, dah, g...   \n",
       "3                         [siapin, lilin, dulu, dah]   \n",
       "4      [#debatcapresjict, #asingkuasaipelabuhanjict]   \n",
       "5  [quote, quote, \", hasil, tidak, akan, mengkhia...   \n",
       "6  [[, 23:56, ], #jakarta, tol, tomang, -, karang...   \n",
       "7  [[, 23:56, ], #jakarta, tol, cengkareng, -, pl...   \n",
       "8  [[, 23:56, ], #jakarta, tol, cawang, -, pancor...   \n",
       "9  [[, 23:56, ], #jakarta, buaran, -, cipinang, #...   \n",
       "\n",
       "                                          clean_text  \\\n",
       "0       [itu, kata, jata, kiasan, anak, jaman, 2012]   \n",
       "1             [klo, bulanan, kan, happy, menstruasi]   \n",
       "2  [jalan, ke, warteg, aja, mas, deket, dah, gt, ...   \n",
       "3                         [siapin, lilin, dulu, dah]   \n",
       "4                                                 []   \n",
       "5  [quote, quote, hasil, tidak, akan, mengkhianat...   \n",
       "6   [tol, tomang, karang, tengah, tangerang, bitung]   \n",
       "7           [tol, cengkareng, pluit, tomang, cawang]   \n",
       "8                            [tol, cawang, pancoran]   \n",
       "9                                 [buaran, cipinang]   \n",
       "\n",
       "                                   handled_slangword  \n",
       "0       [itu, kata, jata, kiasan, anak, zaman, 2012]  \n",
       "1           [kalau, bulanan, kan, happy, menstruasi]  \n",
       "2  [jalan, ke, warteg, saja, mas, dekat, deh, beg...  \n",
       "3                       [siapin, lilin, dahulu, deh]  \n",
       "4                                                 []  \n",
       "5  [quote, quote, hasil, tidak, akan, mengkhianat...  \n",
       "6   [tol, tomang, karang, tengah, tangerang, bitung]  \n",
       "7           [tol, cengkareng, pluit, tomang, cawang]  \n",
       "8                            [tol, cawang, pancoran]  \n",
       "9                                 [buaran, cipinang]  "
      ]
     },
     "execution_count": 113,
     "metadata": {},
     "output_type": "execute_result"
    }
   ],
   "source": [
    "data['handled_slangword'] = list(map(lambda tweet : list(map(lambda w : slangwords[w] if w in slangwords.keys() else w, tweet)), data['clean_text']))\n",
    "# Mengubah kata slang menjadi kata formal (kata slang dan kata formal yang diperoleh dari dictionary) \n",
    "#print(handled_slangword[:100])\n",
    "data.head(10)"
   ]
  },
  {
   "cell_type": "code",
   "execution_count": 114,
   "metadata": {},
   "outputs": [
    {
     "data": {
      "text/html": [
       "<div>\n",
       "<style scoped>\n",
       "    .dataframe tbody tr th:only-of-type {\n",
       "        vertical-align: middle;\n",
       "    }\n",
       "\n",
       "    .dataframe tbody tr th {\n",
       "        vertical-align: top;\n",
       "    }\n",
       "\n",
       "    .dataframe thead th {\n",
       "        text-align: right;\n",
       "    }\n",
       "</style>\n",
       "<table border=\"1\" class=\"dataframe\">\n",
       "  <thead>\n",
       "    <tr style=\"text-align: right;\">\n",
       "      <th></th>\n",
       "      <th>text</th>\n",
       "      <th>tokenized</th>\n",
       "      <th>clean_text</th>\n",
       "      <th>handled_slangword</th>\n",
       "      <th>removed_stopwords</th>\n",
       "    </tr>\n",
       "  </thead>\n",
       "  <tbody>\n",
       "    <tr>\n",
       "      <th>0</th>\n",
       "      <td>@agnesberti01 itu kata jata kiasan anak jaman ...</td>\n",
       "      <td>[itu, kata, jata, kiasan, anak, jaman, 2012]</td>\n",
       "      <td>[itu, kata, jata, kiasan, anak, jaman, 2012]</td>\n",
       "      <td>[itu, kata, jata, kiasan, anak, zaman, 2012]</td>\n",
       "      <td>[jata, kiasan, zaman, 2012]</td>\n",
       "    </tr>\n",
       "    <tr>\n",
       "      <th>1</th>\n",
       "      <td>@sadbness Klo bulanan kan happy menstruasi</td>\n",
       "      <td>[klo, bulanan, kan, happy, menstruasi]</td>\n",
       "      <td>[klo, bulanan, kan, happy, menstruasi]</td>\n",
       "      <td>[kalau, bulanan, kan, happy, menstruasi]</td>\n",
       "      <td>[bulanan, happy, menstruasi]</td>\n",
       "    </tr>\n",
       "    <tr>\n",
       "      <th>2</th>\n",
       "      <td>Jalan ke warteg aja mas deket, dah gt murah, k...</td>\n",
       "      <td>[jalan, ke, warteg, aja, mas, deket, ,, dah, g...</td>\n",
       "      <td>[jalan, ke, warteg, aja, mas, deket, dah, gt, ...</td>\n",
       "      <td>[jalan, ke, warteg, saja, mas, dekat, deh, beg...</td>\n",
       "      <td>[jalan, warteg, murah, tidak punya, uang, engg...</td>\n",
       "    </tr>\n",
       "    <tr>\n",
       "      <th>3</th>\n",
       "      <td>Siapin lilin dulu dah</td>\n",
       "      <td>[siapin, lilin, dulu, dah]</td>\n",
       "      <td>[siapin, lilin, dulu, dah]</td>\n",
       "      <td>[siapin, lilin, dahulu, deh]</td>\n",
       "      <td>[siapin, lilin]</td>\n",
       "    </tr>\n",
       "    <tr>\n",
       "      <th>4</th>\n",
       "      <td>#DebatCapresJICT \\n#asingkuasaipelabuhanJICT</td>\n",
       "      <td>[#debatcapresjict, #asingkuasaipelabuhanjict]</td>\n",
       "      <td>[]</td>\n",
       "      <td>[]</td>\n",
       "      <td>[]</td>\n",
       "    </tr>\n",
       "    <tr>\n",
       "      <th>5</th>\n",
       "      <td>quote quote \\n\\n\" hasil tidak akan mengkhianat...</td>\n",
       "      <td>[quote, quote, \", hasil, tidak, akan, mengkhia...</td>\n",
       "      <td>[quote, quote, hasil, tidak, akan, mengkhianat...</td>\n",
       "      <td>[quote, quote, hasil, tidak, akan, mengkhianat...</td>\n",
       "      <td>[quote, quote, hasil, mengkhianati, proses, ny...</td>\n",
       "    </tr>\n",
       "    <tr>\n",
       "      <th>6</th>\n",
       "      <td>[23:56] #JAKARTA Tol Tomang - Karang Tengah - ...</td>\n",
       "      <td>[[, 23:56, ], #jakarta, tol, tomang, -, karang...</td>\n",
       "      <td>[tol, tomang, karang, tengah, tangerang, bitung]</td>\n",
       "      <td>[tol, tomang, karang, tengah, tangerang, bitung]</td>\n",
       "      <td>[tol, tomang, karang, tangerang, bitung]</td>\n",
       "    </tr>\n",
       "    <tr>\n",
       "      <th>7</th>\n",
       "      <td>[23:56] #JAKARTA Tol Cengkareng - Pluit - Toma...</td>\n",
       "      <td>[[, 23:56, ], #jakarta, tol, cengkareng, -, pl...</td>\n",
       "      <td>[tol, cengkareng, pluit, tomang, cawang]</td>\n",
       "      <td>[tol, cengkareng, pluit, tomang, cawang]</td>\n",
       "      <td>[tol, cengkareng, pluit, tomang, cawang]</td>\n",
       "    </tr>\n",
       "    <tr>\n",
       "      <th>8</th>\n",
       "      <td>[23:56] #JAKARTA Tol Cawang - Pancoran #LANCAR...</td>\n",
       "      <td>[[, 23:56, ], #jakarta, tol, cawang, -, pancor...</td>\n",
       "      <td>[tol, cawang, pancoran]</td>\n",
       "      <td>[tol, cawang, pancoran]</td>\n",
       "      <td>[tol, cawang, pancoran]</td>\n",
       "    </tr>\n",
       "    <tr>\n",
       "      <th>9</th>\n",
       "      <td>[23:56] #JAKARTA Buaran - Cipinang #LANCAR #Ja...</td>\n",
       "      <td>[[, 23:56, ], #jakarta, buaran, -, cipinang, #...</td>\n",
       "      <td>[buaran, cipinang]</td>\n",
       "      <td>[buaran, cipinang]</td>\n",
       "      <td>[buaran]</td>\n",
       "    </tr>\n",
       "  </tbody>\n",
       "</table>\n",
       "</div>"
      ],
      "text/plain": [
       "                                                text  \\\n",
       "0  @agnesberti01 itu kata jata kiasan anak jaman ...   \n",
       "1         @sadbness Klo bulanan kan happy menstruasi   \n",
       "2  Jalan ke warteg aja mas deket, dah gt murah, k...   \n",
       "3                              Siapin lilin dulu dah   \n",
       "4       #DebatCapresJICT \\n#asingkuasaipelabuhanJICT   \n",
       "5  quote quote \\n\\n\" hasil tidak akan mengkhianat...   \n",
       "6  [23:56] #JAKARTA Tol Tomang - Karang Tengah - ...   \n",
       "7  [23:56] #JAKARTA Tol Cengkareng - Pluit - Toma...   \n",
       "8  [23:56] #JAKARTA Tol Cawang - Pancoran #LANCAR...   \n",
       "9  [23:56] #JAKARTA Buaran - Cipinang #LANCAR #Ja...   \n",
       "\n",
       "                                           tokenized  \\\n",
       "0       [itu, kata, jata, kiasan, anak, jaman, 2012]   \n",
       "1             [klo, bulanan, kan, happy, menstruasi]   \n",
       "2  [jalan, ke, warteg, aja, mas, deket, ,, dah, g...   \n",
       "3                         [siapin, lilin, dulu, dah]   \n",
       "4      [#debatcapresjict, #asingkuasaipelabuhanjict]   \n",
       "5  [quote, quote, \", hasil, tidak, akan, mengkhia...   \n",
       "6  [[, 23:56, ], #jakarta, tol, tomang, -, karang...   \n",
       "7  [[, 23:56, ], #jakarta, tol, cengkareng, -, pl...   \n",
       "8  [[, 23:56, ], #jakarta, tol, cawang, -, pancor...   \n",
       "9  [[, 23:56, ], #jakarta, buaran, -, cipinang, #...   \n",
       "\n",
       "                                          clean_text  \\\n",
       "0       [itu, kata, jata, kiasan, anak, jaman, 2012]   \n",
       "1             [klo, bulanan, kan, happy, menstruasi]   \n",
       "2  [jalan, ke, warteg, aja, mas, deket, dah, gt, ...   \n",
       "3                         [siapin, lilin, dulu, dah]   \n",
       "4                                                 []   \n",
       "5  [quote, quote, hasil, tidak, akan, mengkhianat...   \n",
       "6   [tol, tomang, karang, tengah, tangerang, bitung]   \n",
       "7           [tol, cengkareng, pluit, tomang, cawang]   \n",
       "8                            [tol, cawang, pancoran]   \n",
       "9                                 [buaran, cipinang]   \n",
       "\n",
       "                                   handled_slangword  \\\n",
       "0       [itu, kata, jata, kiasan, anak, zaman, 2012]   \n",
       "1           [kalau, bulanan, kan, happy, menstruasi]   \n",
       "2  [jalan, ke, warteg, saja, mas, dekat, deh, beg...   \n",
       "3                       [siapin, lilin, dahulu, deh]   \n",
       "4                                                 []   \n",
       "5  [quote, quote, hasil, tidak, akan, mengkhianat...   \n",
       "6   [tol, tomang, karang, tengah, tangerang, bitung]   \n",
       "7           [tol, cengkareng, pluit, tomang, cawang]   \n",
       "8                            [tol, cawang, pancoran]   \n",
       "9                                 [buaran, cipinang]   \n",
       "\n",
       "                                   removed_stopwords  \n",
       "0                        [jata, kiasan, zaman, 2012]  \n",
       "1                       [bulanan, happy, menstruasi]  \n",
       "2  [jalan, warteg, murah, tidak punya, uang, engg...  \n",
       "3                                    [siapin, lilin]  \n",
       "4                                                 []  \n",
       "5  [quote, quote, hasil, mengkhianati, proses, ny...  \n",
       "6           [tol, tomang, karang, tangerang, bitung]  \n",
       "7           [tol, cengkareng, pluit, tomang, cawang]  \n",
       "8                            [tol, cawang, pancoran]  \n",
       "9                                           [buaran]  "
      ]
     },
     "execution_count": 114,
     "metadata": {},
     "output_type": "execute_result"
    }
   ],
   "source": [
    "data['removed_stopwords'] = list(map(lambda tweet : [w for w in tweet if w not in stopwords], data['handled_slangword']))\n",
    "# Filtering data dengan menghapus kata yang tidak bermakna (Stopword yang diperoleh dari file)\n",
    "data.head(10)"
   ]
  },
  {
   "cell_type": "code",
   "execution_count": 115,
   "metadata": {},
   "outputs": [
    {
     "data": {
      "text/html": [
       "<div>\n",
       "<style scoped>\n",
       "    .dataframe tbody tr th:only-of-type {\n",
       "        vertical-align: middle;\n",
       "    }\n",
       "\n",
       "    .dataframe tbody tr th {\n",
       "        vertical-align: top;\n",
       "    }\n",
       "\n",
       "    .dataframe thead th {\n",
       "        text-align: right;\n",
       "    }\n",
       "</style>\n",
       "<table border=\"1\" class=\"dataframe\">\n",
       "  <thead>\n",
       "    <tr style=\"text-align: right;\">\n",
       "      <th></th>\n",
       "      <th>text</th>\n",
       "      <th>tokenized</th>\n",
       "      <th>clean_text</th>\n",
       "      <th>handled_slangword</th>\n",
       "      <th>removed_stopwords</th>\n",
       "      <th>stemmed_by_spacy</th>\n",
       "    </tr>\n",
       "  </thead>\n",
       "  <tbody>\n",
       "    <tr>\n",
       "      <th>0</th>\n",
       "      <td>@agnesberti01 itu kata jata kiasan anak jaman ...</td>\n",
       "      <td>[itu, kata, jata, kiasan, anak, jaman, 2012]</td>\n",
       "      <td>[itu, kata, jata, kiasan, anak, jaman, 2012]</td>\n",
       "      <td>[itu, kata, jata, kiasan, anak, zaman, 2012]</td>\n",
       "      <td>[jata, kiasan, zaman, 2012]</td>\n",
       "      <td>[jata, kias, zaman, 2012]</td>\n",
       "    </tr>\n",
       "    <tr>\n",
       "      <th>1</th>\n",
       "      <td>@sadbness Klo bulanan kan happy menstruasi</td>\n",
       "      <td>[klo, bulanan, kan, happy, menstruasi]</td>\n",
       "      <td>[klo, bulanan, kan, happy, menstruasi]</td>\n",
       "      <td>[kalau, bulanan, kan, happy, menstruasi]</td>\n",
       "      <td>[bulanan, happy, menstruasi]</td>\n",
       "      <td>[bulan, happy, menstruasi]</td>\n",
       "    </tr>\n",
       "    <tr>\n",
       "      <th>2</th>\n",
       "      <td>Jalan ke warteg aja mas deket, dah gt murah, k...</td>\n",
       "      <td>[jalan, ke, warteg, aja, mas, deket, ,, dah, g...</td>\n",
       "      <td>[jalan, ke, warteg, aja, mas, deket, dah, gt, ...</td>\n",
       "      <td>[jalan, ke, warteg, saja, mas, dekat, deh, beg...</td>\n",
       "      <td>[jalan, warteg, murah, tidak punya, uang, engg...</td>\n",
       "      <td>[jalan, warteg, murah, punya, uang, usah, soka...</td>\n",
       "    </tr>\n",
       "    <tr>\n",
       "      <th>3</th>\n",
       "      <td>Siapin lilin dulu dah</td>\n",
       "      <td>[siapin, lilin, dulu, dah]</td>\n",
       "      <td>[siapin, lilin, dulu, dah]</td>\n",
       "      <td>[siapin, lilin, dahulu, deh]</td>\n",
       "      <td>[siapin, lilin]</td>\n",
       "      <td>[siapin, lilin]</td>\n",
       "    </tr>\n",
       "    <tr>\n",
       "      <th>4</th>\n",
       "      <td>#DebatCapresJICT \\n#asingkuasaipelabuhanJICT</td>\n",
       "      <td>[#debatcapresjict, #asingkuasaipelabuhanjict]</td>\n",
       "      <td>[]</td>\n",
       "      <td>[]</td>\n",
       "      <td>[]</td>\n",
       "      <td>[]</td>\n",
       "    </tr>\n",
       "    <tr>\n",
       "      <th>5</th>\n",
       "      <td>quote quote \\n\\n\" hasil tidak akan mengkhianat...</td>\n",
       "      <td>[quote, quote, \", hasil, tidak, akan, mengkhia...</td>\n",
       "      <td>[quote, quote, hasil, tidak, akan, mengkhianat...</td>\n",
       "      <td>[quote, quote, hasil, tidak, akan, mengkhianat...</td>\n",
       "      <td>[quote, quote, hasil, mengkhianati, proses, ny...</td>\n",
       "      <td>[quote, quote, hasil, khianat, proses, nyata]</td>\n",
       "    </tr>\n",
       "    <tr>\n",
       "      <th>6</th>\n",
       "      <td>[23:56] #JAKARTA Tol Tomang - Karang Tengah - ...</td>\n",
       "      <td>[[, 23:56, ], #jakarta, tol, tomang, -, karang...</td>\n",
       "      <td>[tol, tomang, karang, tengah, tangerang, bitung]</td>\n",
       "      <td>[tol, tomang, karang, tengah, tangerang, bitung]</td>\n",
       "      <td>[tol, tomang, karang, tangerang, bitung]</td>\n",
       "      <td>[tol, tomang, karang, tangerang, bitung]</td>\n",
       "    </tr>\n",
       "    <tr>\n",
       "      <th>7</th>\n",
       "      <td>[23:56] #JAKARTA Tol Cengkareng - Pluit - Toma...</td>\n",
       "      <td>[[, 23:56, ], #jakarta, tol, cengkareng, -, pl...</td>\n",
       "      <td>[tol, cengkareng, pluit, tomang, cawang]</td>\n",
       "      <td>[tol, cengkareng, pluit, tomang, cawang]</td>\n",
       "      <td>[tol, cengkareng, pluit, tomang, cawang]</td>\n",
       "      <td>[tol, cengkareng, pluit, tomang, cawang]</td>\n",
       "    </tr>\n",
       "    <tr>\n",
       "      <th>8</th>\n",
       "      <td>[23:56] #JAKARTA Tol Cawang - Pancoran #LANCAR...</td>\n",
       "      <td>[[, 23:56, ], #jakarta, tol, cawang, -, pancor...</td>\n",
       "      <td>[tol, cawang, pancoran]</td>\n",
       "      <td>[tol, cawang, pancoran]</td>\n",
       "      <td>[tol, cawang, pancoran]</td>\n",
       "      <td>[tol, cawang, pancoran]</td>\n",
       "    </tr>\n",
       "    <tr>\n",
       "      <th>9</th>\n",
       "      <td>[23:56] #JAKARTA Buaran - Cipinang #LANCAR #Ja...</td>\n",
       "      <td>[[, 23:56, ], #jakarta, buaran, -, cipinang, #...</td>\n",
       "      <td>[buaran, cipinang]</td>\n",
       "      <td>[buaran, cipinang]</td>\n",
       "      <td>[buaran]</td>\n",
       "      <td>[buaran]</td>\n",
       "    </tr>\n",
       "  </tbody>\n",
       "</table>\n",
       "</div>"
      ],
      "text/plain": [
       "                                                text  \\\n",
       "0  @agnesberti01 itu kata jata kiasan anak jaman ...   \n",
       "1         @sadbness Klo bulanan kan happy menstruasi   \n",
       "2  Jalan ke warteg aja mas deket, dah gt murah, k...   \n",
       "3                              Siapin lilin dulu dah   \n",
       "4       #DebatCapresJICT \\n#asingkuasaipelabuhanJICT   \n",
       "5  quote quote \\n\\n\" hasil tidak akan mengkhianat...   \n",
       "6  [23:56] #JAKARTA Tol Tomang - Karang Tengah - ...   \n",
       "7  [23:56] #JAKARTA Tol Cengkareng - Pluit - Toma...   \n",
       "8  [23:56] #JAKARTA Tol Cawang - Pancoran #LANCAR...   \n",
       "9  [23:56] #JAKARTA Buaran - Cipinang #LANCAR #Ja...   \n",
       "\n",
       "                                           tokenized  \\\n",
       "0       [itu, kata, jata, kiasan, anak, jaman, 2012]   \n",
       "1             [klo, bulanan, kan, happy, menstruasi]   \n",
       "2  [jalan, ke, warteg, aja, mas, deket, ,, dah, g...   \n",
       "3                         [siapin, lilin, dulu, dah]   \n",
       "4      [#debatcapresjict, #asingkuasaipelabuhanjict]   \n",
       "5  [quote, quote, \", hasil, tidak, akan, mengkhia...   \n",
       "6  [[, 23:56, ], #jakarta, tol, tomang, -, karang...   \n",
       "7  [[, 23:56, ], #jakarta, tol, cengkareng, -, pl...   \n",
       "8  [[, 23:56, ], #jakarta, tol, cawang, -, pancor...   \n",
       "9  [[, 23:56, ], #jakarta, buaran, -, cipinang, #...   \n",
       "\n",
       "                                          clean_text  \\\n",
       "0       [itu, kata, jata, kiasan, anak, jaman, 2012]   \n",
       "1             [klo, bulanan, kan, happy, menstruasi]   \n",
       "2  [jalan, ke, warteg, aja, mas, deket, dah, gt, ...   \n",
       "3                         [siapin, lilin, dulu, dah]   \n",
       "4                                                 []   \n",
       "5  [quote, quote, hasil, tidak, akan, mengkhianat...   \n",
       "6   [tol, tomang, karang, tengah, tangerang, bitung]   \n",
       "7           [tol, cengkareng, pluit, tomang, cawang]   \n",
       "8                            [tol, cawang, pancoran]   \n",
       "9                                 [buaran, cipinang]   \n",
       "\n",
       "                                   handled_slangword  \\\n",
       "0       [itu, kata, jata, kiasan, anak, zaman, 2012]   \n",
       "1           [kalau, bulanan, kan, happy, menstruasi]   \n",
       "2  [jalan, ke, warteg, saja, mas, dekat, deh, beg...   \n",
       "3                       [siapin, lilin, dahulu, deh]   \n",
       "4                                                 []   \n",
       "5  [quote, quote, hasil, tidak, akan, mengkhianat...   \n",
       "6   [tol, tomang, karang, tengah, tangerang, bitung]   \n",
       "7           [tol, cengkareng, pluit, tomang, cawang]   \n",
       "8                            [tol, cawang, pancoran]   \n",
       "9                                 [buaran, cipinang]   \n",
       "\n",
       "                                   removed_stopwords  \\\n",
       "0                        [jata, kiasan, zaman, 2012]   \n",
       "1                       [bulanan, happy, menstruasi]   \n",
       "2  [jalan, warteg, murah, tidak punya, uang, engg...   \n",
       "3                                    [siapin, lilin]   \n",
       "4                                                 []   \n",
       "5  [quote, quote, hasil, mengkhianati, proses, ny...   \n",
       "6           [tol, tomang, karang, tangerang, bitung]   \n",
       "7           [tol, cengkareng, pluit, tomang, cawang]   \n",
       "8                            [tol, cawang, pancoran]   \n",
       "9                                           [buaran]   \n",
       "\n",
       "                                    stemmed_by_spacy  \n",
       "0                          [jata, kias, zaman, 2012]  \n",
       "1                         [bulan, happy, menstruasi]  \n",
       "2  [jalan, warteg, murah, punya, uang, usah, soka...  \n",
       "3                                    [siapin, lilin]  \n",
       "4                                                 []  \n",
       "5      [quote, quote, hasil, khianat, proses, nyata]  \n",
       "6           [tol, tomang, karang, tangerang, bitung]  \n",
       "7           [tol, cengkareng, pluit, tomang, cawang]  \n",
       "8                            [tol, cawang, pancoran]  \n",
       "9                                           [buaran]  "
      ]
     },
     "execution_count": 115,
     "metadata": {},
     "output_type": "execute_result"
    }
   ],
   "source": [
    "from spacy.lang.id import Indonesian # Import modul spacy bahasa indonesia\n",
    "\n",
    "nlp = Indonesian() # memanggil objek Indonesian() pada modul spacy\n",
    "def stem_spacy(text): # Fungsi untuk mengubah kata-kata menjadi kata dasar\n",
    "    for txt in nlp(text):\n",
    "        t = txt.lemma_\n",
    "    return t\n",
    "data['stemmed_by_spacy'] = list(map(lambda tweet : list(map(lambda word: stem_spacy(word), tweet)), data['removed_stopwords']))\n",
    "#tweetsIn.to_csv(\"data/\" + str(time.time()) + \"_export_clean_text.csv\")\n",
    "data.head(10)"
   ]
  },
  {
   "cell_type": "code",
   "execution_count": 116,
   "metadata": {},
   "outputs": [
    {
     "data": {
      "text/html": [
       "<div>\n",
       "<style scoped>\n",
       "    .dataframe tbody tr th:only-of-type {\n",
       "        vertical-align: middle;\n",
       "    }\n",
       "\n",
       "    .dataframe tbody tr th {\n",
       "        vertical-align: top;\n",
       "    }\n",
       "\n",
       "    .dataframe thead th {\n",
       "        text-align: right;\n",
       "    }\n",
       "</style>\n",
       "<table border=\"1\" class=\"dataframe\">\n",
       "  <thead>\n",
       "    <tr style=\"text-align: right;\">\n",
       "      <th></th>\n",
       "      <th>text</th>\n",
       "      <th>tokenized</th>\n",
       "      <th>clean_text</th>\n",
       "      <th>handled_slangword</th>\n",
       "      <th>removed_stopwords</th>\n",
       "      <th>stemmed_by_spacy</th>\n",
       "      <th>dataset</th>\n",
       "    </tr>\n",
       "  </thead>\n",
       "  <tbody>\n",
       "    <tr>\n",
       "      <th>0</th>\n",
       "      <td>@agnesberti01 itu kata jata kiasan anak jaman ...</td>\n",
       "      <td>[itu, kata, jata, kiasan, anak, jaman, 2012]</td>\n",
       "      <td>[itu, kata, jata, kiasan, anak, jaman, 2012]</td>\n",
       "      <td>[itu, kata, jata, kiasan, anak, zaman, 2012]</td>\n",
       "      <td>[jata, kiasan, zaman, 2012]</td>\n",
       "      <td>[jata, kias, zaman, 2012]</td>\n",
       "      <td>jata kiasan zaman 2012</td>\n",
       "    </tr>\n",
       "    <tr>\n",
       "      <th>1</th>\n",
       "      <td>@sadbness Klo bulanan kan happy menstruasi</td>\n",
       "      <td>[klo, bulanan, kan, happy, menstruasi]</td>\n",
       "      <td>[klo, bulanan, kan, happy, menstruasi]</td>\n",
       "      <td>[kalau, bulanan, kan, happy, menstruasi]</td>\n",
       "      <td>[bulanan, happy, menstruasi]</td>\n",
       "      <td>[bulan, happy, menstruasi]</td>\n",
       "      <td>bulanan happy menstruasi</td>\n",
       "    </tr>\n",
       "    <tr>\n",
       "      <th>2</th>\n",
       "      <td>Jalan ke warteg aja mas deket, dah gt murah, k...</td>\n",
       "      <td>[jalan, ke, warteg, aja, mas, deket, ,, dah, g...</td>\n",
       "      <td>[jalan, ke, warteg, aja, mas, deket, dah, gt, ...</td>\n",
       "      <td>[jalan, ke, warteg, saja, mas, dekat, deh, beg...</td>\n",
       "      <td>[jalan, warteg, murah, tidak punya, uang, engg...</td>\n",
       "      <td>[jalan, warteg, murah, punya, uang, usah, soka...</td>\n",
       "      <td>jalan warteg murah tidak punya uang enggak usa...</td>\n",
       "    </tr>\n",
       "    <tr>\n",
       "      <th>3</th>\n",
       "      <td>Siapin lilin dulu dah</td>\n",
       "      <td>[siapin, lilin, dulu, dah]</td>\n",
       "      <td>[siapin, lilin, dulu, dah]</td>\n",
       "      <td>[siapin, lilin, dahulu, deh]</td>\n",
       "      <td>[siapin, lilin]</td>\n",
       "      <td>[siapin, lilin]</td>\n",
       "      <td>siapin lilin</td>\n",
       "    </tr>\n",
       "    <tr>\n",
       "      <th>4</th>\n",
       "      <td>#DebatCapresJICT \\n#asingkuasaipelabuhanJICT</td>\n",
       "      <td>[#debatcapresjict, #asingkuasaipelabuhanjict]</td>\n",
       "      <td>[]</td>\n",
       "      <td>[]</td>\n",
       "      <td>[]</td>\n",
       "      <td>[]</td>\n",
       "      <td></td>\n",
       "    </tr>\n",
       "    <tr>\n",
       "      <th>5</th>\n",
       "      <td>quote quote \\n\\n\" hasil tidak akan mengkhianat...</td>\n",
       "      <td>[quote, quote, \", hasil, tidak, akan, mengkhia...</td>\n",
       "      <td>[quote, quote, hasil, tidak, akan, mengkhianat...</td>\n",
       "      <td>[quote, quote, hasil, tidak, akan, mengkhianat...</td>\n",
       "      <td>[quote, quote, hasil, mengkhianati, proses, ny...</td>\n",
       "      <td>[quote, quote, hasil, khianat, proses, nyata]</td>\n",
       "      <td>quote quote hasil mengkhianati proses nyata</td>\n",
       "    </tr>\n",
       "    <tr>\n",
       "      <th>6</th>\n",
       "      <td>[23:56] #JAKARTA Tol Tomang - Karang Tengah - ...</td>\n",
       "      <td>[[, 23:56, ], #jakarta, tol, tomang, -, karang...</td>\n",
       "      <td>[tol, tomang, karang, tengah, tangerang, bitung]</td>\n",
       "      <td>[tol, tomang, karang, tengah, tangerang, bitung]</td>\n",
       "      <td>[tol, tomang, karang, tangerang, bitung]</td>\n",
       "      <td>[tol, tomang, karang, tangerang, bitung]</td>\n",
       "      <td>tol tomang karang tangerang bitung</td>\n",
       "    </tr>\n",
       "    <tr>\n",
       "      <th>7</th>\n",
       "      <td>[23:56] #JAKARTA Tol Cengkareng - Pluit - Toma...</td>\n",
       "      <td>[[, 23:56, ], #jakarta, tol, cengkareng, -, pl...</td>\n",
       "      <td>[tol, cengkareng, pluit, tomang, cawang]</td>\n",
       "      <td>[tol, cengkareng, pluit, tomang, cawang]</td>\n",
       "      <td>[tol, cengkareng, pluit, tomang, cawang]</td>\n",
       "      <td>[tol, cengkareng, pluit, tomang, cawang]</td>\n",
       "      <td>tol cengkareng pluit tomang cawang</td>\n",
       "    </tr>\n",
       "    <tr>\n",
       "      <th>8</th>\n",
       "      <td>[23:56] #JAKARTA Tol Cawang - Pancoran #LANCAR...</td>\n",
       "      <td>[[, 23:56, ], #jakarta, tol, cawang, -, pancor...</td>\n",
       "      <td>[tol, cawang, pancoran]</td>\n",
       "      <td>[tol, cawang, pancoran]</td>\n",
       "      <td>[tol, cawang, pancoran]</td>\n",
       "      <td>[tol, cawang, pancoran]</td>\n",
       "      <td>tol cawang pancoran</td>\n",
       "    </tr>\n",
       "    <tr>\n",
       "      <th>9</th>\n",
       "      <td>[23:56] #JAKARTA Buaran - Cipinang #LANCAR #Ja...</td>\n",
       "      <td>[[, 23:56, ], #jakarta, buaran, -, cipinang, #...</td>\n",
       "      <td>[buaran, cipinang]</td>\n",
       "      <td>[buaran, cipinang]</td>\n",
       "      <td>[buaran]</td>\n",
       "      <td>[buaran]</td>\n",
       "      <td>buaran</td>\n",
       "    </tr>\n",
       "  </tbody>\n",
       "</table>\n",
       "</div>"
      ],
      "text/plain": [
       "                                                text  \\\n",
       "0  @agnesberti01 itu kata jata kiasan anak jaman ...   \n",
       "1         @sadbness Klo bulanan kan happy menstruasi   \n",
       "2  Jalan ke warteg aja mas deket, dah gt murah, k...   \n",
       "3                              Siapin lilin dulu dah   \n",
       "4       #DebatCapresJICT \\n#asingkuasaipelabuhanJICT   \n",
       "5  quote quote \\n\\n\" hasil tidak akan mengkhianat...   \n",
       "6  [23:56] #JAKARTA Tol Tomang - Karang Tengah - ...   \n",
       "7  [23:56] #JAKARTA Tol Cengkareng - Pluit - Toma...   \n",
       "8  [23:56] #JAKARTA Tol Cawang - Pancoran #LANCAR...   \n",
       "9  [23:56] #JAKARTA Buaran - Cipinang #LANCAR #Ja...   \n",
       "\n",
       "                                           tokenized  \\\n",
       "0       [itu, kata, jata, kiasan, anak, jaman, 2012]   \n",
       "1             [klo, bulanan, kan, happy, menstruasi]   \n",
       "2  [jalan, ke, warteg, aja, mas, deket, ,, dah, g...   \n",
       "3                         [siapin, lilin, dulu, dah]   \n",
       "4      [#debatcapresjict, #asingkuasaipelabuhanjict]   \n",
       "5  [quote, quote, \", hasil, tidak, akan, mengkhia...   \n",
       "6  [[, 23:56, ], #jakarta, tol, tomang, -, karang...   \n",
       "7  [[, 23:56, ], #jakarta, tol, cengkareng, -, pl...   \n",
       "8  [[, 23:56, ], #jakarta, tol, cawang, -, pancor...   \n",
       "9  [[, 23:56, ], #jakarta, buaran, -, cipinang, #...   \n",
       "\n",
       "                                          clean_text  \\\n",
       "0       [itu, kata, jata, kiasan, anak, jaman, 2012]   \n",
       "1             [klo, bulanan, kan, happy, menstruasi]   \n",
       "2  [jalan, ke, warteg, aja, mas, deket, dah, gt, ...   \n",
       "3                         [siapin, lilin, dulu, dah]   \n",
       "4                                                 []   \n",
       "5  [quote, quote, hasil, tidak, akan, mengkhianat...   \n",
       "6   [tol, tomang, karang, tengah, tangerang, bitung]   \n",
       "7           [tol, cengkareng, pluit, tomang, cawang]   \n",
       "8                            [tol, cawang, pancoran]   \n",
       "9                                 [buaran, cipinang]   \n",
       "\n",
       "                                   handled_slangword  \\\n",
       "0       [itu, kata, jata, kiasan, anak, zaman, 2012]   \n",
       "1           [kalau, bulanan, kan, happy, menstruasi]   \n",
       "2  [jalan, ke, warteg, saja, mas, dekat, deh, beg...   \n",
       "3                       [siapin, lilin, dahulu, deh]   \n",
       "4                                                 []   \n",
       "5  [quote, quote, hasil, tidak, akan, mengkhianat...   \n",
       "6   [tol, tomang, karang, tengah, tangerang, bitung]   \n",
       "7           [tol, cengkareng, pluit, tomang, cawang]   \n",
       "8                            [tol, cawang, pancoran]   \n",
       "9                                 [buaran, cipinang]   \n",
       "\n",
       "                                   removed_stopwords  \\\n",
       "0                        [jata, kiasan, zaman, 2012]   \n",
       "1                       [bulanan, happy, menstruasi]   \n",
       "2  [jalan, warteg, murah, tidak punya, uang, engg...   \n",
       "3                                    [siapin, lilin]   \n",
       "4                                                 []   \n",
       "5  [quote, quote, hasil, mengkhianati, proses, ny...   \n",
       "6           [tol, tomang, karang, tangerang, bitung]   \n",
       "7           [tol, cengkareng, pluit, tomang, cawang]   \n",
       "8                            [tol, cawang, pancoran]   \n",
       "9                                           [buaran]   \n",
       "\n",
       "                                    stemmed_by_spacy  \\\n",
       "0                          [jata, kias, zaman, 2012]   \n",
       "1                         [bulan, happy, menstruasi]   \n",
       "2  [jalan, warteg, murah, punya, uang, usah, soka...   \n",
       "3                                    [siapin, lilin]   \n",
       "4                                                 []   \n",
       "5      [quote, quote, hasil, khianat, proses, nyata]   \n",
       "6           [tol, tomang, karang, tangerang, bitung]   \n",
       "7           [tol, cengkareng, pluit, tomang, cawang]   \n",
       "8                            [tol, cawang, pancoran]   \n",
       "9                                           [buaran]   \n",
       "\n",
       "                                             dataset  \n",
       "0                             jata kiasan zaman 2012  \n",
       "1                           bulanan happy menstruasi  \n",
       "2  jalan warteg murah tidak punya uang enggak usa...  \n",
       "3                                       siapin lilin  \n",
       "4                                                     \n",
       "5        quote quote hasil mengkhianati proses nyata  \n",
       "6                 tol tomang karang tangerang bitung  \n",
       "7                 tol cengkareng pluit tomang cawang  \n",
       "8                                tol cawang pancoran  \n",
       "9                                             buaran  "
      ]
     },
     "execution_count": 116,
     "metadata": {},
     "output_type": "execute_result"
    }
   ],
   "source": [
    "data['dataset'] = list(map(lambda tweet : ' '.join(tweet), data['removed_stopwords']))\n",
    "data.head(10)"
   ]
  },
  {
   "cell_type": "code",
   "execution_count": 119,
   "metadata": {},
   "outputs": [],
   "source": [
    "vectorizer = TfidfVectorizer()\n",
    "X = vectorizer.fit_transform(data['dataset'])\n",
    "words = vectorizer.get_feature_names()\n"
   ]
  },
  {
   "cell_type": "code",
   "execution_count": 120,
   "metadata": {},
   "outputs": [
    {
     "name": "stdout",
     "output_type": "stream",
     "text": [
      "0 : pagi, banget, allah, tidur, selamat, sayang, suka, amin, pakai, semoga, ku, kasih, keren, semangat, 2019, morning, imam, terima, coba, makan, lihat, 2013, mahdi, foto, kerja\n",
      "1 : 668, 6287788719, sms, asli, 100, beli, wak, jambang, doyok, manfaat, krim, rambut, membantu, pemesanan, tanggap, pembelian, mempercepat, pe, berbelanja, cepat, po, terima, kasih, choirose, parfum\n",
      "2 : tol, cawang, tomang, tmii, pancoran, pluit, ranji, serpong, ulujami, tangerang, ciawi, bitung, karang, cikunir, bogor, tebet, cengkareng, semper, cakung, halim, kuningan, jatiwaringin, bintaro, kapuk, bekasi\n"
     ]
    }
   ],
   "source": [
    "def print_k_means(data, n_kelas = 3):\n",
    "    kmeans = KMeans(n_clusters = n_kelas, n_init = 20, n_jobs = 1)\n",
    "    kmeans.fit(data)\n",
    "    common_words = kmeans.cluster_centers_.argsort()[:,-1:-26:-1]\n",
    "    for num, centroid in enumerate(common_words):\n",
    "        print(str(num) + ' : ' + ', '.join(words[word] for word in centroid))\n",
    "print_k_means(X)"
   ]
  },
  {
   "cell_type": "code",
   "execution_count": 121,
   "metadata": {},
   "outputs": [
    {
     "name": "stdout",
     "output_type": "stream",
     "text": [
      "0 : pagi, allah, tidur, selamat, sayang, amin, pakai, semoga, kasih, ku, keren, semangat, 2019, morning, imam, 2013, mahdi, terima, makan, lihat, yuk, kerja, foto, coba, wkwkwk\n",
      "1 : 668, 6287788719, sms, asli, 100, beli, wak, jambang, doyok, manfaat, krim, rambut, membantu, pemesanan, tanggap, pembelian, mempercepat, pe, berbelanja, cepat, po, terima, kasih, choirose, parfum\n",
      "2 : tol, cawang, tomang, tmii, pancoran, pluit, ranji, serpong, ulujami, tangerang, ciawi, bitung, karang, cikunir, bogor, tebet, cengkareng, semper, cakung, halim, kuningan, jatiwaringin, bintaro, kapuk, bekasi\n",
      "3 : suka, kadang, keributan, lagu, wanita, menghina, memaafkan, kesalahan, hahah, pel, kereta, takut, doi, pagi, jems, banggg, ngeremehin, mengetik, lihatnya, sese, kesalahannya, banget, bingung, monyet, merapat\n",
      "4 : banget, bodoh, kantuk, wkwkwkw, pagi, bagus, susah, enak, sakit, kepala, parah, sexy, iri, lemes, laper, kereta, maksimal, coba, ribet, merem, menonton, berat, keren, tertawa, habis\n"
     ]
    }
   ],
   "source": [
    "print_k_means(X, 5)"
   ]
  },
  {
   "cell_type": "code",
   "execution_count": 122,
   "metadata": {},
   "outputs": [
    {
     "name": "stdout",
     "output_type": "stream",
     "text": [
      "0 : pagi, selamat, semangat, bangun, sahabat, ku, kopi, manis, bismillah, beraktivitas, beraktifitas, masuk, mencoba, semoga, kerja, sayang, ladies, makan, pencitraan, nusantara, tidur, pejuang, suka, mengajak, lupa\n",
      "1 : allah, tidur, kasih, sayang, suka, terima, pakai, amin, semoga, keren, ku, beli, sms, 2019, 668, 6287788719, morning, cepat, foto, makan, lihat, wkwkwk, coba, dm, rumah\n",
      "2 : banget, bodoh, kantuk, wkwkwkw, bagus, susah, sakit, enak, parah, kepala, sexy, lemes, maksimal, coba, ribet, pagi, merem, menonton, berat, keren, tertawa, habis, ramai, maaf, keras\n",
      "3 : kawan, selamat, berjuang, pusing, ponakan, debat, lupa, support, mantan, lihat, kepala, semangat, sagne, brader, sarapan, titipkan, kelebihan, depay, pogba, balotelli, dumbass, lesson, sterling, pendamping, kekurangan\n",
      "4 : tol, cawang, tomang, tmii, pancoran, pluit, ranji, serpong, ulujami, tangerang, ciawi, bitung, karang, cikunir, bogor, tebet, cengkareng, semper, cakung, halim, kuningan, jatiwaringin, bintaro, kapuk, bekasi\n",
      "5 : mahdi, imam, 2016, mohammed, 2014, bayan, naser, nasser, 2013, muntadhar, video, allah, balasan, ipb, dramaga, fri, street, 2017, kampus, jati, yamani, city, 22, muhammad, mengumumkan\n",
      "6 : open, hubungan, pijat, panggilan, 08596055779, bo, area, massage, avail, anal, wajib, caps, info, jakarta, slot, camsex, order, cekbio, toge, members, berbayar, booking, wtc, lover, selatan\n"
     ]
    }
   ],
   "source": [
    "print_k_means(X, 7)"
   ]
  },
  {
   "cell_type": "code",
   "execution_count": null,
   "metadata": {},
   "outputs": [
    {
     "name": "stdout",
     "output_type": "stream",
     "text": [
      "0 : kwwkwk, holiday, uts, happy, selamat, happiness, harcomas, harapkan, harapan, harap, haram, haq, hapus, 𝒯𝒶𝒽𝓉𝒶, hardcore, happiest, happie, happening, happened, hapenya, hape, hapalan, hapalaah, hanyut, hard\n",
      "1 : meme, kiriman, mengirim, lucu, 𝒯𝒶𝒽𝓉𝒶, happy, harcomas, harapkan, harapan, harap, haram, haq, hapus, happiness, hardcore, happiest, happie, happening, happened, hapenya, hape, hapalan, hapalaah, hard, hare\n",
      "2 : banget, allah, tidur, kasih, sayang, suka, tol, terima, pakai, keren, semoga, ku, beli, 2019, imam, sms, 6287788719, 668, morning, coba, 2013, mahdi, lihat, foto, wkwkwk\n",
      "3 : kemenangan, sebentar, mekah, 2015, hapus, hard, harcomas, harapkan, harapan, harap, haram, haq, happy, happiness, happiest, happie, happening, happened, hapenya, hape, hapalan, hapalaah, hardcore, hardisk, hanyeeng\n",
      "4 : cawang, tol, pancoran, tmii, ciawi, bogor, tebet, cengkareng, pluit, tomang, halim, kuningan, cikunir, cikampek, bening, kebun, nanas, jati, cililitan, tangerang, cikarang, sunter, cempaka, putih, hemat\n",
      "5 : amin, yra, allah, nuhun, paman, yaallah, insha, berjuang, haturnuhun, 20jt, yuk, utamanamah, selamat, allahumma, gurasiya, goodluck, insya, kwkw, matinya, hoak, sholat, allahuma, doakan, supportna, hatur\n",
      "6 : blok, menyambung, hare, hardcore, hard, harcomas, harapkan, harapan, harap, haram, haq, hapus, happy, happiness, happiest, happie, happening, happened, hapenya, hape, hapalan, hardisk, harg, hanyut, harga\n",
      "7 : pagi, selamat, semangat, bangun, sahabat, kopi, banget, kawan, ku, manis, bismillah, beraktivitas, beraktifitas, masuk, lupa, semoga, morning, kerja, sayang, ladies, makan, pencitraan, nusantara, tidur, pejuang\n",
      "8 : pijat, 08596055779, panggilan, hubungan, open, area, order, panggiln, massage, apartement, menggairahakan, perasakan, pijetan, kenikmatan, menerima, hotel, silakan, reflexy, payudara, vagina, yoni, sensual, tantra, hapus, happy\n"
     ]
    }
   ],
   "source": [
    "print_k_means(X, 9)"
   ]
  },
  {
   "cell_type": "code",
   "execution_count": null,
   "metadata": {},
   "outputs": [],
   "source": [
    "wcss = []\n",
    "for i in range(1,11):\n",
    "    kmeans = KMeans(n_clusters=i,init='k-means++',max_iter=300,n_init=10,random_state=0)\n",
    "    kmeans.fit(X)\n",
    "    wcss.append(kmeans.inertia_)\n",
    "plt.plot(range(1,11),wcss)\n",
    "plt.title('The Elbow Method')\n",
    "plt.xlabel('Number of clusters')\n",
    "plt.ylabel('WCSS')\n",
    "plt.savefig('elbow.png')\n",
    "plt.show()"
   ]
  }
 ],
 "metadata": {
  "kernelspec": {
   "display_name": "Python 3",
   "language": "python",
   "name": "python3"
  },
  "language_info": {
   "codemirror_mode": {
    "name": "ipython",
    "version": 3
   },
   "file_extension": ".py",
   "mimetype": "text/x-python",
   "name": "python",
   "nbconvert_exporter": "python",
   "pygments_lexer": "ipython3",
   "version": "3.6.8"
  }
 },
 "nbformat": 4,
 "nbformat_minor": 1
}

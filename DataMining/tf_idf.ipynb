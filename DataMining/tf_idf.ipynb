{
 "cells": [
  {
   "cell_type": "code",
   "execution_count": 1,
   "metadata": {},
   "outputs": [],
   "source": [
    "text1 = \"the car is driven on the road\"\n",
    "text2 = \"the truck is driven on the highway\"\n",
    "text1 = text1.split(\" \")\n",
    "text2 = text2.split(\" \")\n",
    "\n",
    "word_set = set(text1).union(set(text2))\n",
    "word_dictA = dict.fromkeys(word_set, 0)\n",
    "word_dictB = dict.fromkeys(word_set, 0)"
   ]
  },
  {
   "cell_type": "code",
   "execution_count": 2,
   "metadata": {},
   "outputs": [],
   "source": [
    "def menghitung_tf(word_dict, text):\n",
    "    tf_dict = {}\n",
    "    for word in text:\n",
    "        word_dict[word] += 1\n",
    "\n",
    "    text_count = len(text)\n",
    "    for word, count in word_dict.items():\n",
    "        tf_dict[word] = count/float(text_count)\n",
    "    return tf_dict"
   ]
  },
  {
   "cell_type": "code",
   "execution_count": 3,
   "metadata": {},
   "outputs": [
    {
     "data": {
      "text/plain": [
       "{'driven': 0.14285714285714285,\n",
       " 'the': 0.2857142857142857,\n",
       " 'road': 0.14285714285714285,\n",
       " 'truck': 0.0,\n",
       " 'highway': 0.0,\n",
       " 'on': 0.14285714285714285,\n",
       " 'car': 0.14285714285714285,\n",
       " 'is': 0.14285714285714285}"
      ]
     },
     "execution_count": 3,
     "metadata": {},
     "output_type": "execute_result"
    }
   ],
   "source": [
    "tfA = menghitung_tf(word_dictA, text1)\n",
    "tfA"
   ]
  },
  {
   "cell_type": "code",
   "execution_count": 4,
   "metadata": {},
   "outputs": [
    {
     "data": {
      "text/plain": [
       "{'driven': 0.14285714285714285,\n",
       " 'the': 0.2857142857142857,\n",
       " 'road': 0.0,\n",
       " 'truck': 0.14285714285714285,\n",
       " 'highway': 0.14285714285714285,\n",
       " 'on': 0.14285714285714285,\n",
       " 'car': 0.0,\n",
       " 'is': 0.14285714285714285}"
      ]
     },
     "execution_count": 4,
     "metadata": {},
     "output_type": "execute_result"
    }
   ],
   "source": [
    "tfB = menghitung_tf(word_dictB, text2)\n",
    "tfB"
   ]
  },
  {
   "cell_type": "code",
   "execution_count": 5,
   "metadata": {},
   "outputs": [
    {
     "data": {
      "text/html": [
       "<div>\n",
       "<style scoped>\n",
       "    .dataframe tbody tr th:only-of-type {\n",
       "        vertical-align: middle;\n",
       "    }\n",
       "\n",
       "    .dataframe tbody tr th {\n",
       "        vertical-align: top;\n",
       "    }\n",
       "\n",
       "    .dataframe thead th {\n",
       "        text-align: right;\n",
       "    }\n",
       "</style>\n",
       "<table border=\"1\" class=\"dataframe\">\n",
       "  <thead>\n",
       "    <tr style=\"text-align: right;\">\n",
       "      <th></th>\n",
       "      <th>car</th>\n",
       "      <th>driven</th>\n",
       "      <th>highway</th>\n",
       "      <th>is</th>\n",
       "      <th>on</th>\n",
       "      <th>road</th>\n",
       "      <th>the</th>\n",
       "      <th>truck</th>\n",
       "    </tr>\n",
       "  </thead>\n",
       "  <tbody>\n",
       "    <tr>\n",
       "      <th>0</th>\n",
       "      <td>1</td>\n",
       "      <td>1</td>\n",
       "      <td>0</td>\n",
       "      <td>1</td>\n",
       "      <td>1</td>\n",
       "      <td>1</td>\n",
       "      <td>2</td>\n",
       "      <td>0</td>\n",
       "    </tr>\n",
       "    <tr>\n",
       "      <th>1</th>\n",
       "      <td>0</td>\n",
       "      <td>1</td>\n",
       "      <td>1</td>\n",
       "      <td>1</td>\n",
       "      <td>1</td>\n",
       "      <td>0</td>\n",
       "      <td>2</td>\n",
       "      <td>1</td>\n",
       "    </tr>\n",
       "  </tbody>\n",
       "</table>\n",
       "</div>"
      ],
      "text/plain": [
       "   car  driven  highway  is  on  road  the  truck\n",
       "0    1       1        0   1   1     1    2      0\n",
       "1    0       1        1   1   1     0    2      1"
      ]
     },
     "execution_count": 5,
     "metadata": {},
     "output_type": "execute_result"
    }
   ],
   "source": [
    "import pandas as pd\n",
    "pd.DataFrame([word_dictA, word_dictB])"
   ]
  },
  {
   "cell_type": "code",
   "execution_count": 6,
   "metadata": {},
   "outputs": [],
   "source": [
    "import math\n",
    "word_dict_list = [word_dictA, word_dictB]\n",
    "\n",
    "def menghitung_idf(doc_list):\n",
    "    idf_dict = {}\n",
    "    N = len(doc_list)\n",
    "\n",
    "    idf_dict = dict.fromkeys(doc_list[0].keys(), 0)\n",
    "    for doc in doc_list:\n",
    "        for word, val in doc.items():\n",
    "            if val > 0:\n",
    "                idf_dict[word] += 1\n",
    "    \n",
    "    for word, val in idf_dict.items():\n",
    "        idf_dict[word] = math.log10(N / float(val))\n",
    "\n",
    "    return idf_dict "
   ]
  },
  {
   "cell_type": "code",
   "execution_count": 7,
   "metadata": {},
   "outputs": [],
   "source": [
    "idf_word = menghitung_idf(word_dict_list)"
   ]
  },
  {
   "cell_type": "code",
   "execution_count": 8,
   "metadata": {},
   "outputs": [],
   "source": [
    "def menghitung_tf_idf(tf, idf):\n",
    "    tfidf = {}\n",
    "    for word, val in tf.items():\n",
    "        tfidf[word] = val*idf[word]\n",
    "    return tfidf"
   ]
  },
  {
   "cell_type": "code",
   "execution_count": 9,
   "metadata": {},
   "outputs": [],
   "source": [
    "tfidfA = menghitung_tf_idf(tfA, idf_word)\n",
    "tfidfB = menghitung_tf_idf(tfB, idf_word)"
   ]
  },
  {
   "cell_type": "code",
   "execution_count": 10,
   "metadata": {},
   "outputs": [
    {
     "data": {
      "text/html": [
       "<div>\n",
       "<style scoped>\n",
       "    .dataframe tbody tr th:only-of-type {\n",
       "        vertical-align: middle;\n",
       "    }\n",
       "\n",
       "    .dataframe tbody tr th {\n",
       "        vertical-align: top;\n",
       "    }\n",
       "\n",
       "    .dataframe thead th {\n",
       "        text-align: right;\n",
       "    }\n",
       "</style>\n",
       "<table border=\"1\" class=\"dataframe\">\n",
       "  <thead>\n",
       "    <tr style=\"text-align: right;\">\n",
       "      <th></th>\n",
       "      <th>car</th>\n",
       "      <th>driven</th>\n",
       "      <th>highway</th>\n",
       "      <th>is</th>\n",
       "      <th>on</th>\n",
       "      <th>road</th>\n",
       "      <th>the</th>\n",
       "      <th>truck</th>\n",
       "    </tr>\n",
       "  </thead>\n",
       "  <tbody>\n",
       "    <tr>\n",
       "      <th>0</th>\n",
       "      <td>0.043004</td>\n",
       "      <td>0.0</td>\n",
       "      <td>0.000000</td>\n",
       "      <td>0.0</td>\n",
       "      <td>0.0</td>\n",
       "      <td>0.043004</td>\n",
       "      <td>0.0</td>\n",
       "      <td>0.000000</td>\n",
       "    </tr>\n",
       "    <tr>\n",
       "      <th>1</th>\n",
       "      <td>0.000000</td>\n",
       "      <td>0.0</td>\n",
       "      <td>0.043004</td>\n",
       "      <td>0.0</td>\n",
       "      <td>0.0</td>\n",
       "      <td>0.000000</td>\n",
       "      <td>0.0</td>\n",
       "      <td>0.043004</td>\n",
       "    </tr>\n",
       "  </tbody>\n",
       "</table>\n",
       "</div>"
      ],
      "text/plain": [
       "        car  driven   highway   is   on      road  the     truck\n",
       "0  0.043004     0.0  0.000000  0.0  0.0  0.043004  0.0  0.000000\n",
       "1  0.000000     0.0  0.043004  0.0  0.0  0.000000  0.0  0.043004"
      ]
     },
     "execution_count": 10,
     "metadata": {},
     "output_type": "execute_result"
    }
   ],
   "source": [
    "def create_dataframe_tf_idf(tweets_list, total_tweets):\n",
    "\n",
    "    wordcloud = []\n",
    "    for tweet in tweets_list[:total_tweets]:\n",
    "        wordcloud += tweet\n",
    "\n",
    "    term_tf_idf = pd.DataFrame()\n",
    "    term_tf_idf['term'] = list(dict.fromkeys(wordcloud))\n",
    "\n",
    "    total_words_in_tweets = len(term_tf_idf['term'])\n",
    "\n",
    "    for i in range(total_tweets):\n",
    "        name = 'tf_text_' + str(i+1)\n",
    "        term_tf_idf[name] = list(map(lambda tweet: tweets_list[i].count(tweet), term_tf_idf['term']))\n",
    "\n",
    "    idf = []\n",
    "    tf_idf = []\n",
    "    for i in range(total_words_in_tweets):\n",
    "        val = 0\n",
    "        for j in range(total_tweets):\n",
    "            name = 'tf_text_' + str(j+1)\n",
    "            if float(term_tf_idf[name][i]) > 0:\n",
    "                val += 1\n",
    "        \n",
    "        idf.append(math.log10(total_tweets / float(val)))\n",
    "    \n",
    "    for  in range(total_tweets):\n",
    "        name = 'tf_idf_text_' + str(i+1)\n",
    "\n",
    "    term_tf_idf['idf_tweet'] = idf\n",
    "\n",
    "    return term_tf_idf"
   ]
  }
 ],
 "metadata": {
  "kernelspec": {
   "display_name": "Python 3",
   "language": "python",
   "name": "python3"
  },
  "language_info": {
   "codemirror_mode": {
    "name": "ipython",
    "version": 3
   },
   "file_extension": ".py",
   "mimetype": "text/x-python",
   "name": "python",
   "nbconvert_exporter": "python",
   "pygments_lexer": "ipython3",
   "version": "3.6.8"
  }
 },
 "nbformat": 4,
 "nbformat_minor": 2
}

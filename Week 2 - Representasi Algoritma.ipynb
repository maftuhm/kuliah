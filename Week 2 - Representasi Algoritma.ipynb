{
 "cells": [
  {
   "cell_type": "markdown",
   "metadata": {
    "slideshow": {
     "slide_type": "slide"
    }
   },
   "source": [
    "<center><strong><h1>Algoritma dan Pemrograman</h1></strong><br />\n",
    "<strong><font color=\"blue\"><h2>II. Representasi Algoritma</h2></font></strong></center>\n",
    "\n",
    "<img alt=\"\" src=\"images/0_Cover_AlProgStat.jpg\" style=\"width: 800px; height: 130px;\" />\n",
    "<center>\n",
    "<h2>(C) Taufik Sutanto</h2>\n",
    "<h2>Semester Genap 2019</h2>\n",
    "</center>\n"
   ]
  },
  {
   "cell_type": "markdown",
   "metadata": {
    "slideshow": {
     "slide_type": "slide"
    }
   },
   "source": [
    "<h1 id=\"Outline-Week-II-:\"><font color=\"blue\">Outline Week II :</font></h1>\n",
    "\n",
    "<ol>\n",
    "\t<li>About Python Jupyter Notebook</li>\n",
    "\t<li>Review pendahuluan algoritma</li>\n",
    "\t<li>PseudoCode</li>\n",
    "\t<li>FlowChart</li>\n",
    "\t<li>Latihan</li>\n",
    "</ol>\n"
   ]
  },
  {
   "cell_type": "markdown",
   "metadata": {
    "slideshow": {
     "slide_type": "slide"
    }
   },
   "source": [
    "# <font color=\"blue\"> First Thing First </font>\n",
    "How to use this (, past, and future) notes\n",
    "\n",
    "1. Install Python (Anaconda atau WinPython)\n",
    "2. Disarankan install ke root folder (**C:\\**)\n",
    "3. Extract file **lecture notes** (extract here) ke folder **notebooks**. <br /> Misal **C:\\WinPython\\notebooks\\**\n",
    "4. Jalankan **Jupyter notebook.exe** (tunggu sebentar, sebuah browser internet dan sebuah page akan terbuka)\n",
    "5. Pilih (klik) lecture note yang akan dibuka.\n",
    "6. Tons of Jupyter notebook tutorials on the internet, find one that you like and go through it.\n",
    "7. Let me show you some simple stuff here"
   ]
  },
  {
   "cell_type": "code",
   "execution_count": null,
   "metadata": {
    "slideshow": {
     "slide_type": "slide"
    }
   },
   "outputs": [],
   "source": [
    "# Some examples of how to use Jupyter"
   ]
  },
  {
   "cell_type": "markdown",
   "metadata": {
    "slideshow": {
     "slide_type": "slide"
    }
   },
   "source": [
    "# <font color=\"blue\"> Review Pendahuluan Algoritma </font>\n",
    "\n",
    "* **Definisi**: \n",
    " - *well-defined*: Langkah-langkah (statements/instruksi/perintah) logis, sistematis, dan jelas.\n",
    " - *Finiteness*: Langkahnya berhingga\n",
    " - merubah input menjadi suatu output yang diinginkan\n",
    " - *effectiveness*:Menyelesaikan suatu permasalahan\n",
    "* **Sifat**:\n",
    " - Tidak bergantung bahasa pemrograman\n",
    " - Kebenarannya universal dan berlaku untuk setiap input elemen domain\n",
    "* **Kompleksitas**:\n",
    " - Time/Computational Complexity\n",
    " - Space Complexity (memory)"
   ]
  },
  {
   "cell_type": "markdown",
   "metadata": {
    "slideshow": {
     "slide_type": "slide"
    }
   },
   "source": [
    "# <font color=\"blue\"> Program Komputer </font>\n",
    "\n",
    "* **Definisi**: \n",
    " - Teknik komunikasi standar untuk mengekspresikan instruksi kepada komputer\n",
    " - punya tata tulis (syntax) dan aturan tertentu. \n",
    " - Memfasilitasi programmer untuk secara spesifik apa yang akan dilakukan oleh komputer selanjutnya, bagaimana data tersebut disimpan dan dikirim, apa yang akan dilakukan apabila terjadi kondisi yang variatif.\n",
    " - Secara umum bergantung komputer (hardware) dan Operating system.\n",
    "* **Level dalam Pemrograman**:\n",
    " - **Low Level Programming Language**: Lebih dekat dengan bahasa mesin (komputer)\n",
    " - Contoh: Assembler\n",
    " - **High Level Programming Language**: Jauh lebih mudah dimengerti oleh pengguna (manusia)\n",
    " - Contoh: Python, R, Matlab, PHP, Java, C++, etc.\n",
    "* **Tipe**:\n",
    " - **Interpreter**: Setiap baris instruksi dijalankan secara langsung, sehingga kesalahan/error akan muncul sesaat setelah baris tersebut dieksekusi.\n",
    " - Contoh: PHP, R, Python\n",
    " - **Compiler**: Seluruh baris instruksi dirubah terlebih dahulu ke dalam bahasa mesin (compile). Kesalahan (tata bahasa) di suatu tempat akan mengakibatkan program tidak dapat dijalankan seluruhnya.\n",
    " - Contoh: C++, JAVA\n",
    "* **Pemrograman dan Fungsi Tertentu**:\n",
    " - Web: PHP\n",
    " - Web Interactivity: Javascript\n",
    " - Web Visualization (interactive): Node.js\n",
    " - Mobile Apps: Kotlin\n",
    " - Mathematics and Engineering: Matlab\n",
    " - Statistics: R\n",
    " - Multi Purpose: Python"
   ]
  },
  {
   "cell_type": "markdown",
   "metadata": {
    "slideshow": {
     "slide_type": "slide"
    }
   },
   "source": [
    "<p><img alt=\"\" src=\"images/2_Program_Architecture.png\" style=\"width: 637px; height: 680px;\" /></p>\n"
   ]
  },
  {
   "cell_type": "markdown",
   "metadata": {
    "slideshow": {
     "slide_type": "slide"
    }
   },
   "source": [
    "# <font color=\"blue\"> Representasi Algoritma </font>\n",
    "\n",
    "Algoritma setidaknya dapat dinyatakan dalam 3 cara:\n",
    "\n",
    "1. Narasi: Langkah-langkah penyelesaian masalah dilakukan dengan melakukan suatu cerita (ungkapan bahasa sehari-hari). \n",
    " - Contoh : Resep masakan atau manual suatu alat dalam dokumentasi.\n",
    "2. Pseudocode: akan dijelaskan kemudian \n",
    "3. Flowchart: akan dijelaskan kemudian"
   ]
  },
  {
   "cell_type": "markdown",
   "metadata": {
    "slideshow": {
     "slide_type": "slide"
    }
   },
   "source": [
    "<h1 id=\"-Algoritma-direpresentasikan-dengan-Pseudocode-\"><font color=\"blue\">Algoritma direpresentasikan dengan Pseudocode - Styles</font></h1>\n",
    "\n",
    "* Memiliki beberapa format/style yang dipengaruhi oleh bahasa pemrograman\n",
    "* Pseudo = Semu\n",
    "* Sangat disarankan sebagai salah satu langkah sebelum membuat program.\n",
    "* Tidak bergantung bahasa pemrograman, namun terkadang dipengaruhi oleh suatu bahasa pemrograman"
   ]
  },
  {
   "cell_type": "markdown",
   "metadata": {
    "slideshow": {
     "slide_type": "slide"
    }
   },
   "source": [
    "<img alt=\"\" src=\"images/2_Pseudocode_Styles.png\" style=\"width: 800px; height: 392px;\" />"
   ]
  },
  {
   "cell_type": "markdown",
   "metadata": {
    "slideshow": {
     "slide_type": "slide"
    }
   },
   "source": [
    "<h1 id=\"-Algoritma-direpresentasikan-dengan-Pseudocode-\"><font color=\"blue\">Algoritma direpresentasikan dengan Pseudocode - Math Styles</font></h1>\n",
    "\n",
    "<img alt=\"\" src=\"images/2_PseudoCode_Math_Style.png\"/>"
   ]
  },
  {
   "cell_type": "markdown",
   "metadata": {
    "slideshow": {
     "slide_type": "slide"
    }
   },
   "source": [
    "<h1 id=\"-Other Arithmatic Operators-\"><font color=\"blue\">Algoritma direpresentasikan dengan Pseudocode - Other Arithmatic Operators</font></h1>\n",
    "\n",
    "* ^ = pangkat (terkadang ditulis ** )\n",
    "* $\\neq$ terkadang ditulis juga <>\n",
    "* div = pembagi bulat\n",
    "* logical: **not**\n",
    "* Pencabangan dan Perulangan: IF, FOR, WHILE\n",
    "\n",
    "**catatan:** untuk logical dan Syntax; karena cetak tebal sulit untuk dilakukan dalam tulisan tangan, biasanya diganti dengan semua huruf kapital (i.e. AND, OR, NOT, IF, FOR, WHILE)."
   ]
  },
  {
   "cell_type": "markdown",
   "metadata": {
    "slideshow": {
     "slide_type": "slide"
    }
   },
   "source": [
    "# Other Pseudocode Elements:\n",
    "\n",
    "1. Input, Output\n",
    "2. Inisialisasi\n",
    "3. Assignment : $x \\leftarrow 2$\n",
    "4. Return Statement (output)\n",
    "5. Indenting untuk membantu pemahaman algoritma"
   ]
  },
  {
   "cell_type": "markdown",
   "metadata": {
    "slideshow": {
     "slide_type": "slide"
    }
   },
   "source": [
    "<h1 id=\"Algoritma-direpresentasikan-dengan-Pseudocode---Contoh\"><font color=\"blue\">Algoritma direpresentasikan dengan Pseudocode - Contoh</font></h1>\n",
    "\n",
    "<p><font color=\"blue\"><img alt=\"\" src=\"images/2_PseudoCode_eg.png\" style=\"width: 558px; height: 600px;\" /></font></p>\n"
   ]
  },
  {
   "cell_type": "markdown",
   "metadata": {
    "slideshow": {
     "slide_type": "slide"
    }
   },
   "source": [
    "<h1><font color=\"blue\">Latihan 1</font></h1>\n",
    "\n",
    "## Buatlah PseudoCode algoritma minggu lalu, yaitu algoritma untuk menentukan apakah input suatu bilangan bulat X adalah prima atau bukan prima"
   ]
  },
  {
   "cell_type": "markdown",
   "metadata": {
    "slideshow": {
     "slide_type": "slide"
    }
   },
   "source": [
    "<h1><font color=\"blue\">Algoritma direpresentasikan dengan FlowChart</font></h1>\n",
    "\n",
    "* Flowchart (diagram alir) direpresentasikan dengan simbol-simbol khusus dan memiliki urutan bersesuaian dengan arah panah.\n",
    "* Biasanya berorientasi dari atas ke bawah atau kiri ke kanan.\n",
    "* Seringnya digunakan untuk merepresentasikan algoritma suatu urutan langkah pengerjaan ketimbang suatu perhitungan.\n",
    "* Selalu dimulai dengan satu simbol start dan berakhir dengan satu atau lebih simbol akhir (terminator/halt state)\n",
    "* Connector/off-page connector state digunakan untuk flowchart yang dituliskan di lebih dari satu halaman "
   ]
  },
  {
   "cell_type": "markdown",
   "metadata": {
    "slideshow": {
     "slide_type": "slide"
    }
   },
   "source": [
    "<p><img alt=\"\" src=\"images/2_Symbol_FlowChart.png\" style=\"width: 441px; height: 600px;\" /></p>\n"
   ]
  },
  {
   "cell_type": "markdown",
   "metadata": {
    "slideshow": {
     "slide_type": "slide"
    }
   },
   "source": [
    "<p><img alt=\"\" src=\"images/2_Symbol_FlowChart_B.png\" style=\"width: 488px; height: 274px;\" /></p>\n"
   ]
  },
  {
   "cell_type": "markdown",
   "metadata": {
    "slideshow": {
     "slide_type": "slide"
    }
   },
   "source": [
    "<h1 id=\"Loop-in-FlowChart\"><font color=\"blue\">Loop in FlowChart</font></h1>\n",
    "\n",
    "<p><font color=\"blue\"><img alt=\"\" src=\"images/2_Loop_in_FlowChart.png\" style=\"width: 667px; height: 303px;\" /></font></p>\n"
   ]
  },
  {
   "cell_type": "markdown",
   "metadata": {
    "slideshow": {
     "slide_type": "slide"
    }
   },
   "source": [
    "<h1><font color=\"blue\">Algoritma direpresentasikan dengan FlowChart - Contoh</font></h1>\n",
    "\n",
    "<p><font color=\"blue\"><img alt=\"\" src=\"images/2_Contoh_FlowChart.png\" style=\"width: 245px; height: 423px;\" /></font></p>\n"
   ]
  },
  {
   "cell_type": "markdown",
   "metadata": {
    "slideshow": {
     "slide_type": "slide"
    }
   },
   "source": [
    "<h1><font color=\"blue\">Algoritma direpresentasikan dengan FlowChart - Contoh 2</font></h1>\n",
    "\n",
    "<p><font color=\"blue\"><img alt=\"\" src=\"images/2_Contoh_FlowChart_B.png\" /></font></p>\n"
   ]
  },
  {
   "cell_type": "markdown",
   "metadata": {
    "slideshow": {
     "slide_type": "slide"
    }
   },
   "source": [
    "<h1><font color=\"blue\">Latihan 2</font></h1>\n",
    "\n",
    "* Buatlah FlowChart algoritma kita sebelumnya (penentuan bilangan prima dari input bilangan bulat X)"
   ]
  },
  {
   "cell_type": "markdown",
   "metadata": {
    "slideshow": {
     "slide_type": "slide"
    }
   },
   "source": [
    "<h1 id=\"Latihan-3:-Buatlah-Flowchart-Perhitungan-Gaji-berikut\"><font color=\"blue\">Latihan 3: Buatlah Flowchart Perhitungan Gaji berikut</font></h1>\n",
    "\n",
    "<p><font color=\"blue\"><img alt=\"\" src=\"images/2_Latihan_FlowChart.png\" style=\"width: 700px; height: 500px;\" /></font></p>\n"
   ]
  },
  {
   "cell_type": "markdown",
   "metadata": {
    "slideshow": {
     "slide_type": "slide"
    }
   },
   "source": [
    "<h1>End of Week II.</h1>\n",
    "\n",
    "## Next Week: Loop / perulangan\n",
    "\n",
    "<hr />\n",
    "<p>\n",
    "    <img alt=\"\" src=\"images/2_meme_A.jpg\" />\n",
    "</p>\n"
   ]
  }
 ],
 "metadata": {
  "celltoolbar": "Slideshow",
  "kernelspec": {
   "display_name": "Python 3",
   "language": "python",
   "name": "python3"
  },
  "language_info": {
   "codemirror_mode": {
    "name": "ipython",
    "version": 3
   },
   "file_extension": ".py",
   "mimetype": "text/x-python",
   "name": "python",
   "nbconvert_exporter": "python",
   "pygments_lexer": "ipython3",
   "version": "3.6.5"
  }
 },
 "nbformat": 4,
 "nbformat_minor": 2
}

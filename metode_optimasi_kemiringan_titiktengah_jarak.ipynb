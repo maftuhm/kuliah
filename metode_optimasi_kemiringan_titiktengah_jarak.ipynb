{
 "cells": [
  {
   "cell_type": "code",
   "execution_count": 1,
   "metadata": {},
   "outputs": [
    {
     "name": "stdout",
     "output_type": "stream",
     "text": [
      "Kemiringan dari garis yang di bentuk oleh titik (0, 0) dan (3, 4) adalah 1.3333333333333333\n",
      "Titik tengah dari garis yang di bentuk oleh titik (0, 0) dan (3, 4) adalah (1.5, 2.0)\n",
      "Jarak dari titik (0, 0) ke titik (3, 4) adalah 5.0\n"
     ]
    }
   ],
   "source": [
    "# -*- coding: utf-8 -*-\n",
    "\"\"\"\n",
    "Created on Thu Mar 21 15:29:59 2019\n",
    "\n",
    "@author: Maftuh Mashuri\n",
    "\n",
    "\"===== TUGAS ====\"\n",
    "Buat fungsi info(a,b)\n",
    "a dan b adalah titik\n",
    "output:\n",
    "    1. carilah kemiringan\n",
    "    2. titik tengah\n",
    "    3. cari jaraknya\n",
    "\"\"\"\n",
    "\n",
    "import math\n",
    "def info(a,b):\n",
    "    kemiringan = (b[1]-a[1])/(b[0]-a[0])\n",
    "    x_tengah = (b[0]-a[0])/2\n",
    "    y_tengah = (b[1]-a[1])/2\n",
    "    titik_tengah = (x_tengah, y_tengah)\n",
    "    jarak = math.sqrt((b[0]-a[0])**2 + (b[1]-a[1])**2)\n",
    "    print('Kemiringan dari garis yang di bentuk oleh titik', a, 'dan', b, 'adalah', kemiringan)\n",
    "    print('Titik tengah dari garis yang di bentuk oleh titik', a, 'dan', b, 'adalah', titik_tengah)\n",
    "    print('Jarak dari titik', a, 'ke titik', b, 'adalah', jarak)\n",
    "\n",
    "info((0,0), (3,4))"
   ]
  },
  {
   "cell_type": "code",
   "execution_count": null,
   "metadata": {},
   "outputs": [],
   "source": []
  }
 ],
 "metadata": {
  "kernelspec": {
   "display_name": "Python 3",
   "language": "python",
   "name": "python3"
  },
  "language_info": {
   "codemirror_mode": {
    "name": "ipython",
    "version": 3
   },
   "file_extension": ".py",
   "mimetype": "text/x-python",
   "name": "python",
   "nbconvert_exporter": "python",
   "pygments_lexer": "ipython3",
   "version": "3.6.5"
  }
 },
 "nbformat": 4,
 "nbformat_minor": 2
}

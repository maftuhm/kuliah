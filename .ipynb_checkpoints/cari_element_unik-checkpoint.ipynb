{
 "cells": [
  {
   "cell_type": "code",
   "execution_count": 3,
   "metadata": {},
   "outputs": [
    {
     "name": "stdout",
     "output_type": "stream",
     "text": [
      "Elemen unik pada kedua list A dan B adalah : ['f']\n"
     ]
    }
   ],
   "source": [
    "A = ['a', 'c', 'f', 'd', 'b']\n",
    "B = ['a', 'b', 'c', 'd', 'c']\n",
    "\n",
    "def cari_elemen_unik(ListA, ListB):\n",
    "    ListC = []\n",
    "    for i in range(len(ListA)):\n",
    "        j = 0\n",
    "        unik = True\n",
    "        while unik and j < len(ListB):\n",
    "            if ListA[i] == ListB[j]:\n",
    "                unik = False\n",
    "            else:\n",
    "                if ListA[i] == ListA[j] and i < j and j < len(ListA):\n",
    "                    unik = False\n",
    "                else:\n",
    "                    j += 1\n",
    "        if unik:\n",
    "            ListC.append(ListA[i])\n",
    "    \n",
    "    return ListC\n",
    "\n",
    "def gabung(ListA, ListB):\n",
    "    ListC = []\n",
    "    for a in ListA:\n",
    "        ListC.append(a)\n",
    "    for b in ListB:\n",
    "        ListC.append(b)\n",
    "    return ListC\n",
    "\n",
    "D = cari_elemen_unik(A, B) # Mencari element A yang tidak ada di B\n",
    "E = cari_elemen_unik(B, A) # Mencari element B yang tidak ada di A\n",
    "C = gabung(D, E)\n",
    "print(\"Elemen unik pada kedua list A dan B adalah :\", C)"
   ]
  },
  {
   "cell_type": "code",
   "execution_count": null,
   "metadata": {},
   "outputs": [],
   "source": []
  }
 ],
 "metadata": {
  "kernelspec": {
   "display_name": "Python 3",
   "language": "python",
   "name": "python3"
  },
  "language_info": {
   "codemirror_mode": {
    "name": "ipython",
    "version": 3
   },
   "file_extension": ".py",
   "mimetype": "text/x-python",
   "name": "python",
   "nbconvert_exporter": "python",
   "pygments_lexer": "ipython3",
   "version": "3.6.8"
  }
 },
 "nbformat": 4,
 "nbformat_minor": 2
}

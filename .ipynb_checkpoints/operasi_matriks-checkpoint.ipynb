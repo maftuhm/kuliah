{
 "cells": [
  {
   "cell_type": "code",
   "execution_count": 3,
   "metadata": {},
   "outputs": [],
   "source": [
    "def tambah(a, b):\n",
    "    if type(a) == int:\n",
    "        d = a + b\n",
    "    else:\n",
    "        d = []\n",
    "        for i in range(len(a)):\n",
    "            c = []\n",
    "            for j in range(len(a[0])):\n",
    "                c.append(a[i][j] + b[i][j])\n",
    "            d.append(c)\n",
    "    return d\n",
    "\n",
    "def kurang(a, b):\n",
    "    if type(a) == int:\n",
    "        d = a - b\n",
    "    else:\n",
    "        d = []\n",
    "        for i in range(len(a)):\n",
    "            c = []\n",
    "            for j in range(len(a[0])):\n",
    "                c.append(a[i][j] - b[i][j])\n",
    "            d.append(c)\n",
    "    return d"
   ]
  }
 ],
 "metadata": {
  "kernelspec": {
   "display_name": "Python 3",
   "language": "python",
   "name": "python3"
  },
  "language_info": {
   "codemirror_mode": {
    "name": "ipython",
    "version": 3
   },
   "file_extension": ".py",
   "mimetype": "text/x-python",
   "name": "python",
   "nbconvert_exporter": "python",
   "pygments_lexer": "ipython3",
   "version": "3.6.8"
  }
 },
 "nbformat": 4,
 "nbformat_minor": 2
}

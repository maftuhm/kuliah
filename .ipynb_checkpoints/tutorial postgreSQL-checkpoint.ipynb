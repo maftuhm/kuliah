{
 "cells": [
  {
   "cell_type": "markdown",
   "metadata": {},
   "source": [
    "sumber: https://tutorlinux.com/tutorial-koneksi-database-postgresql-dengan-python.html"
   ]
  },
  {
   "cell_type": "code",
   "execution_count": 15,
   "metadata": {},
   "outputs": [
    {
     "name": "stdout",
     "output_type": "stream",
     "text": [
      "Sukses membuka database\n"
     ]
    }
   ],
   "source": [
    "import psycopg2\n",
    "\n",
    "conn = psycopg2.connect(database=\"postgres\", user=\"postgres\", password=\"maftuh2003\", host=\"localhost\", port=\"5432\")\n",
    "# data di dalam kurung itu harus dibuat dulu di pgAdmin, nanti kalo udah baru panggil di sini\n",
    "\n",
    "print (\"Sukses membuka database\")\n"
   ]
  },
  {
   "cell_type": "code",
   "execution_count": 105,
   "metadata": {},
   "outputs": [
    {
     "name": "stdout",
     "output_type": "stream",
     "text": [
      "Opened database successfully\n",
      "Data tersimpan dengan baik\n"
     ]
    }
   ],
   "source": [
    "#!/usr/bin/python\n",
    " \n",
    "import psycopg2\n",
    " \n",
    "conn = psycopg2.connect(database=\"postgres\", user=\"postgres\", password=\"6363\", host=\"localhost\", port=\"5432\")\n",
    "print (\"Opened database successfully\")\n",
    " \n",
    "cur = conn.cursor()\n",
    "cur.execute(\"SELECT * FROM company\") \n",
    "cur.execute(\"INSERT INTO company (id,name,address) VALUES (3, 'Tejo','Batam')\")\n",
    "cur.execute(\"INSERT INTO company (id,name,address) VALUES (4, 'Bejo','Bali')\")\n",
    "    \n",
    "conn.commit()\n",
    "print (\"Data tersimpan dengan baik\");\n"
   ]
  },
  {
   "cell_type": "code",
   "execution_count": 1,
   "metadata": {},
   "outputs": [
    {
     "name": "stdout",
     "output_type": "stream",
     "text": [
      "Opened database successfully\n",
      "Data tersimpan dengan baik\n"
     ]
    }
   ],
   "source": [
    "import psycopg2\n",
    " \n",
    "conn = psycopg2.connect(database=\"postgres\", user=\"postgres\", password=\"6363\", host=\"localhost\", port=\"5432\")\n",
    "print (\"Opened database successfully\")\n",
    " \n",
    "cur = conn.cursor()\n",
    "cur.execute(\"SELECT * FROM company\") \n",
    "cur.execute(\"INSERT INTO company (id,name,address) VALUES (5, 'Jojo','Banten')\")\n",
    "conn.commit()\n",
    "print (\"Data tersimpan dengan baik\");\n"
   ]
  },
  {
   "cell_type": "code",
   "execution_count": 104,
   "metadata": {},
   "outputs": [
    {
     "name": "stdout",
     "output_type": "stream",
     "text": [
      "Opened database successfully\n",
      "Total baris terupdate: 2\n"
     ]
    }
   ],
   "source": [
    "#!/usr/bin/python\n",
    "import psycopg2\n",
    " \n",
    "conn = psycopg2.connect(database=\"postgres\", user=\"postgres\", password=\"6363\", host=\"localhost\", port=\"5432\")\n",
    "print (\"Opened database successfully\")\n",
    " \n",
    "cur = conn.cursor()\n",
    "\n",
    "cur.execute(\"UPDATE company set name='Tika' WHERE id='2'\")\n",
    "conn.commit()\n",
    "print (\"Total baris terupdate:\", cur.rowcount)\n",
    " \n",
    "conn.close()"
   ]
  },
  {
   "cell_type": "code",
   "execution_count": 107,
   "metadata": {},
   "outputs": [
    {
     "name": "stdout",
     "output_type": "stream",
     "text": [
      "Opened database successfully\n",
      "baris telah dihapus\n"
     ]
    }
   ],
   "source": [
    "import psycopg2\n",
    " \n",
    "conn = psycopg2.connect(database=\"postgres\", user=\"postgres\", password=\"6363\", host=\"localhost\", port=\"5432\")\n",
    "print (\"Opened database successfully\")\n",
    " \n",
    "cur = conn.cursor()\n",
    "\n",
    "cur.execute(\"DELETE FROM company WHERE id='3'\")\n",
    "conn.commit()\n",
    "print (\"baris telah dihapus\")\n",
    " \n",
    "conn.close()"
   ]
  },
  {
   "cell_type": "code",
   "execution_count": null,
   "metadata": {},
   "outputs": [],
   "source": []
  }
 ],
 "metadata": {
  "kernelspec": {
   "display_name": "Python 3",
   "language": "python",
   "name": "python3"
  },
  "language_info": {
   "codemirror_mode": {
    "name": "ipython",
    "version": 3
   },
   "file_extension": ".py",
   "mimetype": "text/x-python",
   "name": "python",
   "nbconvert_exporter": "python",
   "pygments_lexer": "ipython3",
   "version": "3.6.5"
  }
 },
 "nbformat": 4,
 "nbformat_minor": 2
}

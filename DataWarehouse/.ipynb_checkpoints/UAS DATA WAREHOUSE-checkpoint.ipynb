{
 "cells": [
  {
   "cell_type": "markdown",
   "metadata": {},
   "source": [
    "# UAS DATAWAREHOUSE\n",
    "## RICKO RINALDY\n",
    "## 11160940000031"
   ]
  },
  {
   "cell_type": "code",
   "execution_count": 2,
   "metadata": {},
   "outputs": [],
   "source": [
    "import pandas as pd\n",
    "import pandas.io.sql as sqlio\n",
    "import psycopg2\n",
    "from psycopg2.extensions import ISOLATION_LEVEL_AUTOCOMMIT"
   ]
  },
  {
   "cell_type": "markdown",
   "metadata": {},
   "source": [
    "### 2. Buat databaset dengan nama db_uas!"
   ]
  },
  {
   "cell_type": "code",
   "execution_count": null,
   "metadata": {},
   "outputs": [],
   "source": [
    "conn = psycopg2.connect(\"dbname=tweet user=postgres password=5909509\")\n",
    "conn.set_isolation_level(ISOLATION_LEVEL_AUTOCOMMIT)\n",
    "cur = conn.cursor()\n",
    "cur.execute(\"create database db_uas\")"
   ]
  },
  {
   "cell_type": "code",
   "execution_count": 58,
   "metadata": {},
   "outputs": [],
   "source": [
    "conn = psycopg2.connect(\"dbname=db_uas user=postgres password=5909509\")\n",
    "cur = conn.cursor()"
   ]
  },
  {
   "cell_type": "markdown",
   "metadata": {},
   "source": [
    "### 3. Buat table-table diatas pada db_uas!"
   ]
  },
  {
   "cell_type": "code",
   "execution_count": 26,
   "metadata": {},
   "outputs": [],
   "source": [
    "cur.execute('''\n",
    "           create table if not exists ms_grade(\n",
    "           grade_id char(1) primary key,\n",
    "           nilai varchar(7),\n",
    "           discount varchar(3));\n",
    "           \n",
    "           create table if not exists ms_program(\n",
    "           program_id varchar(5) primary key,\n",
    "           program_name varchar (20),\n",
    "           fee int,\n",
    "           program_duration int);\n",
    "           \n",
    "           create table if not exists ms_student(\n",
    "           student_id int primary key,\n",
    "           student_name varchar(20),\n",
    "           student_address varchar(15),\n",
    "           student_phone varchar(13),\n",
    "           student_email varchar(30),\n",
    "           student_gender varchar(6),\n",
    "           student_birth date);\n",
    "           \n",
    "           create table if not exists ms_tutor(\n",
    "           tutor_id varchar(4) primary key,\n",
    "           tutor_name varchar(20),\n",
    "           tutor_address varchar(15),\n",
    "           tutor_phone varchar(13),\n",
    "           tutor_email varchar(30),\n",
    "           tutor_gender varchar(6),\n",
    "           tutor_birth date);\n",
    "           \n",
    "           create table if not exists tr_jadwal(\n",
    "           schedule_id varchar(5) primary key,\n",
    "           day_ varchar(10),\n",
    "           time_ varchar(11),\n",
    "           prog_id varchar(5) references ms_program(program_id),\n",
    "           room int,\n",
    "           tutor_id varchar(4) references ms_tutor(tutor_id));\n",
    "           \n",
    "           create table if not exists tr_regist(\n",
    "           regist_id varchar(6) primary key,\n",
    "           student_id int references ms_student(student_id),\n",
    "           jadwal_id varchar(5) references tr_jadwal(schedule_id),\n",
    "           grade_id char(1) references ms_grade(grade_id));\n",
    "           \n",
    "           create table if not exists tr_payment(\n",
    "           payment_id varchar(5) primary key,\n",
    "           regist_id varchar(6) references tr_regist(regist_id),\n",
    "           total_payment int,\n",
    "           payment_date date);\n",
    "           \n",
    "           create table if not exists tr_result(\n",
    "           result_id varchar(6) primary key,\n",
    "           program_id varchar(5) references ms_program(program_id),\n",
    "           student_id int references ms_student(student_id),\n",
    "           written_test char(1),\n",
    "           oral_test char(1),\n",
    "           note varchar(9));\n",
    "           \n",
    "           create table if not exists trd_absensi(\n",
    "           absensi_id varchar(4) primary key,\n",
    "           student_id int references ms_student(student_id),\n",
    "           pr1 char(1),\n",
    "           pr2 char(1),\n",
    "           pr3 char(1),\n",
    "           pr4 char(1),\n",
    "           pr5 char(1),\n",
    "           pr6 char(1),\n",
    "           pr7 char(1),\n",
    "           pr8 char(1),\n",
    "           pr9 char(1),\n",
    "           pr10 char(1),\n",
    "           pr11 char(1),\n",
    "           pr12 char(1));\n",
    "           ''')\n",
    "conn.commit()"
   ]
  },
  {
   "cell_type": "code",
   "execution_count": 27,
   "metadata": {},
   "outputs": [],
   "source": [
    "cur.execute('''\n",
    "            insert into ms_grade (grade_id, nilai, discount) values\n",
    "            ('A', '85-100', '10%'),\n",
    "            ('B', '75-84', '5%'),\n",
    "            ('C', '0-75', '0%');\n",
    "            \n",
    "            insert into ms_program (program_id, program_name, fee, program_duration) values\n",
    "            ('PC001', 'Calculus', 1500000, 12),\n",
    "            ('PG001', 'Machine Learning', 1000000, 12),\n",
    "            ('PD001', 'Bioinformatics', 2000000, 12);\n",
    "            \n",
    "            insert into ms_student \n",
    "            (student_id, student_name, student_address, student_phone, student_email, student_gender, student_birth)\n",
    "            values\n",
    "            (11111, 'Agnes', 'Semanggi II', '08112233441', 'agnes@gmail.com', 'Female', '12/12/99'),\n",
    "            (11112, 'Udin', 'Ciputat Raya', '08123456789', 'udinuhuy@gmail.com', 'Male', '09/01/98'),\n",
    "            (11113, 'Wiya', 'Legoso', '08312345678', 'wiyabgt@gmail.com', 'Female', '03/15/99'),\n",
    "            (11114, 'Marsha', 'Pisangan', '08765472182', 'Marshabear@gmail.com', 'Female', '03/14/99'),\n",
    "            (11115, 'Lily', 'Poncol', '08223343456', 'lilyan@gmail.com', 'Female', '08/15/99'),\n",
    "            (11116, 'Upin', 'Pamulang', '08213003003', 'upinnyaipin@gmail.com', 'Male', '04/16/98'),\n",
    "            (11117, 'Ipin', 'Serpong', '08220033445', 'ipinnyaupin@gmail.com', 'Male', '04/16/98'),\n",
    "            (11118, 'Reza', 'Cimanggis', '08565656561', 'rezaganz@gmail.com', 'Male', '11/07/99'),\n",
    "            (11119, 'Dimas', 'Legoso', '08818818818', 'dimasgendut@gmail.com', 'Male', '06/03/99'),\n",
    "            (11110, 'Ridwan', 'Parung', '08212398767', 'ridwan@gmail.com', 'Male', '09/12/99');\n",
    "            \n",
    "            insert into ms_tutor\n",
    "            (tutor_id, tutor_name, tutor_address, tutor_phone, tutor_email, tutor_gender, tutor_birth)\n",
    "            values\n",
    "            ('A211', 'Agus', 'Bintaro Raya', '08213243546', 'agus@gmail.com', 'Male', '09/12/88'),\n",
    "            ('A212', 'Bella', 'Cileungsi', '08222121212', 'bella@gmail.com', 'Female', '10/01/87'),\n",
    "            ('A213', 'Alvan', 'Ciputat', '08123344334', 'alvan@gmail.com', 'Male', '02/15/90'),\n",
    "            ('A214', 'Alen', 'Cisauk', '08229090909', 'alen@gmail.com', 'Male', '01/14/89'),\n",
    "            ('A215', 'Sarah', 'Poncol', '08213243546', 'sarah@gmail.com', 'Female', '10/15/90');\n",
    "            \n",
    "            insert into tr_jadwal\n",
    "            (schedule_id, day_, time_, prog_id, room, tutor_id) values\n",
    "            ('J0001', 'Monday', '13.00-15.00', 'PC001', 101, 'A211'),\n",
    "            ('J0002', 'Monday', '15.00-17.00', 'PG001', 105, 'A212'),\n",
    "            ('J0003', 'Tuesday', '09.00-11.00', 'PD001', 101, 'A213'),\n",
    "            ('J0004', 'Wednesday', '13.00-15.00', 'PG001', 103, 'A214'),\n",
    "            ('J0005', 'Wednesday', '15.00-17.00', 'PD001', 104, 'A213'),\n",
    "            ('J0006', 'Thursday', '09.00-11.00', 'PG001', 102, 'A212'),\n",
    "            ('J0007', 'Friday', '15.00-17.00', 'PC001', 101, 'A215'),\n",
    "            ('J0008', 'Tuesday', '13.00-15.00', 'PG001', 104, 'A212');\n",
    "            \n",
    "            insert into tr_regist (regist_id, student_id, jadwal_id, grade_id) values\n",
    "            ('reg001', 11111, 'J0005', 'B'),\n",
    "            ('reg002', 11112, 'J0002', 'A'),\n",
    "            ('reg003', 11113, 'J0001', 'B'),\n",
    "            ('reg004', 11114, 'J0003', 'B'),\n",
    "            ('reg005', 11115, 'J0005', 'C'),\n",
    "            ('reg006', 11116, 'J0004', 'B'),\n",
    "            ('reg007', 11117, 'J0007', 'C'),\n",
    "            ('reg008', 11118, 'J0008', 'C'),\n",
    "            ('reg009', 11119, 'J0001', 'C'),\n",
    "            ('reg010', 11110, 'J0005', 'B');\n",
    "            \n",
    "            insert into tr_payment (payment_id, regist_id, total_payment, payment_date) values\n",
    "            ('PO101', 'reg001', 1900000, '03/01/2008'),\n",
    "            ('PO102', 'reg002', 900000, '10/01/2008'),\n",
    "            ('PO103', 'reg003', 1425000, '11/01/2008'),\n",
    "            ('PO104', 'reg004', 1900000, '02/02/2008'),\n",
    "            ('PO105', 'reg005', 2000000, '05/02/2008'),\n",
    "            ('PO106', 'reg006', 950000, '11/02/2008'),\n",
    "            ('PO107', 'reg007', 1500000, '08/01/2008'),\n",
    "            ('PO108', 'reg008', 1000000, '08/02/2008'),\n",
    "            ('PO109', 'reg009', 1500000, '09/01/2008'),\n",
    "            ('PO110', 'reg010', 1900000, '12/02/2008');\n",
    "            \n",
    "            insert into tr_result (result_id, program_id, student_id, written_test, oral_test, note) values\n",
    "            ('res001', 'PD001', 11111, NULL, 'B', 'GOOD'),\n",
    "            ('res002', 'PG001', 11112, 'C', 'B', 'AVERAGE'),\n",
    "            ('res003', 'PC001', 11113, 'B', 'A', 'GOOD'),\n",
    "            ('res004', 'PD001', 11114, 'C', 'C', NULL),\n",
    "            ('res005', 'PD001', 11115, 'B', NULL, 'GOOD'),\n",
    "            ('res006', 'PG001', 11116, 'C', 'C', NULL),\n",
    "            ('res007', 'PC001', 11117, NULL, 'A', 'EXCELLENT'),\n",
    "            ('res008', 'PG001', 11118, 'A', 'C', NULL),\n",
    "            ('res009', 'PC001', 11119, 'A', 'B', 'GOOD'),\n",
    "            ('res010', 'PD001', 11110, 'B', 'C', 'AVERAGE');\n",
    "            \n",
    "            insert into trd_absensi\n",
    "            (absensi_id, student_id, pr1, pr2, pr3, pr4, pr5, pr6, pr7, pr8, pr9, pr10, pr11, pr12)\n",
    "            values\n",
    "            ('h001', 11111, 'H', 'H', 'H', 'H', 'I', 'H', 'H', 'H', 'H', 'H', 'H', 'H'),\n",
    "            ('h002', 11112, 'H', 'H', 'H', 'I', 'H', 'H', 'H', 'H', 'H', 'I', 'I', 'H'),\n",
    "            ('h003', 11113, 'H', 'H', 'H', 'H', 'H', 'H', 'H', 'H', 'H', 'H', 'H', 'H'),\n",
    "            ('h004', 11114, 'H', 'H', 'H', 'H', 'H', 'H', 'A', 'H', 'H', 'H', 'A', 'H'),\n",
    "            ('h005', 11115, 'H', 'I', 'H', 'H', 'H', 'H', 'H', 'H', 'H', 'H', 'H', 'H'),\n",
    "            ('h006', 11116, 'H', 'H', 'H', 'H', 'I', 'H', 'H', 'H', 'H', 'H', 'I', 'H'),\n",
    "            ('h007', 11117, 'H', 'H', 'H', 'H', 'H', 'H', 'H', 'H', 'H', 'H', 'H', 'H'),\n",
    "            ('h008', 11118, 'I', 'H', 'H', 'H', 'H', 'H', 'I', 'H', 'H', 'H', 'H', 'H'),\n",
    "            ('h009', 11119, 'H', 'H', 'H', 'A', 'H', 'H', 'H', 'H', 'H', 'H', 'I', 'H'),\n",
    "            ('h010', 11110, 'H', 'A', 'H', 'H', 'H', 'H', 'H', 'H', 'H', 'A', 'H', 'H');\n",
    "            ''')\n",
    "conn.commit()"
   ]
  },
  {
   "cell_type": "markdown",
   "metadata": {},
   "source": [
    "### 4. Tampilkan keseluruhan table yang sudah dibuat! "
   ]
  },
  {
   "cell_type": "code",
   "execution_count": 86,
   "metadata": {},
   "outputs": [
    {
     "name": "stdout",
     "output_type": "stream",
     "text": [
      "\tTabel ms_grade\n",
      "   grade_id   nilai discount\n",
      "0        A  85-100      10%\n",
      "1        B   75-84       5%\n",
      "2        C    0-75       0%\n"
     ]
    }
   ],
   "source": [
    "sql = \"select * from ms_grade;\"\n",
    "dat = sqlio.read_sql_query(sql, conn)\n",
    "print(\"\\tTabel ms_grade\\n\",dat)"
   ]
  },
  {
   "cell_type": "code",
   "execution_count": 87,
   "metadata": {},
   "outputs": [
    {
     "name": "stdout",
     "output_type": "stream",
     "text": [
      "\tTabel ms_program\n",
      "   program_id      program_name      fee  program_duration\n",
      "0      PC001          Calculus  1500000                12\n",
      "1      PG001  Machine Learning  1000000                12\n",
      "2      PD001    Bioinformatics  2000000                12\n"
     ]
    }
   ],
   "source": [
    "sql = \"select * from ms_program;\"\n",
    "dat = sqlio.read_sql_query(sql, conn)\n",
    "print(\"\\tTabel ms_program\\n\",dat)"
   ]
  },
  {
   "cell_type": "code",
   "execution_count": 88,
   "metadata": {},
   "outputs": [
    {
     "name": "stdout",
     "output_type": "stream",
     "text": [
      "\tTabel ms_student\n",
      "    student_id student_name student_address student_phone  \\\n",
      "0       11111        Agnes     Semanggi II   08112233441   \n",
      "1       11112         Udin    Ciputat Raya   08123456789   \n",
      "2       11113         Wiya          Legoso   08312345678   \n",
      "3       11114       Marsha        Pisangan   08765472182   \n",
      "4       11115         Lily          Poncol   08223343456   \n",
      "5       11116         Upin        Pamulang   08213003003   \n",
      "6       11117         Ipin         Serpong   08220033445   \n",
      "7       11118         Reza       Cimanggis   08565656561   \n",
      "8       11119        Dimas          Legoso   08818818818   \n",
      "9       11110       Ridwan          Parung   08212398767   \n",
      "\n",
      "           student_email student_gender student_birth  \n",
      "0        agnes@gmail.com         Female    1999-12-12  \n",
      "1     udinuhuy@gmail.com           Male    1998-09-01  \n",
      "2      wiyabgt@gmail.com         Female    1999-03-15  \n",
      "3   Marshabear@gmail.com         Female    1999-03-14  \n",
      "4       lilyan@gmail.com         Female    1999-08-15  \n",
      "5  upinnyaipin@gmail.com           Male    1998-04-16  \n",
      "6  ipinnyaupin@gmail.com           Male    1998-04-16  \n",
      "7     rezaganz@gmail.com           Male    1999-11-07  \n",
      "8  dimasgendut@gmail.com           Male    1999-06-03  \n",
      "9       ridwan@gmail.com           Male    1999-09-12  \n"
     ]
    }
   ],
   "source": [
    "sql = \"select * from ms_student;\"\n",
    "dat = sqlio.read_sql_query(sql, conn)\n",
    "print(\"\\tTabel ms_student\\n\",dat)"
   ]
  },
  {
   "cell_type": "code",
   "execution_count": 89,
   "metadata": {},
   "outputs": [
    {
     "name": "stdout",
     "output_type": "stream",
     "text": [
      "\tTabel ms_tutor\n",
      "   tutor_id tutor_name tutor_address  tutor_phone      tutor_email  \\\n",
      "0     A211       Agus  Bintaro Raya  08213243546   agus@gmail.com   \n",
      "1     A212      Bella     Cileungsi  08222121212  bella@gmail.com   \n",
      "2     A213      Alvan       Ciputat  08123344334  alvan@gmail.com   \n",
      "3     A214       Alen        Cisauk  08229090909   alen@gmail.com   \n",
      "4     A215      Sarah        Poncol  08213243546  sarah@gmail.com   \n",
      "\n",
      "  tutor_gender tutor_birth  \n",
      "0         Male  1988-09-12  \n",
      "1       Female  1987-10-01  \n",
      "2         Male  1990-02-15  \n",
      "3         Male  1989-01-14  \n",
      "4       Female  1990-10-15  \n"
     ]
    }
   ],
   "source": [
    "sql = \"select * from ms_tutor;\"\n",
    "dat = sqlio.read_sql_query(sql, conn)\n",
    "print(\"\\tTabel ms_tutor\\n\",dat)"
   ]
  },
  {
   "cell_type": "code",
   "execution_count": 90,
   "metadata": {},
   "outputs": [
    {
     "name": "stdout",
     "output_type": "stream",
     "text": [
      "\tTabel tr_jadwal\n",
      "   schedule_id       day_        time_ prog_id  room tutor_id\n",
      "0       J0001     Monday  13.00-15.00   PC001   101     A211\n",
      "1       J0002     Monday  15.00-17.00   PG001   105     A212\n",
      "2       J0003    Tuesday  09.00-11.00   PD001   101     A213\n",
      "3       J0004  Wednesday  13.00-15.00   PG001   103     A214\n",
      "4       J0005  Wednesday  15.00-17.00   PD001   104     A213\n",
      "5       J0006   Thursday  09.00-11.00   PG001   102     A212\n",
      "6       J0007     Friday  15.00-17.00   PC001   101     A215\n",
      "7       J0008    Tuesday  13.00-15.00   PG001   104     A212\n"
     ]
    }
   ],
   "source": [
    "sql = \"select * from tr_jadwal;\"\n",
    "dat = sqlio.read_sql_query(sql, conn)\n",
    "print(\"\\tTabel tr_jadwal\\n\",dat)"
   ]
  },
  {
   "cell_type": "code",
   "execution_count": 91,
   "metadata": {},
   "outputs": [
    {
     "name": "stdout",
     "output_type": "stream",
     "text": [
      "\tTabel tr_payment\n",
      "   payment_id regist_id  total_payment payment_date\n",
      "0      PO101    reg001        1900000   2008-03-01\n",
      "1      PO102    reg002         900000   2008-10-01\n",
      "2      PO103    reg003        1425000   2008-11-01\n",
      "3      PO104    reg004        1900000   2008-02-02\n",
      "4      PO105    reg005        2000000   2008-05-02\n",
      "5      PO106    reg006         950000   2008-11-02\n",
      "6      PO107    reg007        1500000   2008-08-01\n",
      "7      PO108    reg008        1000000   2008-08-02\n",
      "8      PO109    reg009        1500000   2008-09-01\n",
      "9      PO110    reg010        1900000   2008-12-02\n"
     ]
    }
   ],
   "source": [
    "sql = \"select * from tr_payment;\"\n",
    "dat = sqlio.read_sql_query(sql, conn)\n",
    "print(\"\\tTabel tr_payment\\n\",dat)"
   ]
  },
  {
   "cell_type": "code",
   "execution_count": 92,
   "metadata": {},
   "outputs": [
    {
     "name": "stdout",
     "output_type": "stream",
     "text": [
      "\tTabel tr_regist\n",
      "   regist_id  student_id jadwal_id grade_id\n",
      "0    reg001       11111     J0005        B\n",
      "1    reg002       11112     J0002        A\n",
      "2    reg003       11113     J0001        B\n",
      "3    reg004       11114     J0003        B\n",
      "4    reg005       11115     J0005        C\n",
      "5    reg006       11116     J0004        B\n",
      "6    reg007       11117     J0007        C\n",
      "7    reg008       11118     J0008        C\n",
      "8    reg009       11119     J0001        C\n",
      "9    reg010       11110     J0005        B\n"
     ]
    }
   ],
   "source": [
    "sql = \"select * from tr_regist;\"\n",
    "dat = sqlio.read_sql_query(sql, conn)\n",
    "print(\"\\tTabel tr_regist\\n\",dat)"
   ]
  },
  {
   "cell_type": "code",
   "execution_count": 93,
   "metadata": {},
   "outputs": [
    {
     "name": "stdout",
     "output_type": "stream",
     "text": [
      "\tTabel tr_result\n",
      "   result_id program_id  student_id written_test oral_test       note\n",
      "0    res001      PD001       11111         None         B       GOOD\n",
      "1    res002      PG001       11112            C         B    AVERAGE\n",
      "2    res003      PC001       11113            B         A       GOOD\n",
      "3    res004      PD001       11114            C         C       None\n",
      "4    res005      PD001       11115            B      None       GOOD\n",
      "5    res006      PG001       11116            C         C       None\n",
      "6    res007      PC001       11117         None         A  EXCELLENT\n",
      "7    res008      PG001       11118            A         C       None\n",
      "8    res009      PC001       11119            A         B       GOOD\n",
      "9    res010      PD001       11110            B         C    AVERAGE\n"
     ]
    }
   ],
   "source": [
    "sql = \"select * from tr_result;\"\n",
    "dat = sqlio.read_sql_query(sql, conn)\n",
    "print(\"\\tTabel tr_result\\n\",dat)"
   ]
  },
  {
   "cell_type": "code",
   "execution_count": 94,
   "metadata": {
    "scrolled": true
   },
   "outputs": [
    {
     "name": "stdout",
     "output_type": "stream",
     "text": [
      "\tTabel trd_absensi\n",
      "   absensi_id  student_id pr1 pr2 pr3 pr4 pr5 pr6 pr7 pr8 pr9 pr10 pr11 pr12\n",
      "0       h001       11111   H   H   H   H   I   H   H   H   H    H    H    H\n",
      "1       h002       11112   H   H   H   I   H   H   H   H   H    I    I    H\n",
      "2       h003       11113   H   H   H   H   H   H   H   H   H    H    H    H\n",
      "3       h004       11114   H   H   H   H   H   H   A   H   H    H    A    H\n",
      "4       h005       11115   H   I   H   H   H   H   H   H   H    H    H    H\n",
      "5       h006       11116   H   H   H   H   I   H   H   H   H    H    I    H\n",
      "6       h007       11117   H   H   H   H   H   H   H   H   H    H    H    H\n",
      "7       h008       11118   I   H   H   H   H   H   I   H   H    H    H    H\n",
      "8       h009       11119   H   H   H   A   H   H   H   H   H    H    I    H\n",
      "9       h010       11110   H   A   H   H   H   H   H   H   H    A    H    H\n"
     ]
    }
   ],
   "source": [
    "sql = \"select * from trd_absensi;\"\n",
    "dat = sqlio.read_sql_query(sql, conn)\n",
    "print(\"\\tTabel trd_absensi\\n\",dat)"
   ]
  },
  {
   "cell_type": "markdown",
   "metadata": {},
   "source": [
    "### 5. Tampilkan daftar tutor yang terdiri atas Tutor_id, Tutor_name, Tutor_address, Tutor_email!"
   ]
  },
  {
   "cell_type": "code",
   "execution_count": 95,
   "metadata": {},
   "outputs": [
    {
     "name": "stdout",
     "output_type": "stream",
     "text": [
      "  tutor_id tutor_name tutor_address      tutor_email\n",
      "0     A211       Agus  Bintaro Raya   agus@gmail.com\n",
      "1     A212      Bella     Cileungsi  bella@gmail.com\n",
      "2     A213      Alvan       Ciputat  alvan@gmail.com\n",
      "3     A214       Alen        Cisauk   alen@gmail.com\n",
      "4     A215      Sarah        Poncol  sarah@gmail.com\n"
     ]
    }
   ],
   "source": [
    "sql = \"select tutor_id, tutor_name, tutor_address, tutor_email from ms_tutor;\"\n",
    "dat = sqlio.read_sql_query(sql, conn)\n",
    "print(dat)"
   ]
  },
  {
   "cell_type": "markdown",
   "metadata": {},
   "source": [
    "### 6. Tampilkan nama tutor yang memiliki umur paling muda dan paling tua! "
   ]
  },
  {
   "cell_type": "code",
   "execution_count": 69,
   "metadata": {},
   "outputs": [
    {
     "name": "stdout",
     "output_type": "stream",
     "text": [
      "Nama tutor yang paling muda adalah Sarah\n",
      "Nama tutor yang paling tua adalah Bella\n"
     ]
    }
   ],
   "source": [
    "cur.execute(\"select tutor_name from ms_tutor \\\n",
    "            where tutor_birth=(select max(tutor_birth) from ms_tutor) or tutor_birth=(select min(tutor_birth) from ms_tutor);\")\n",
    "tutor = cur.fetchall()\n",
    "nama = [i[0] for i in tutor]\n",
    "print(f\"Nama tutor yang paling muda adalah {nama[1]}\")\n",
    "print(f\"Nama tutor yang paling tua adalah {nama[0]}\")"
   ]
  },
  {
   "cell_type": "markdown",
   "metadata": {},
   "source": [
    "### 7. Tampilkan kode payment, kode registrasi, jumlah pembayaran dan nama student yang melakukan pembayaran diantara 1.000.000 dan 2.000.000! "
   ]
  },
  {
   "cell_type": "code",
   "execution_count": 82,
   "metadata": {},
   "outputs": [
    {
     "name": "stdout",
     "output_type": "stream",
     "text": [
      "  payment_id regist_id  total_payment student_name\n",
      "0      PO101    reg001        1900000        Agnes\n",
      "1      PO103    reg003        1425000         Wiya\n",
      "2      PO104    reg004        1900000       Marsha\n",
      "3      PO105    reg005        2000000         Lily\n",
      "4      PO107    reg007        1500000         Ipin\n",
      "5      PO108    reg008        1000000         Reza\n",
      "6      PO109    reg009        1500000        Dimas\n",
      "7      PO110    reg010        1900000       Ridwan\n"
     ]
    }
   ],
   "source": [
    "sql = \"select payment_id, tr_payment.regist_id, total_payment, student_name \\\n",
    "from tr_payment, tr_regist, ms_student \\\n",
    "where ms_student.student_id=tr_regist.student_id and tr_payment.regist_id=tr_regist.regist_id and total_payment>=1000000 and total_payment<=2000000\"\n",
    "dat = sqlio.read_sql_query(sql, conn)\n",
    "print(dat)"
   ]
  },
  {
   "cell_type": "markdown",
   "metadata": {},
   "source": [
    "### 8. Tampilkan seluruh student yang tinggal di Legoso atau Parung! "
   ]
  },
  {
   "cell_type": "code",
   "execution_count": 71,
   "metadata": {},
   "outputs": [
    {
     "name": "stdout",
     "output_type": "stream",
     "text": [
      "Nama tutor yang tinggal di legoso atau parung adalah Wiya, Dimas, Ridwan\n"
     ]
    }
   ],
   "source": [
    "cur.execute(\"select student_name from ms_student \\\n",
    "            where student_address='Legoso' or student_address='Parung';\")\n",
    "tutor = cur.fetchall()\n",
    "murid = [i[0] for i in tutor]\n",
    "print(f\"Nama tutor yang tinggal di legoso atau parung adalah {', '.join(murid)}\")"
   ]
  },
  {
   "cell_type": "markdown",
   "metadata": {},
   "source": [
    "### 9. Tampilkan jumlah ruangan yang terpakai pada hari Senin dan Selasa serta sebutkan nama ruanganya dan kegunaannya!"
   ]
  },
  {
   "cell_type": "code",
   "execution_count": 72,
   "metadata": {},
   "outputs": [
    {
     "name": "stdout",
     "output_type": "stream",
     "text": [
      "jumlah ruangan yang dipakai pada hari senin dan selasa ada 4 ruangan\n"
     ]
    },
    {
     "data": {
      "text/html": [
       "<div>\n",
       "<style scoped>\n",
       "    .dataframe tbody tr th:only-of-type {\n",
       "        vertical-align: middle;\n",
       "    }\n",
       "\n",
       "    .dataframe tbody tr th {\n",
       "        vertical-align: top;\n",
       "    }\n",
       "\n",
       "    .dataframe thead th {\n",
       "        text-align: right;\n",
       "    }\n",
       "</style>\n",
       "<table border=\"1\" class=\"dataframe\">\n",
       "  <thead>\n",
       "    <tr style=\"text-align: right;\">\n",
       "      <th></th>\n",
       "      <th>day_</th>\n",
       "      <th>room</th>\n",
       "      <th>program_name</th>\n",
       "    </tr>\n",
       "  </thead>\n",
       "  <tbody>\n",
       "    <tr>\n",
       "      <th>0</th>\n",
       "      <td>Monday</td>\n",
       "      <td>101</td>\n",
       "      <td>Calculus</td>\n",
       "    </tr>\n",
       "    <tr>\n",
       "      <th>1</th>\n",
       "      <td>Tuesday</td>\n",
       "      <td>104</td>\n",
       "      <td>Machine Learning</td>\n",
       "    </tr>\n",
       "    <tr>\n",
       "      <th>2</th>\n",
       "      <td>Monday</td>\n",
       "      <td>105</td>\n",
       "      <td>Machine Learning</td>\n",
       "    </tr>\n",
       "    <tr>\n",
       "      <th>3</th>\n",
       "      <td>Tuesday</td>\n",
       "      <td>101</td>\n",
       "      <td>Bioinformatics</td>\n",
       "    </tr>\n",
       "  </tbody>\n",
       "</table>\n",
       "</div>"
      ],
      "text/plain": [
       "      day_  room      program_name\n",
       "0   Monday   101          Calculus\n",
       "1  Tuesday   104  Machine Learning\n",
       "2   Monday   105  Machine Learning\n",
       "3  Tuesday   101    Bioinformatics"
      ]
     },
     "execution_count": 72,
     "metadata": {},
     "output_type": "execute_result"
    }
   ],
   "source": [
    "cur.execute(\"select count(day_) from tr_jadwal where day_ in ('Monday', 'Tuesday');\")\n",
    "jumlah = cur.fetchone()[0]\n",
    "print(f\"jumlah ruangan yang dipakai pada hari senin dan selasa ada {jumlah} ruangan\")\n",
    "sql = \"select day_, room, program_name from tr_jadwal, ms_program \\\n",
    "where day_ in ('Monday', 'Tuesday') and tr_jadwal.prog_id=ms_program.program_id\"\n",
    "dat = sqlio.read_sql_query(sql, conn)\n",
    "dat"
   ]
  },
  {
   "cell_type": "markdown",
   "metadata": {},
   "source": [
    "### 10. Tampilkan minimal payment, maksimal payment dan rata-rata payment!"
   ]
  },
  {
   "cell_type": "code",
   "execution_count": 73,
   "metadata": {},
   "outputs": [
    {
     "name": "stdout",
     "output_type": "stream",
     "text": [
      "pembayaran paling mahal sebesar 2000000\n",
      "pembayaran paling murah sebesar 900000\n",
      "rata-rata pembayran sebesar 1497500\n"
     ]
    }
   ],
   "source": [
    "cur.execute(\"select max(total_payment), min(total_payment), avg(total_payment) from tr_payment;\")\n",
    "pay = cur.fetchone()\n",
    "print(f\"pembayaran paling mahal sebesar {pay[0]}\")\n",
    "print(f\"pembayaran paling murah sebesar {pay[1]}\")\n",
    "print(f\"rata-rata pembayran sebesar {int(pay[2])}\")"
   ]
  },
  {
   "cell_type": "markdown",
   "metadata": {},
   "source": [
    "### 11. Tampilkan Schdule_id berserta Tutor_id dan nama tutor nya yang mengajarkan program PC001!"
   ]
  },
  {
   "cell_type": "code",
   "execution_count": 74,
   "metadata": {},
   "outputs": [
    {
     "name": "stdout",
     "output_type": "stream",
     "text": [
      "Program PC001\n"
     ]
    },
    {
     "data": {
      "text/html": [
       "<div>\n",
       "<style scoped>\n",
       "    .dataframe tbody tr th:only-of-type {\n",
       "        vertical-align: middle;\n",
       "    }\n",
       "\n",
       "    .dataframe tbody tr th {\n",
       "        vertical-align: top;\n",
       "    }\n",
       "\n",
       "    .dataframe thead th {\n",
       "        text-align: right;\n",
       "    }\n",
       "</style>\n",
       "<table border=\"1\" class=\"dataframe\">\n",
       "  <thead>\n",
       "    <tr style=\"text-align: right;\">\n",
       "      <th></th>\n",
       "      <th>schedule_id</th>\n",
       "      <th>tutor_id</th>\n",
       "      <th>tutor_name</th>\n",
       "    </tr>\n",
       "  </thead>\n",
       "  <tbody>\n",
       "    <tr>\n",
       "      <th>0</th>\n",
       "      <td>J0001</td>\n",
       "      <td>A211</td>\n",
       "      <td>Agus</td>\n",
       "    </tr>\n",
       "    <tr>\n",
       "      <th>1</th>\n",
       "      <td>J0007</td>\n",
       "      <td>A215</td>\n",
       "      <td>Sarah</td>\n",
       "    </tr>\n",
       "  </tbody>\n",
       "</table>\n",
       "</div>"
      ],
      "text/plain": [
       "  schedule_id tutor_id tutor_name\n",
       "0       J0001     A211       Agus\n",
       "1       J0007     A215      Sarah"
      ]
     },
     "execution_count": 74,
     "metadata": {},
     "output_type": "execute_result"
    }
   ],
   "source": [
    "sql = \"select schedule_id, tr_jadwal.tutor_id, tutor_name from tr_jadwal, ms_tutor \\\n",
    "where tr_jadwal.tutor_id=ms_tutor.tutor_id and prog_id='PC001'\"\n",
    "dat = sqlio.read_sql_query(sql, conn)\n",
    "print(\"Program PC001\")\n",
    "dat"
   ]
  },
  {
   "cell_type": "markdown",
   "metadata": {},
   "source": [
    "### 12. Tentukan student yang mendapatkan diskon paling besar!"
   ]
  },
  {
   "cell_type": "code",
   "execution_count": 75,
   "metadata": {},
   "outputs": [
    {
     "name": "stdout",
     "output_type": "stream",
     "text": [
      "murid yang mendapatkan diskon terbesar adalah Udin\n"
     ]
    }
   ],
   "source": [
    "cur.execute(\"select student_name from tr_regist, ms_student \\\n",
    "            where tr_regist.student_id=ms_student.student_id and grade_id='A';\")\n",
    "murid = [i[0] for i in cur.fetchall()]\n",
    "print(\"murid yang mendapatkan diskon terbesar adalah\", \" \".join(murid))"
   ]
  },
  {
   "cell_type": "markdown",
   "metadata": {},
   "source": [
    "### 13. Carilah pertemuan yang paling sedikit jumlah student yang masuk!"
   ]
  },
  {
   "cell_type": "code",
   "execution_count": 76,
   "metadata": {},
   "outputs": [
    {
     "name": "stdout",
     "output_type": "stream",
     "text": [
      "pertemuan ke-11 paling sedikit murid yang masuk yaitu 6 orang\n"
     ]
    }
   ],
   "source": [
    "kecil = 1000\n",
    "pertemuan = 1\n",
    "for i in range(12):\n",
    "    cur.execute(f\"select count(pr{i+1}) from trd_absensi where pr{i+1}='H'\")\n",
    "    kehadiran = cur.fetchone()[0]\n",
    "    if kehadiran<kecil:\n",
    "        kecil = kehadiran\n",
    "        pertemuan = i+1\n",
    "print(f\"pertemuan ke-{pertemuan} paling sedikit murid yang masuk yaitu {kecil} orang\")"
   ]
  },
  {
   "cell_type": "markdown",
   "metadata": {},
   "source": [
    "### 14. Tampilkan nama student yang paling rajin masuk!"
   ]
  },
  {
   "cell_type": "code",
   "execution_count": 77,
   "metadata": {},
   "outputs": [
    {
     "name": "stdout",
     "output_type": "stream",
     "text": [
      "murid yang rajin masuk adalah Wiya, Ipin\n"
     ]
    }
   ],
   "source": [
    "sql = \"select * from trd_absensi;\"\n",
    "dat = sqlio.read_sql_query(sql, conn)\n",
    "trans = dat.transpose()\n",
    "id_murid_rajin = []\n",
    "besar = 0\n",
    "for i in range(10):\n",
    "    a=trans[i].str.count('H')\n",
    "    if sum(a[2:len(a)])>besar:\n",
    "        besar = sum(a[2:len(a)])\n",
    "        id_murid_rajin.clear()\n",
    "        id_murid_rajin.append(dat['student_id'][i])\n",
    "    elif sum(a[2:14])==besar:\n",
    "        id_murid_rajin.append(dat['student_id'][i])\n",
    "id_murid_rajin = tuple(id_murid_rajin)\n",
    "cur.execute(f\"select student_name from ms_student where student_id in {id_murid_rajin}\")\n",
    "print(\"murid yang rajin masuk adalah\", ', '.join([i[0] for i in cur.fetchall()]))"
   ]
  },
  {
   "cell_type": "markdown",
   "metadata": {},
   "source": [
    "### 15. Tampilkan nama student yang paling malas masuk! "
   ]
  },
  {
   "cell_type": "code",
   "execution_count": 78,
   "metadata": {
    "scrolled": true
   },
   "outputs": [
    {
     "name": "stdout",
     "output_type": "stream",
     "text": [
      "murid yang malas masuk adalah Udin\n"
     ]
    }
   ],
   "source": [
    "sql = \"select * from trd_absensi;\"\n",
    "dat = sqlio.read_sql_query(sql, conn)\n",
    "trans = dat.transpose()\n",
    "id_murid_malas = []\n",
    "kecil = 1000\n",
    "for i in range(10):\n",
    "    a=trans[i].str.count('H')\n",
    "    if sum(a[2:len(a)])<kecil:\n",
    "        kecil = sum(a[2:len(a)])\n",
    "        id_murid_malas.clear()\n",
    "        id_murid_malas.append(dat['student_id'][i])\n",
    "    elif sum(a[2:14])==kecil:\n",
    "        id_murid_malas.append(dat['student_id'][i])\n",
    "cur.execute(f\"select student_name from ms_student where student_id in ({id_murid_malas[0]})\")\n",
    "print(\"murid yang malas masuk adalah\", ', '.join([i[0] for i in cur.fetchall()]))"
   ]
  },
  {
   "cell_type": "markdown",
   "metadata": {},
   "source": [
    "### 16. Tampilkan nama-nama student yang diajar oleh Tutor Alen! "
   ]
  },
  {
   "cell_type": "code",
   "execution_count": 79,
   "metadata": {
    "scrolled": true
   },
   "outputs": [
    {
     "name": "stdout",
     "output_type": "stream",
     "text": [
      "murid yang diajar oleh tutor Alen adalah Upin\n"
     ]
    }
   ],
   "source": [
    "cur.execute(\"select student_name from ms_student, ms_tutor, tr_regist, tr_jadwal where \\\n",
    "             tutor_name='Alen' and ms_tutor.tutor_id=tr_jadwal.tutor_id and \\\n",
    "             tr_jadwal.schedule_id=tr_regist.jadwal_id and tr_regist.student_id=ms_student.student_id\")\n",
    "murid = [i[0] for i in cur.fetchall()]\n",
    "print(f\"murid yang diajar oleh tutor Alen adalah\", ', '.join(murid))"
   ]
  },
  {
   "cell_type": "markdown",
   "metadata": {},
   "source": [
    "### 17. Tampilkan nama-nama student yang mengikuti program Machine Learning!"
   ]
  },
  {
   "cell_type": "code",
   "execution_count": 80,
   "metadata": {},
   "outputs": [
    {
     "name": "stdout",
     "output_type": "stream",
     "text": [
      "murid yang mengikuti program Machine Learning adalah Udin, Upin, Reza\n"
     ]
    }
   ],
   "source": [
    "cur.execute(\"select student_name from ms_student, tr_result, ms_program where \\\n",
    "             program_name='Machine Learning' and ms_program.program_id=tr_result.program_id and ms_student.student_id=tr_result.student_id\")\n",
    "murid = [i[0] for i in cur.fetchall()]\n",
    "print(f\"murid yang mengikuti program Machine Learning adalah\", ', '.join(murid))"
   ]
  },
  {
   "cell_type": "markdown",
   "metadata": {},
   "source": [
    "### 18. Tampilkan nama program dan nama student yang mendapatkan hasil Note Excellent! "
   ]
  },
  {
   "cell_type": "code",
   "execution_count": 81,
   "metadata": {},
   "outputs": [
    {
     "name": "stdout",
     "output_type": "stream",
     "text": [
      "Ipin mendapatkan EXCELLENT pada program Calculus\n"
     ]
    }
   ],
   "source": [
    "cur.execute(\"select student_name, program_name from ms_student, ms_program, tr_result where \\\n",
    "             note='EXCELLENT' and tr_result.student_id=ms_student.student_id and tr_result.program_id=ms_program.program_id\")\n",
    "data = cur.fetchall()\n",
    "murid = [i[0] for i in data]\n",
    "program = [i[1] for i in data]\n",
    "for i in range(len(data)):\n",
    "    print(f\"{murid[i]} mendapatkan EXCELLENT pada program {program[i]}\")"
   ]
  }
 ],
 "metadata": {
  "kernelspec": {
   "display_name": "Python 3",
   "language": "python",
   "name": "python3"
  },
  "language_info": {
   "codemirror_mode": {
    "name": "ipython",
    "version": 3
   },
   "file_extension": ".py",
   "mimetype": "text/x-python",
   "name": "python",
   "nbconvert_exporter": "python",
   "pygments_lexer": "ipython3",
   "version": "3.6.8"
  }
 },
 "nbformat": 4,
 "nbformat_minor": 2
}

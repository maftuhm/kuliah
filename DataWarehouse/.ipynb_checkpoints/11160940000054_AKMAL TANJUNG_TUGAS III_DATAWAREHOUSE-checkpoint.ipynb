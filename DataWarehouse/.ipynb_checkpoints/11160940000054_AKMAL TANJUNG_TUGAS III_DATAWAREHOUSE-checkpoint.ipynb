{
 "cells": [
  {
   "cell_type": "code",
   "execution_count": null,
   "metadata": {},
   "outputs": [],
   "source": [
    "# b)table karyawan dan cuti karyawan\n",
    "import psycopg2\n",
    "conn = psycopg2.connect(database = \"kantor\", user = \"postgres\", password = \"akmal\", host = \"localhost\", port = \"5432\")\n",
    "cur = conn.cursor()\n",
    "\n",
    "cur.execute(\n",
    "    '''\n",
    "    CREATE TABLE IF NOT EXISTS karyawan(\n",
    "    Nomor_induk VARCHAR(10) NOT NULL,\n",
    "    Nama VARCHAR(30),\n",
    "    Alamat TEXT,\n",
    "    Tanggal_lahir DATE,\n",
    "    Tanggal_masuk DATE,\n",
    "    PRIMARY KEY(Nomor_induk)\n",
    "    );\n",
    "\n",
    "    CREATE TABLE IF NOT EXISTS cuti_karyawan(\n",
    "    id INT NOT NULL,\n",
    "    Nomor_induk VARCHAR(10),\n",
    "    Tanggal_mulai DATE,\n",
    "    Lama_cuti SMALLINT,\n",
    "    Keterangan TEXT,\n",
    "    PRIMARY KEY(id));\n",
    "    '''\n",
    ")\n",
    "conn.commit()"
   ]
  },
  {
   "cell_type": "code",
   "execution_count": 8,
   "metadata": {},
   "outputs": [],
   "source": [
    "# c) isi table karyawan dan cuti karyawan\n",
    "import psycopg2\n",
    "conn = psycopg2.connect(database = \"kantor\", user = \"postgres\", password = \"akmal\", host = \"localhost\", port = \"5432\")\n",
    "cur = conn.cursor()\n",
    "\n",
    "cur.execute(\n",
    "    '''\n",
    "    INSERT INTO karyawan (Nomor_induk, Nama, Alamat, Tanggal_lahir, Tanggal_masuk)\n",
    "    VALUES \n",
    "    ('IP06001', 'Agus', 'Jln. Gajah Mada 115A, Jakarta Pusat', '1970-08-01', '2006-07-07'),\n",
    "    ('IP06002', 'Amin', 'Jln. Bungur sari v No. 178 Bandung', '1977-05-03', '2006-07-07'),\n",
    "    ('IP06003', 'Yusuf', 'Jln. Yosodpuro 15, Surabaya', '1973-08-09', '2006-07-07'),\n",
    "    ('IP07004', 'Alyssa', 'Jln. Cendana No. 6 Bandung', '1983-02-14', '2007-01-05'),\n",
    "    ('IP07005', 'Maulana', 'Jln. Ampera Raya No 1', '1985-10-10', '2007-02-05'),\n",
    "    ('IP07006', 'Afika', 'Jln. Pejaten Barat No 6A', '1987-03-09', '2007-06-09'),\n",
    "    ('IP07007', 'James', 'Jln. Padjadjaran No. 111, Bandung', '1988-05-19', '2007-06-09'),\n",
    "    ('IP09008', 'Octavanus', 'Jln. Gajah Mada 101, Semarang', '1988-10-07', '2008-08-08'),\n",
    "    ('IP09009', 'Nugroho', 'Jln. Duren Tiga 196, Jakarta Selatan', '1988-01-20', '2008-11-11'),\n",
    "    ('IP090010', 'Raisa', 'Jln. Nangka Jakarta Selatan', '1989-12-29', '2009-02-09');\n",
    "    \n",
    "    INSERT INTO cuti_karyawan(id, Nomor_induk, Tanggal_mulai, Lama_cuti, Keterangan)\n",
    "    VALUES\n",
    "    (1, 'IP06001', '2012-02-01', 3, 'Acara keluar'),\n",
    "    (2, 'IP06001', '2012-02-13', 2, 'Anak sakit'),\n",
    "    (3, 'IP07007', '2012-02-15', 1, 'Nenek sakit'),\n",
    "    (4, 'IP06003', '2012-02-17', 1, 'Mendaftar sekolah anak'),\n",
    "    (5, 'IP07006', '2012-02-20', 5, 'Menikah'),\n",
    "    (6, 'IP07004', '2012-02-27', 1, 'Imunisasi anak');\n",
    "    '''\n",
    ")\n",
    "conn.commit()"
   ]
  },
  {
   "cell_type": "code",
   "execution_count": 9,
   "metadata": {},
   "outputs": [
    {
     "name": "stdout",
     "output_type": "stream",
     "text": [
      "Empat orang karyawan yang pertama kali masuk adalah : \n",
      "- Agus\n",
      "- Yusuf\n",
      "- Amin\n",
      "- Alyssa\n"
     ]
    }
   ],
   "source": [
    "# d) empat orang karyawan yang pertama kali masuk (bergabung). \n",
    "import psycopg2\n",
    "conn = psycopg2.connect(database = \"kantor\", user = \"postgres\", password = \"akmal\", host = \"localhost\", port = \"5432\")\n",
    "cur = conn.cursor()\n",
    "\n",
    "cur.execute(\"SELECT Nama FROM karyawan ORDER BY Tanggal_masuk LIMIT 4;\")\n",
    "data = cur.fetchall()\n",
    "\n",
    "print(\"Empat orang karyawan yang pertama kali masuk adalah : \")\n",
    "for user in data:\n",
    "    print(\"-\", user[0])"
   ]
  },
  {
   "cell_type": "code",
   "execution_count": 10,
   "metadata": {},
   "outputs": [
    {
     "name": "stdout",
     "output_type": "stream",
     "text": [
      "Dua orang karyawan yang terakhir kali masuk adalah : \n",
      "- Raisa\n",
      "- Nugroho\n"
     ]
    }
   ],
   "source": [
    "# e. dua orang karyawan yang terakhir kali masuk (bergabung) \n",
    "import psycopg2\n",
    "conn = psycopg2.connect(database = \"kantor\", user = \"postgres\", password = \"akmal\", host = \"localhost\", port = \"5432\")\n",
    "cur = conn.cursor()\n",
    "\n",
    "cur.execute(\"SELECT Nama FROM karyawan ORDER BY Tanggal_masuk DESC LIMIT 2;\")\n",
    "data = cur.fetchall()\n",
    "\n",
    "print(\"Dua orang karyawan yang terakhir kali masuk adalah : \")\n",
    "for user in data:\n",
    "    print(\"-\", user[0])"
   ]
  },
  {
   "cell_type": "code",
   "execution_count": 12,
   "metadata": {},
   "outputs": [
    {
     "name": "stdout",
     "output_type": "stream",
     "text": [
      "Karyawan yang paling lama mengambil cuti adalah:\n",
      "Afika dengan keterangan Menikah\n"
     ]
    }
   ],
   "source": [
    "# f) nama karyawan yang paling banyak mengambil cuti beserta keterangan cutinya\n",
    "import psycopg2\n",
    "conn = psycopg2.connect(database = \"kantor\", user = \"postgres\", password = \"akmal\", host = \"localhost\", port = \"5432\")\n",
    "cur = conn.cursor()\n",
    "\n",
    "cur.execute(\n",
    "    '''\n",
    "    SELECT karyawan.Nama, cuti_karyawan.keterangan \n",
    "    FROM karyawan \n",
    "    JOIN cuti_karyawan ON karyawan.Nomor_induk = cuti_karyawan.Nomor_induk \n",
    "    WHERE cuti_karyawan.lama_cuti = (SELECT MAX(Lama_cuti) FROM cuti_karyawan)\n",
    "    ''')\n",
    "data = cur.fetchall()\n",
    "\n",
    "print(\"Karyawan yang paling lama mengambil cuti adalah:\")\n",
    "for user in data:\n",
    "    print(user[0], \"dengan keterangan\", user[1])"
   ]
  },
  {
   "cell_type": "code",
   "execution_count": 13,
   "metadata": {},
   "outputs": [
    {
     "name": "stdout",
     "output_type": "stream",
     "text": [
      "Karyawan yang memiliki umur paling tua adalah:\n",
      "- Agus\n"
     ]
    }
   ],
   "source": [
    "# g) nama karywan yang memiliki umur paling tua\n",
    "import psycopg2\n",
    "conn = psycopg2.connect(database = \"kantor\", user = \"postgres\", password = \"akmal\", host = \"localhost\", port = \"5432\")\n",
    "cur = conn.cursor()\n",
    "\n",
    "cur.execute(\"SELECT Nama FROM karyawan WHERE Tanggal_lahir = (SELECT MIN(Tanggal_lahir) FROM karyawan);\")\n",
    "data = cur.fetchall()\n",
    "\n",
    "print(\"Karyawan yang memiliki umur paling tua adalah:\")\n",
    "for user in data:\n",
    "    print(\"-\", user[0])"
   ]
  },
  {
   "cell_type": "code",
   "execution_count": 14,
   "metadata": {},
   "outputs": [
    {
     "name": "stdout",
     "output_type": "stream",
     "text": [
      "Karyawan yang memiliki umur paling muda adalah:\n",
      "- Raisa\n"
     ]
    }
   ],
   "source": [
    "# h)  nama karywan yang memiliki umur paling muda\n",
    "import psycopg2\n",
    "conn = psycopg2.connect(database = \"kantor\", user = \"postgres\", password = \"akmal\", host = \"localhost\", port = \"5432\")\n",
    "cur = conn.cursor()\n",
    "\n",
    "cur.execute(\"SELECT Nama FROM karyawan WHERE Tanggal_lahir = (SELECT MAX(Tanggal_lahir) FROM karyawan);\")\n",
    "data = cur.fetchall()\n",
    "\n",
    "print(\"Karyawan yang memiliki umur paling muda adalah:\")\n",
    "for user in data:\n",
    "    print(\"-\", user[0])"
   ]
  },
  {
   "cell_type": "code",
   "execution_count": 15,
   "metadata": {},
   "outputs": [
    {
     "name": "stdout",
     "output_type": "stream",
     "text": [
      "Karyawan yang paling dulu masuk kerja setelah cuti adalah:\n",
      "- Yusuf\n",
      "- Alyssa\n",
      "- James\n"
     ]
    }
   ],
   "source": [
    "# i)  nama-nama karyawan yang paling dulu masuk kerja setelah cuti\n",
    "import psycopg2\n",
    "conn = psycopg2.connect(database = \"kantor\", user = \"postgres\", password = \"akmal\", host = \"localhost\", port = \"5432\")\n",
    "cur = conn.cursor()\n",
    "\n",
    "cur.execute(\n",
    "    '''\n",
    "    SELECT Nama\n",
    "    FROM karyawan\n",
    "    JOIN cuti_karyawan ON cuti_karyawan.Nomor_induk = karyawan.Nomor_induk\n",
    "    WHERE cuti_karyawan.Lama_cuti = (SELECT MIN(Lama_cuti) FROM cuti_karyawan);\n",
    "    ''')\n",
    "data = cur.fetchall()\n",
    "\n",
    "print(\"Karyawan yang paling dulu masuk kerja setelah cuti adalah:\")\n",
    "for user in data:\n",
    "    print(\"-\", user[0])"
   ]
  },
  {
   "cell_type": "code",
   "execution_count": 16,
   "metadata": {},
   "outputs": [
    {
     "name": "stdout",
     "output_type": "stream",
     "text": [
      "\n",
      "Total lama cuti yang diambil para karyawan sebanyak 13 hari\n"
     ]
    }
   ],
   "source": [
    "# j) total cuti yang diambil para karyawan\n",
    "import psycopg2\n",
    "conn = psycopg2.connect(database = \"kantor\", user = \"postgres\", password = \"akmal\", host = \"localhost\", port = \"5432\")\n",
    "cur = conn.cursor()\n",
    "\n",
    "cur.execute( \n",
    "    '''\n",
    "    SELECT SUM(Lama_cuti) AS jumlah\n",
    "    FROM cuti_karyawan;\n",
    "    ''')\n",
    "data = cur.fetchall()\n",
    "print(\"\\nTotal lama cuti yang diambil para karyawan sebanyak\", data[0][0], \"hari\")"
   ]
  },
  {
   "cell_type": "code",
   "execution_count": 17,
   "metadata": {},
   "outputs": [
    {
     "name": "stdout",
     "output_type": "stream",
     "text": [
      "Karyawan yang tidak mengambil cuti adalah:\n",
      "- Amin\n",
      "- Maulana\n",
      "- Octavanus\n",
      "- Nugroho\n",
      "- Raisa\n"
     ]
    }
   ],
   "source": [
    "# k)  Apakah ada karyawan yang tidak mengambil cuti? Jika iya tentukan nama-nama karyawan tersebut\n",
    "import psycopg2\n",
    "conn = psycopg2.connect(database = \"kantor\", user = \"postgres\", password = \"akmal\", host = \"localhost\", port = \"5432\")\n",
    "cur = conn.cursor()\n",
    "\n",
    "cur.execute( \n",
    "    '''\n",
    "    SELECT Nama\n",
    "    FROM karyawan\n",
    "    WHERE Nomor_induk NOT IN (SELECT Nomor_induk FROM cuti_karyawan);\n",
    "    ''')\n",
    "data = cur.fetchall()\n",
    "print(\"Karyawan yang tidak mengambil cuti adalah:\")\n",
    "for user in data:\n",
    "    print(\"-\", user[0])"
   ]
  },
  {
   "cell_type": "code",
   "execution_count": null,
   "metadata": {},
   "outputs": [],
   "source": []
  }
 ],
 "metadata": {
  "kernelspec": {
   "display_name": "Python 3",
   "language": "python",
   "name": "python3"
  },
  "language_info": {
   "codemirror_mode": {
    "name": "ipython",
    "version": 3
   },
   "file_extension": ".py",
   "mimetype": "text/x-python",
   "name": "python",
   "nbconvert_exporter": "python",
   "pygments_lexer": "ipython3",
   "version": "3.6.5"
  }
 },
 "nbformat": 4,
 "nbformat_minor": 2
}

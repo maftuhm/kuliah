{
 "cells": [
  {
   "cell_type": "code",
   "execution_count": 1,
   "metadata": {},
   "outputs": [
    {
     "name": "stdout",
     "output_type": "stream",
     "text": [
      "Sukses membuka database\n"
     ]
    }
   ],
   "source": [
    "import psycopg2\n",
    "\n",
    "conn = psycopg2.connect(database=\"data_warehouse\", user=\"postgres\", password=\"maftuh2003\", host=\"localhost\", port=\"5432\")\n",
    "\n",
    "print (\"Sukses membuka database\")"
   ]
  },
  {
   "cell_type": "code",
   "execution_count": 2,
   "metadata": {},
   "outputs": [
    {
     "name": "stdout",
     "output_type": "stream",
     "text": [
      "Opened database successfully\n",
      "Data tersimpan dengan baik\n"
     ]
    }
   ],
   "source": [
    " import psycopg2\n",
    " \n",
    "conn = psycopg2.connect(database=\"data_warehouse\", user=\"postgres\", password=\"maftuh2003\", host=\"localhost\", port=\"5432\")\n",
    "print (\"Opened database successfully\")\n",
    " \n",
    "cur = conn.cursor()\n",
    "cur.execute(\"SELECT * FROM data_mahasiswa\") \n",
    "cur.execute(\"INSERT INTO data_mahasiswa (id,nama,alamat) VALUES (3, 'Tejo','Batam')\")\n",
    "cur.execute(\"INSERT INTO data_mahasiswa (id,nama,alamat) VALUES (4, 'Bejo','Bali')\")\n",
    "    \n",
    "conn.commit()\n",
    "print (\"Data tersimpan dengan baik\");\n"
   ]
  },
  {
   "cell_type": "code",
   "execution_count": 7,
   "metadata": {},
   "outputs": [
    {
     "name": "stdout",
     "output_type": "stream",
     "text": [
      "Opened database successfully\n"
     ]
    },
    {
     "ename": "ProgrammingError",
     "evalue": "relation \"company\" does not exist\nLINE 1: SELECT * FROM company\n                      ^\n",
     "output_type": "error",
     "traceback": [
      "\u001b[1;31m---------------------------------------------------------------------------\u001b[0m",
      "\u001b[1;31mProgrammingError\u001b[0m                          Traceback (most recent call last)",
      "\u001b[1;32m<ipython-input-7-5bb51f222b4a>\u001b[0m in \u001b[0;36m<module>\u001b[1;34m()\u001b[0m\n\u001b[0;32m      5\u001b[0m \u001b[1;33m\u001b[0m\u001b[0m\n\u001b[0;32m      6\u001b[0m \u001b[0mcur\u001b[0m \u001b[1;33m=\u001b[0m \u001b[0mconn\u001b[0m\u001b[1;33m.\u001b[0m\u001b[0mcursor\u001b[0m\u001b[1;33m(\u001b[0m\u001b[1;33m)\u001b[0m\u001b[1;33m\u001b[0m\u001b[0m\n\u001b[1;32m----> 7\u001b[1;33m \u001b[0mtes\u001b[0m \u001b[1;33m=\u001b[0m \u001b[0mcur\u001b[0m\u001b[1;33m.\u001b[0m\u001b[0mexecute\u001b[0m\u001b[1;33m(\u001b[0m\u001b[1;34m\"SELECT * FROM company\"\u001b[0m\u001b[1;33m)\u001b[0m\u001b[1;33m\u001b[0m\u001b[0m\n\u001b[0m\u001b[0;32m      8\u001b[0m \u001b[0mcur\u001b[0m\u001b[1;33m.\u001b[0m\u001b[0mexecute\u001b[0m\u001b[1;33m(\u001b[0m\u001b[1;34m\"INSERT INTO data_mahasiswa (id,nama,alamat) VALUES (5, 'Jojo','Banten')\"\u001b[0m\u001b[1;33m)\u001b[0m\u001b[1;33m\u001b[0m\u001b[0m\n\u001b[0;32m      9\u001b[0m \u001b[0mconn\u001b[0m\u001b[1;33m.\u001b[0m\u001b[0mcommit\u001b[0m\u001b[1;33m(\u001b[0m\u001b[1;33m)\u001b[0m\u001b[1;33m\u001b[0m\u001b[0m\n",
      "\u001b[1;31mProgrammingError\u001b[0m: relation \"company\" does not exist\nLINE 1: SELECT * FROM company\n                      ^\n"
     ]
    }
   ],
   "source": [
    "import psycopg2\n",
    " \n",
    "conn = psycopg2.connect(database=\"data_warehouse\", user=\"postgres\", password=\"maftuh2003\", host=\"localhost\", port=\"5432\")\n",
    "print (\"Opened database successfully\")\n",
    " \n",
    "cur = conn.cursor()\n",
    "cur.execute(\"SELECT * FROM company\") \n",
    "cur.execute(\"INSERT INTO data_mahasiswa (id,nama,alamat) VALUES (5, 'Jojo','Banten')\")\n",
    "conn.commit()\n",
    "print (\"Data tersimpan dengan baik\")\n"
   ]
  },
  {
   "cell_type": "code",
   "execution_count": 104,
   "metadata": {},
   "outputs": [
    {
     "name": "stdout",
     "output_type": "stream",
     "text": [
      "Opened database successfully\n",
      "Total baris terupdate: 2\n"
     ]
    }
   ],
   "source": [
    "#!/usr/bin/python\n",
    "import psycopg2\n",
    " \n",
    "conn = psycopg2.connect(database=\"postgres\", user=\"postgres\", password=\"6363\", host=\"localhost\", port=\"5432\")\n",
    "print (\"Opened database successfully\")\n",
    " \n",
    "cur = conn.cursor()\n",
    "\n",
    "cur.execute(\"UPDATE company set name='Tika' WHERE id='2'\")\n",
    "conn.commit()\n",
    "print (\"Total baris terupdate:\", cur.rowcount)\n",
    " \n",
    "conn.close()"
   ]
  },
  {
   "cell_type": "code",
   "execution_count": 107,
   "metadata": {},
   "outputs": [
    {
     "name": "stdout",
     "output_type": "stream",
     "text": [
      "Opened database successfully\n",
      "baris telah dihapus\n"
     ]
    }
   ],
   "source": [
    "import psycopg2\n",
    " \n",
    "conn = psycopg2.connect(database=\"postgres\", user=\"postgres\", password=\"6363\", host=\"localhost\", port=\"5432\")\n",
    "print (\"Opened database successfully\")\n",
    " \n",
    "cur = conn.cursor()\n",
    "\n",
    "cur.execute(\"DELETE FROM company WHERE id='3'\")\n",
    "conn.commit()\n",
    "print (\"baris telah dihapus\")\n",
    " \n",
    "conn.close()"
   ]
  },
  {
   "cell_type": "code",
   "execution_count": null,
   "metadata": {},
   "outputs": [],
   "source": []
  }
 ],
 "metadata": {
  "kernelspec": {
   "display_name": "Python 3",
   "language": "python",
   "name": "python3"
  },
  "language_info": {
   "codemirror_mode": {
    "name": "ipython",
    "version": 3
   },
   "file_extension": ".py",
   "mimetype": "text/x-python",
   "name": "python",
   "nbconvert_exporter": "python",
   "pygments_lexer": "ipython3",
   "version": "3.6.5"
  }
 },
 "nbformat": 4,
 "nbformat_minor": 2
}

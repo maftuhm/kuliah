{
 "cells": [
  {
   "cell_type": "code",
   "execution_count": 8,
   "metadata": {},
   "outputs": [
    {
     "name": "stdout",
     "output_type": "stream",
     "text": [
      "Database berhasil dibuka\n"
     ]
    },
    {
     "ename": "ProgrammingError",
     "evalue": "type \"datetime\" does not exist\nLINE 8:     time4 DATETIME,\n                  ^\n",
     "output_type": "error",
     "traceback": [
      "\u001b[1;31m---------------------------------------------------------------------------\u001b[0m",
      "\u001b[1;31mProgrammingError\u001b[0m                          Traceback (most recent call last)",
      "\u001b[1;32m<ipython-input-8-28ddbeb4804e>\u001b[0m in \u001b[0;36m<module>\u001b[1;34m()\u001b[0m\n\u001b[0;32m     18\u001b[0m     \u001b[0mtime5\u001b[0m \u001b[0mDATEIME2\u001b[0m\u001b[1;33m,\u001b[0m\u001b[1;33m\u001b[0m\u001b[0m\n\u001b[0;32m     19\u001b[0m     time6 DATETIMEOFFSET);\n\u001b[1;32m---> 20\u001b[1;33m     '''\n\u001b[0m\u001b[0;32m     21\u001b[0m )\n\u001b[0;32m     22\u001b[0m \u001b[0mconn\u001b[0m\u001b[1;33m.\u001b[0m\u001b[0mcommit\u001b[0m\u001b[1;33m(\u001b[0m\u001b[1;33m)\u001b[0m\u001b[1;33m\u001b[0m\u001b[0m\n",
      "\u001b[1;31mProgrammingError\u001b[0m: type \"datetime\" does not exist\nLINE 8:     time4 DATETIME,\n                  ^\n"
     ]
    }
   ],
   "source": [
    "import psycopg2\n",
    "\n",
    "conn = psycopg2.connect(database=\"data_warehouse\", user=\"postgres\", password=\"maftuh2003\", host=\"localhost\", port=\"5432\")\n",
    "print (\"Database berhasil dibuka\")\n",
    "\n",
    "cur = conn.cursor()\n",
    "\n",
    "cur.execute(\"drop table data_mahasiswa\")\n",
    "cur.execute(\n",
    "    '''\n",
    "    CREATE TABLE IF NOT EXISTS data_mahasiswa\n",
    "    (nama VARCHAR(100),\n",
    "    nilai INT,\n",
    "    prodi VARCHAR(50),\n",
    "    time1 DATE,\n",
    "    time2 TIME,\n",
    "    time4 DATETIME,\n",
    "    time5 DATEIME2,\n",
    "    time6 DATETIMEOFFSET);\n",
    "    '''\n",
    ")\n",
    "conn.commit()\n",
    "print (\"Tabel berhasil dibuat\");\n"
   ]
  },
  {
   "cell_type": "code",
   "execution_count": 2,
   "metadata": {},
   "outputs": [
    {
     "name": "stdout",
     "output_type": "stream",
     "text": [
      "Database berhasil dibuka\n",
      "Data tersimpan dengan baik\n"
     ]
    }
   ],
   "source": [
    "import psycopg2\n",
    "import time\n",
    "conn = psycopg2.connect(database=\"data_warehouse\", user=\"postgres\", password=\"maftuh2003\", host=\"localhost\", port=\"5432\")\n",
    "print (\"Database berhasil dibuka\")\n",
    "\n",
    "cur = conn.cursor()\n",
    "cur.execute('''\n",
    "            INSERT INTO data_mahasiswa \n",
    "            (nama, nilai, prodi, tgl_daftar, waktu) VALUES \n",
    "            ('Maftuh Mashuri', 75, 'Matematika', '01-08-2019', '211254'),\n",
    "            ('Reza Liswara', 85, 'Matematika', '01-08-2019', '211254'),\n",
    "            ('Laras', 90, 'Matematika', '01-08-2019', '211254')\n",
    "            ''')\n",
    "conn.commit()\n",
    "conn.close()\n",
    "print (\"Data tersimpan dengan baik\")\n"
   ]
  },
  {
   "cell_type": "code",
   "execution_count": 100,
   "metadata": {},
   "outputs": [
    {
     "name": "stdout",
     "output_type": "stream",
     "text": [
      "Database berhasil dibuka\n",
      "Total baris terupdate: 1\n"
     ]
    }
   ],
   "source": [
    "import psycopg2\n",
    " \n",
    "conn = psycopg2.connect(database=\"data_warehouse\", user=\"postgres\", password=\"maftuh2003\", host=\"localhost\", port=\"5432\")\n",
    "print (\"Database berhasil dibuka\")\n",
    "\n",
    "cur = conn.cursor()\n",
    "\n",
    "cur.execute(\"UPDATE data_mahasiswa set nama='Maftuh' WHERE id=1\")\n",
    "conn.commit()\n",
    "print (\"Total baris terupdate:\", cur.rowcount)\n",
    " \n",
    "conn.close()"
   ]
  },
  {
   "cell_type": "code",
   "execution_count": 1,
   "metadata": {},
   "outputs": [
    {
     "name": "stdout",
     "output_type": "stream",
     "text": [
      "Database berhasil dibuka\n",
      "baris telah dihapus\n"
     ]
    }
   ],
   "source": [
    "import psycopg2\n",
    " \n",
    "conn = psycopg2.connect(database=\"data_warehouse\", user=\"postgres\", password=\"maftuh2003\", host=\"localhost\", port=\"5432\")\n",
    "print (\"Database berhasil dibuka\")\n",
    "\n",
    "cur = conn.cursor()\n",
    "\n",
    "cur.execute(\"DELETE FROM data_mahasiswa WHERE id='3'\")\n",
    "conn.commit()\n",
    "print (\"baris telah dihapus\")\n",
    " \n",
    "conn.close()"
   ]
  },
  {
   "cell_type": "code",
   "execution_count": 3,
   "metadata": {},
   "outputs": [
    {
     "name": "stdout",
     "output_type": "stream",
     "text": [
      "Database berhasil dibuka\n",
      "(1, 'Maftuh', 75, 'Matematika', datetime.date(2019, 8, 1), datetime.time(21, 12, 54))\n"
     ]
    }
   ],
   "source": [
    "import psycopg2\n",
    " \n",
    "conn = psycopg2.connect(database=\"data_warehouse\", user=\"postgres\", password=\"maftuh2003\", host=\"localhost\", port=\"5432\")\n",
    "print (\"Database berhasil dibuka\")\n",
    "\n",
    "cur = conn.cursor()\n",
    "cur.execute(\"SELECT * FROM data_mahasiswa WHERE nilai <> 85\")\n",
    "data = cur.fetchall()\n",
    "for user in data:\n",
    "    print(user)\n"
   ]
  },
  {
   "cell_type": "code",
   "execution_count": null,
   "metadata": {},
   "outputs": [],
   "source": []
  }
 ],
 "metadata": {
  "kernelspec": {
   "display_name": "Python 3",
   "language": "python",
   "name": "python3"
  },
  "language_info": {
   "codemirror_mode": {
    "name": "ipython",
    "version": 3
   },
   "file_extension": ".py",
   "mimetype": "text/x-python",
   "name": "python",
   "nbconvert_exporter": "python",
   "pygments_lexer": "ipython3",
   "version": "3.6.5"
  }
 },
 "nbformat": 4,
 "nbformat_minor": 2
}

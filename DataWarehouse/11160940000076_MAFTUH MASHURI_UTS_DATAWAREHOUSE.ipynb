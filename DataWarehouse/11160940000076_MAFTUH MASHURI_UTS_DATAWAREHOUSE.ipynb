{
 "cells": [
  {
   "cell_type": "markdown",
   "metadata": {},
   "source": [
    "# Connect database akademik"
   ]
  },
  {
   "cell_type": "code",
   "execution_count": 34,
   "metadata": {},
   "outputs": [],
   "source": [
    "def connect(nama_db = \"akademik\", password = \"maftuh2003\"):\n",
    "    import psycopg2\n",
    "    conn = psycopg2.connect(database = nama_db, user = \"postgres\", password = password, host = \"localhost\", port = \"5432\")\n",
    "    return conn"
   ]
  },
  {
   "cell_type": "markdown",
   "metadata": {},
   "source": [
    "# NO 1"
   ]
  },
  {
   "cell_type": "markdown",
   "metadata": {},
   "source": [
    "# Membuat tabel matakuliah"
   ]
  },
  {
   "cell_type": "code",
   "execution_count": 18,
   "metadata": {},
   "outputs": [
    {
     "name": "stdout",
     "output_type": "stream",
     "text": [
      "Table berhasil dibuat\n"
     ]
    }
   ],
   "source": [
    "conn = connect()\n",
    "cur = conn.cursor()\n",
    "\n",
    "cur.execute(\n",
    "    '''\n",
    "    CREATE TABLE IF NOT EXISTS matakuliah(\n",
    "    kode_mk VARCHAR(5) NOT NULL PRIMARY KEY,\n",
    "    nama_mk VARCHAR(100),\n",
    "    sks SMALLINT\n",
    "    );\n",
    "    ''')\n",
    "conn.commit()\n",
    "conn.close()\n",
    "print(\"Table berhasil dibuat\")"
   ]
  },
  {
   "cell_type": "markdown",
   "metadata": {},
   "source": [
    "# Membuat tabel mahasiswa"
   ]
  },
  {
   "cell_type": "code",
   "execution_count": 19,
   "metadata": {},
   "outputs": [
    {
     "name": "stdout",
     "output_type": "stream",
     "text": [
      "Table berhasil dibuat\n"
     ]
    }
   ],
   "source": [
    "conn = connect()\n",
    "cur = conn.cursor()\n",
    "\n",
    "cur.execute(\n",
    "    '''\n",
    "    CREATE TABLE IF NOT EXISTS mahasiswa(\n",
    "    nim VARCHAR(5) NOT NULL PRIMARY KEY,\n",
    "    nm_mhs VARCHAR(100),\n",
    "    j_kel VARCHAR(1),\n",
    "    kode_jur VARCHAR(2)\n",
    "    );\n",
    "    ''')\n",
    "conn.commit()\n",
    "conn.close()\n",
    "print(\"Table berhasil dibuat\")"
   ]
  },
  {
   "cell_type": "markdown",
   "metadata": {},
   "source": [
    "# Membuat tabel dosen"
   ]
  },
  {
   "cell_type": "code",
   "execution_count": 20,
   "metadata": {},
   "outputs": [
    {
     "name": "stdout",
     "output_type": "stream",
     "text": [
      "Table berhasil dibuat\n"
     ]
    }
   ],
   "source": [
    "conn = connect()\n",
    "cur = conn.cursor()\n",
    "\n",
    "cur.execute(\n",
    "    '''\n",
    "    CREATE TABLE IF NOT EXISTS dosen(\n",
    "    kode_dosen VARCHAR(5) NOT NULL PRIMARY KEY,\n",
    "    nm_dosen VARCHAR(100)\n",
    "    );\n",
    "    ''')\n",
    "conn.commit()\n",
    "conn.close()\n",
    "print(\"Table berhasil dibuat\")"
   ]
  },
  {
   "cell_type": "markdown",
   "metadata": {},
   "source": [
    "# Membuat tabel jurusan"
   ]
  },
  {
   "cell_type": "code",
   "execution_count": 21,
   "metadata": {},
   "outputs": [
    {
     "name": "stdout",
     "output_type": "stream",
     "text": [
      "Table berhasil dibuat\n"
     ]
    }
   ],
   "source": [
    "conn = connect()\n",
    "cur = conn.cursor()\n",
    "\n",
    "cur.execute(\n",
    "    '''\n",
    "    CREATE TABLE IF NOT EXISTS jurusan(\n",
    "    kode_jur VARCHAR(5) NOT NULL PRIMARY KEY,\n",
    "    nm_jur VARCHAR(25),\n",
    "    jenjang VARCHAR(2)\n",
    "    );\n",
    "    ''')\n",
    "conn.commit()\n",
    "conn.close()\n",
    "print(\"Table berhasil dibuat\")"
   ]
  },
  {
   "cell_type": "markdown",
   "metadata": {},
   "source": [
    "# Membuat tabel penilaian"
   ]
  },
  {
   "cell_type": "code",
   "execution_count": 22,
   "metadata": {},
   "outputs": [
    {
     "name": "stdout",
     "output_type": "stream",
     "text": [
      "Table berhasil dibuat\n"
     ]
    }
   ],
   "source": [
    "conn = connect()\n",
    "cur = conn.cursor()\n",
    "\n",
    "cur.execute(\n",
    "    '''\n",
    "    CREATE SEQUENCE table_name_id_seq;\n",
    "    CREATE TABLE IF NOT EXISTS penilaian(\n",
    "    no_ajar INT NOT NULL DEFAULT nextval('table_name_id_seq'),\n",
    "    nim VARCHAR(5),\n",
    "    kode_dosen VARCHAR(5),\n",
    "    kode_mk VARCHAR(5),\n",
    "    angka INT,\n",
    "    PRIMARY KEY (no_ajar)\n",
    "    );\n",
    "    ''')\n",
    "conn.commit()\n",
    "conn.close()\n",
    "print(\"Table berhasil dibuat\")"
   ]
  },
  {
   "cell_type": "markdown",
   "metadata": {},
   "source": [
    "# Input data ke tabel matakuliah"
   ]
  },
  {
   "cell_type": "code",
   "execution_count": 23,
   "metadata": {},
   "outputs": [
    {
     "name": "stdout",
     "output_type": "stream",
     "text": [
      "Input data berhasil\n"
     ]
    }
   ],
   "source": [
    "conn = connect()\n",
    "cur = conn.cursor()\n",
    "cur.execute(\n",
    "    '''\n",
    "    INSERT INTO matakuliah (kode_mk, nama_mk, sks) \n",
    "    VALUES \n",
    "    ('M11', 'Program Aplikasi 1', 3), \n",
    "    ('M12', 'Pemrograman Visual', 3),\n",
    "    ('M13', 'Sistem Database', 4),\n",
    "    ('M14', 'Struktur Data', 2),\n",
    "    ('M15', 'Algoritma', 2)\n",
    "    ''')\n",
    "conn.commit()\n",
    "conn.close()\n",
    "print(\"Input data berhasil\")"
   ]
  },
  {
   "cell_type": "markdown",
   "metadata": {},
   "source": [
    "# Input data ke tabel mahasiswa"
   ]
  },
  {
   "cell_type": "code",
   "execution_count": 24,
   "metadata": {},
   "outputs": [
    {
     "name": "stdout",
     "output_type": "stream",
     "text": [
      "Input data berhasil\n"
     ]
    }
   ],
   "source": [
    "conn = connect()\n",
    "cur = conn.cursor()\n",
    "cur.execute(\n",
    "    '''\n",
    "    INSERT INTO mahasiswa (nim, nm_mhs, j_kel, kode_jur) \n",
    "    VALUES \n",
    "    ('0701', 'Bambang Reno', 'L', 'SI'), \n",
    "    ('0702', 'Esti Farida', 'P', 'MI'),\n",
    "    ('0703', 'Sugeng Fitriadi', 'L', 'TI'),\n",
    "    ('0704', 'Budiono', 'L', 'TI'),\n",
    "    ('0705', 'Setiowati', 'P', 'MI')\n",
    "    ''')\n",
    "conn.commit()\n",
    "conn.close()\n",
    "print(\"Input data berhasil\")"
   ]
  },
  {
   "cell_type": "markdown",
   "metadata": {},
   "source": [
    "# Input data ke tabel dosen"
   ]
  },
  {
   "cell_type": "code",
   "execution_count": 25,
   "metadata": {},
   "outputs": [
    {
     "name": "stdout",
     "output_type": "stream",
     "text": [
      "Input data berhasil\n"
     ]
    }
   ],
   "source": [
    "conn = connect()\n",
    "cur = conn.cursor()\n",
    "cur.execute(\n",
    "    '''\n",
    "    INSERT INTO dosen (kode_dosen, nm_dosen) \n",
    "    VALUES \n",
    "    ('D01', 'Budi Sugiharjo, Ir, MSc'), \n",
    "    ('D02', 'Guntara Ir, MT'),\n",
    "    ('D03', 'Asep Sukmayadi, Skom'),\n",
    "    ('D04', 'Alan Subchan, Skom, MM'),\n",
    "    ('D05', 'Deni Silaban, Drs, MT')\n",
    "    ''')\n",
    "conn.commit()\n",
    "conn.close()\n",
    "print(\"Input data berhasil\")"
   ]
  },
  {
   "cell_type": "markdown",
   "metadata": {},
   "source": [
    "# Input data ke tabel jurusan"
   ]
  },
  {
   "cell_type": "code",
   "execution_count": 26,
   "metadata": {},
   "outputs": [
    {
     "name": "stdout",
     "output_type": "stream",
     "text": [
      "Input data berhasil\n"
     ]
    }
   ],
   "source": [
    "conn = connect()\n",
    "cur = conn.cursor()\n",
    "cur.execute(\n",
    "    '''\n",
    "    INSERT INTO jurusan (kode_jur, nm_jur, jenjang) \n",
    "    VALUES \n",
    "    ('SI', 'Sistem Informasi', 'S1'), \n",
    "    ('TI', 'Teknik Informatika', 'S1'),\n",
    "    ('MI', 'Manajemen Informatika', 'D3')\n",
    "    ''')\n",
    "conn.commit()\n",
    "conn.close()\n",
    "print(\"Input data berhasil\")"
   ]
  },
  {
   "cell_type": "markdown",
   "metadata": {},
   "source": [
    "# Input data ke tabel penilaian "
   ]
  },
  {
   "cell_type": "code",
   "execution_count": 27,
   "metadata": {},
   "outputs": [
    {
     "name": "stdout",
     "output_type": "stream",
     "text": [
      "Input data berhasil\n"
     ]
    }
   ],
   "source": [
    "conn = connect()\n",
    "cur = conn.cursor()\n",
    "cur.execute(\n",
    "    '''\n",
    "    INSERT INTO penilaian (no_ajar, nim, kode_dosen, kode_mk, angka) \n",
    "    VALUES \n",
    "    (1, '0701', 'D01', 'M01', 50),\n",
    "    (2, '0702', 'D01', 'M01', 60),\n",
    "    (3, '0703', 'D01', 'M01', 70),\n",
    "    (4, '0704', 'D01', 'M01', 80),\n",
    "    (5, '0705', 'D01', 'M01', 90),\n",
    "    (6, '0701', 'D02', 'M02', 90),\n",
    "    (7, '0702', 'D02', 'M02', 80),\n",
    "    (8, '0703', 'D02', 'M02', 70),\n",
    "    (9, '0704', 'D02', 'M02', 60),\n",
    "    (10, '0705', 'D02', 'M02', 50),\n",
    "    (11, '0701', 'D03', 'M03', 80),\n",
    "    (12, '0702', 'D03', 'M03', 90),\n",
    "    (13, '0703', 'D03', 'M03', 50),\n",
    "    (14, '0704', 'D03', 'M03', 70),\n",
    "    (15, '0705', 'D03', 'M03', 60),\n",
    "    (16, '0701', 'D03', 'M04', 90),\n",
    "    (17, '0702', 'D03', 'M04', 80),\n",
    "    (18, '0703', 'D04', 'M05', 70),\n",
    "    (19, '0704', 'D04', 'M05', 60),\n",
    "    (20, '0705', 'D05', 'M05', 50)\n",
    "''')\n",
    "conn.commit()\n",
    "conn.close()\n",
    "print(\"Input data berhasil\")"
   ]
  },
  {
   "cell_type": "markdown",
   "metadata": {},
   "source": [
    "# d) Nama mahasiswa yang kuliah jenjang S1 "
   ]
  },
  {
   "cell_type": "code",
   "execution_count": 28,
   "metadata": {},
   "outputs": [
    {
     "name": "stdout",
     "output_type": "stream",
     "text": [
      "Mahasiswa yang kuliah jenjang S1 adalah : \n",
      " - Bambang Reno\n",
      " - Sugeng Fitriadi\n",
      " - Budiono\n"
     ]
    }
   ],
   "source": [
    "conn = connect()\n",
    "cur = conn.cursor()\n",
    "cur.execute('''\n",
    "    SELECT nm_mhs\n",
    "    FROM mahasiswa\n",
    "    JOIN jurusan\n",
    "    ON jurusan.kode_jur = mahasiswa.kode_jur\n",
    "    WHERE jurusan.jenjang = 'S1';\n",
    "    ''')\n",
    "data = cur.fetchall()\n",
    "print(\"Mahasiswa yang kuliah jenjang S1 adalah : \")\n",
    "for user in data:\n",
    "    print(' -', user[0])\n"
   ]
  },
  {
   "cell_type": "markdown",
   "metadata": {},
   "source": [
    "# e) Nama mahasiswa yang kuliah jenjang S1 dengan jurusan Sistem Informasi"
   ]
  },
  {
   "cell_type": "code",
   "execution_count": 32,
   "metadata": {},
   "outputs": [
    {
     "name": "stdout",
     "output_type": "stream",
     "text": [
      "Mahasiswa yang kuliah jenjang S1 dengan jurusan Sistem Informasi adalah : \n",
      " - Bambang Reno\n"
     ]
    }
   ],
   "source": [
    "conn = connect()\n",
    "cur = conn.cursor()\n",
    "cur.execute('''\n",
    "    SELECT nm_mhs\n",
    "    FROM mahasiswa\n",
    "    WHERE kode_jur = 'SI';\n",
    "    ''')\n",
    "data = cur.fetchall()\n",
    "print(\"Mahasiswa yang kuliah jenjang S1 dengan jurusan Sistem Informasi adalah : \")\n",
    "for user in data:\n",
    "    print(' -', user[0])\n"
   ]
  },
  {
   "cell_type": "markdown",
   "metadata": {},
   "source": [
    "# f)  Nama Mahasiswa yang memiliki nilai tertinggi dan terendah"
   ]
  },
  {
   "cell_type": "code",
   "execution_count": 35,
   "metadata": {},
   "outputs": [
    {
     "name": "stdout",
     "output_type": "stream",
     "text": [
      "Nama Mahasiswa yang memiliki nilai tertinggi pada setiap matakuliah : \n",
      " - Program Aplikasi 1 adalah Setiowati dengan nilai 90\n",
      " - Program Visual adalah Bambang Reno dengan nilai 90\n",
      " - Sistem Database adalah Esti Farida dengan nilai 90\n",
      " - Struktur Data adalah Bambang Reno dengan nilai 90\n",
      " - Algoritma adalah Sugeng Fitriadi dengan nilai 70\n",
      "\n",
      "Nama Mahasiswa yang memiliki nilai terendah pada setiap matakuliah : \n",
      " - Program Aplikasi 1 adalah Bambang Reno dengan nilai 50\n",
      " - Program Visual adalah Setiowati dengan nilai 50\n",
      " - Sistem Database adalah Sugeng Fitriadi dengan nilai 50\n",
      " - Struktur Data adalah Esti Farida dengan nilai 80\n",
      " - Algoritma adalah Setiowati dengan nilai 50\n"
     ]
    }
   ],
   "source": [
    "def maks_min(maks = True):\n",
    "    conn = connect()\n",
    "    cur = conn.cursor()\n",
    "    if maks:\n",
    "        temp = 'MAX'\n",
    "    else:\n",
    "        temp ='MIN'\n",
    "    cur.execute('''\n",
    "        SELECT mahasiswa.nm_mhs, matakuliah.nama_mk, penilaian.angka\n",
    "        FROM penilaian\n",
    "        JOIN matakuliah ON matakuliah.kode_mk = penilaian.kode_mk\n",
    "        JOIN mahasiswa ON mahasiswa.nim = penilaian.nim\n",
    "        JOIN (SELECT '''+ temp +'''(angka) AS maks_min, kode_mk FROM penilaian GROUP BY kode_mk) x\n",
    "        ON x.maks_min = penilaian.angka AND x.kode_mk = penilaian.kode_mk\n",
    "        ORDER BY penilaian.kode_mk\n",
    "    ''')\n",
    "    data = cur.fetchall()\n",
    "    return data\n",
    "\n",
    "print(\"Nama Mahasiswa yang memiliki nilai tertinggi pada setiap matakuliah : \")\n",
    "for user in maks_min():\n",
    "    print(' -', user[1], 'adalah', user[0], 'dengan nilai', user[2])\n",
    "    \n",
    "print()\n",
    "print(\"Nama Mahasiswa yang memiliki nilai terendah pada setiap matakuliah : \")\n",
    "for user in maks_min(False):\n",
    "    print(' -', user[1], 'adalah', user[0], 'dengan nilai', user[2])"
   ]
  },
  {
   "cell_type": "markdown",
   "metadata": {},
   "source": [
    "#  g) Rata-rata nilai mahasiswa yang diajar oleh Dosen Guntara, Ir, MT"
   ]
  },
  {
   "cell_type": "code",
   "execution_count": 36,
   "metadata": {},
   "outputs": [
    {
     "name": "stdout",
     "output_type": "stream",
     "text": [
      "Rata-rata nilai mahasiswa yang diajar oleh Dosen Guntara, Ir, MT adalah 70\n"
     ]
    }
   ],
   "source": [
    "conn = connect()\n",
    "cur = conn.cursor()\n",
    "cur.execute('''\n",
    "    SELECT AVG(angka)\n",
    "    FROM penilaian\n",
    "    WHERE kode_dosen = 'D02';\n",
    "    ''')\n",
    "data = cur.fetchall()\n",
    "print(\"Rata-rata nilai mahasiswa yang diajar oleh Dosen Guntara, Ir, MT adalah\", end =' ')\n",
    "for user in data:\n",
    "    print(int(user[0]))\n",
    "    "
   ]
  },
  {
   "cell_type": "markdown",
   "metadata": {},
   "source": [
    "# h) Nilai tertinggi dan terendah dari mahasiswa yang bernama Budiono"
   ]
  },
  {
   "cell_type": "code",
   "execution_count": 37,
   "metadata": {},
   "outputs": [
    {
     "name": "stdout",
     "output_type": "stream",
     "text": [
      "Nilai tertinggi dan terendah dari mahasiswa yang bernama Budiono sebagai berikut :\n",
      " - Program Aplikasi 1 dengan nilai 80\n",
      " - Program Visual dengan nilai 60\n",
      " - Algoritma dengan nilai 60\n"
     ]
    }
   ],
   "source": [
    "conn = connect()\n",
    "cur = conn.cursor()\n",
    "cur.execute('''\n",
    "    SELECT matakuliah.nama_mk, penilaian.angka\n",
    "    FROM penilaian\n",
    "    JOIN matakuliah ON matakuliah.kode_mk = penilaian.kode_mk\n",
    "    WHERE nim = '0704' \n",
    "    AND (angka = (SELECT MAX(angka) FROM penilaian WHERE nim = '0704')\n",
    "    OR angka = (SELECT MIN(angka) FROM penilaian WHERE nim = '0704'))\n",
    "    ''')\n",
    "data = cur.fetchall()\n",
    "print(\"Nilai tertinggi dan terendah dari mahasiswa yang bernama Budiono sebagai berikut :\")\n",
    "\n",
    "for user in data:\n",
    "    print(' -', user[0], 'dengan nilai', user[1])"
   ]
  },
  {
   "cell_type": "markdown",
   "metadata": {},
   "source": [
    "# i) Membuat kolom “Score” baru pada table PENILAIAN"
   ]
  },
  {
   "cell_type": "code",
   "execution_count": 38,
   "metadata": {},
   "outputs": [
    {
     "name": "stdout",
     "output_type": "stream",
     "text": [
      "Penambahan kolom berhasil\n",
      "Update kolom berhasil\n"
     ]
    }
   ],
   "source": [
    "conn = connect()\n",
    "cur = conn.cursor()\n",
    "\n",
    "cur.execute(\n",
    "    '''\n",
    "    ALTER TABLE penilaian\n",
    "    ADD IF NOT EXISTS score INT;\n",
    "    ''')\n",
    "conn.commit()\n",
    "print(\"Penambahan kolom berhasil\")\n",
    "\n",
    "cur.execute(\n",
    "    '''\n",
    "    UPDATE penilaian\n",
    "    SET score = penilaian.angka * matakuliah.sks\n",
    "    FROM matakuliah\n",
    "    WHERE penilaian.kode_mk = matakuliah.kode_mk\n",
    "    ''')\n",
    "\n",
    "conn.commit()\n",
    "conn.close()\n",
    "\n",
    "print(\"Update kolom berhasil\")\n"
   ]
  },
  {
   "cell_type": "markdown",
   "metadata": {},
   "source": [
    "# j) Matakuliah yang paling banyak diikuti oleh mahasiswa"
   ]
  },
  {
   "cell_type": "code",
   "execution_count": 39,
   "metadata": {},
   "outputs": [
    {
     "name": "stdout",
     "output_type": "stream",
     "text": [
      "Matakuliah yang paling banyak diikuti oleh mahasiswa :\n",
      " - Program Aplikasi 1\n",
      " - Program Visual\n",
      " - Sistem Database\n"
     ]
    }
   ],
   "source": [
    "conn = connect()\n",
    "cur = conn.cursor()\n",
    "cur.execute('''\n",
    "    SELECT nama_mk\n",
    "    FROM matakuliah\n",
    "    JOIN (\n",
    "        SELECT COUNT(kode_mk) AS jumlah, kode_mk\n",
    "        FROM penilaian\n",
    "        GROUP BY kode_mk\n",
    "        ORDER BY kode_mk\n",
    "        ) penilai\n",
    "    ON matakuliah.kode_mk = penilai.kode_mk\n",
    "    WHERE penilai.jumlah = (SELECT MAX(mycount) FROM (SELECT COUNT(kode_mk) AS mycount FROM penilaian GROUP BY kode_mk) x)\n",
    "    ''')\n",
    "data = cur.fetchall()\n",
    "print(\"Matakuliah yang paling banyak diikuti oleh mahasiswa :\")\n",
    "for user in data:\n",
    "    print(' -', user[0])"
   ]
  },
  {
   "cell_type": "markdown",
   "metadata": {},
   "source": [
    "#  k) Dosen yang mengajar lebih dari satu matakuliah [belum berhasil]"
   ]
  },
  {
   "cell_type": "code",
   "execution_count": 40,
   "metadata": {},
   "outputs": [
    {
     "name": "stdout",
     "output_type": "stream",
     "text": [
      "Nilai tertinggi dan terendah dari mahasiswa yang bernama Budiono sebagai berikut :\n",
      "('Budi Sugiharjo, Ir, MSc', 'M01')\n",
      "('Budi Sugiharjo, Ir, MSc', 'M01')\n",
      "('Budi Sugiharjo, Ir, MSc', 'M01')\n",
      "('Budi Sugiharjo, Ir, MSc', 'M01')\n",
      "('Budi Sugiharjo, Ir, MSc', 'M01')\n",
      "('Guntara Ir, MT', 'M02')\n",
      "('Guntara Ir, MT', 'M02')\n",
      "('Guntara Ir, MT', 'M02')\n",
      "('Guntara Ir, MT', 'M02')\n",
      "('Guntara Ir, MT', 'M02')\n",
      "('Asep Sukmayadi, Skom', 'M04')\n",
      "('Asep Sukmayadi, Skom', 'M04')\n",
      "('Asep Sukmayadi, Skom', 'M03')\n",
      "('Asep Sukmayadi, Skom', 'M03')\n",
      "('Asep Sukmayadi, Skom', 'M03')\n",
      "('Asep Sukmayadi, Skom', 'M03')\n",
      "('Asep Sukmayadi, Skom', 'M03')\n",
      "('Alan Subchan, Skom, MM', 'M05')\n",
      "('Alan Subchan, Skom, MM', 'M05')\n",
      "('Deni Silaban, Drs, MT', 'M05')\n"
     ]
    }
   ],
   "source": [
    "conn = connect()\n",
    "cur = conn.cursor()\n",
    "cur.execute('''\n",
    "    SELECT nm_dosen, kode_mk\n",
    "    FROM dosen\n",
    "    JOIN penilaian \n",
    "    ON dosen.kode_dosen = penilaian.kode_dosen\n",
    "    ''')\n",
    "data = cur.fetchall()\n",
    "print(\"Nilai tertinggi dan terendah dari mahasiswa yang bernama Budiono sebagai berikut :\")\n",
    "for user in data:\n",
    "    print(user)"
   ]
  },
  {
   "cell_type": "markdown",
   "metadata": {},
   "source": [
    "# l) Membuat kolom Nilai_Kategori pada table PENILAIAN "
   ]
  },
  {
   "cell_type": "code",
   "execution_count": 41,
   "metadata": {},
   "outputs": [
    {
     "name": "stdout",
     "output_type": "stream",
     "text": [
      "Penambahan kolom berhasil\n",
      "Update kolom berhasil\n"
     ]
    }
   ],
   "source": [
    "conn = connect()\n",
    "cur = conn.cursor()\n",
    "\n",
    "cur.execute(\"ALTER TABLE penilaian ADD IF NOT EXISTS nilai_kategori VARCHAR(1);\")\n",
    "conn.commit()\n",
    "print(\"Penambahan kolom berhasil\")\n",
    "\n",
    "cur.execute(\"SELECT no_ajar, angka FROM penilaian\")\n",
    "data = cur.fetchall()\n",
    "\n",
    "for user in data:\n",
    "    if user[1] >= 80:\n",
    "        kategori = 'A'\n",
    "    elif user[1] >= 70 and user[1] < 80:\n",
    "        kategori = 'B'\n",
    "    elif user[1] >= 60 and user[1] < 70:\n",
    "        kategori = 'C'\n",
    "    elif user[1] < 60:\n",
    "        kategori = 'D'\n",
    "    else:\n",
    "        kategori = 0\n",
    "    \n",
    "    cur.execute(\"UPDATE penilaian SET nilai_kategori = '\" + kategori + \"' WHERE no_ajar = \" + str(user[0]))\n",
    "    conn.commit()\n",
    "print(\"Update kolom berhasil\")"
   ]
  },
  {
   "cell_type": "markdown",
   "metadata": {},
   "source": [
    "# m) Membuat kolom Nilai_akhir pada table PENILAIAN "
   ]
  },
  {
   "cell_type": "code",
   "execution_count": 42,
   "metadata": {},
   "outputs": [
    {
     "name": "stdout",
     "output_type": "stream",
     "text": [
      "Penambahan kolom berhasil\n",
      "Update kolom berhasil\n"
     ]
    }
   ],
   "source": [
    "conn = connect()\n",
    "cur = conn.cursor()\n",
    "\n",
    "cur.execute(\"ALTER TABLE penilaian ADD IF NOT EXISTS nilai_akhir VARCHAR(25);\")\n",
    "conn.commit()\n",
    "print(\"Penambahan kolom berhasil\")\n",
    "\n",
    "cur.execute(\"SELECT no_ajar, nilai_kategori FROM penilaian\")\n",
    "data = cur.fetchall()\n",
    "\n",
    "for user in data:\n",
    "    if user[1] == 'A' or user[1] == 'B' or user[1] == 'C':\n",
    "        nilai_akhir = \"Lulus\"\n",
    "    else:\n",
    "        nilai_akhir = \"Tidak Lulus\"\n",
    "    \n",
    "    cur.execute(\"UPDATE penilaian SET nilai_akhir = '\" + nilai_akhir + \"' WHERE no_ajar = \" + str(user[0]))\n",
    "    conn.commit()\n",
    "print(\"Update kolom berhasil\")"
   ]
  },
  {
   "cell_type": "markdown",
   "metadata": {},
   "source": [
    "# NO 2"
   ]
  },
  {
   "cell_type": "markdown",
   "metadata": {},
   "source": [
    "# Membuat tabel"
   ]
  },
  {
   "cell_type": "code",
   "execution_count": 43,
   "metadata": {},
   "outputs": [
    {
     "name": "stdout",
     "output_type": "stream",
     "text": [
      "Table berhasil dibuat\n"
     ]
    }
   ],
   "source": [
    "conn = connect(nama_db = 'tweet')\n",
    "cur = conn.cursor()\n",
    "def make_table():\n",
    "    for i in range(1,4):\n",
    "        cur.execute(\n",
    "            '''\n",
    "            CREATE TABLE IF NOT EXISTS tweet_harike'''+str(i)+'''(\n",
    "            tweet_id VARCHAR(100),\n",
    "            user_id VARCHAR(100),\n",
    "            username VARCHAR(100),\n",
    "            name VARCHAR(100),\n",
    "            text VARCHAR(1000),\n",
    "            followers INT,\n",
    "            following INT,\n",
    "            favorite INT,\n",
    "            created_at TIMESTAMP);\n",
    "            ''')\n",
    "        conn.commit()\n",
    "    conn.close()\n",
    "def drop_table():    \n",
    "    for i in range(1,4):\n",
    "        cur.execute('''DROP TABLE IF EXISTS tweet_harike'''+str(i))\n",
    "        conn.commit()\n",
    "    conn.close()\n",
    "# drop_table()\n",
    "make_table()\n",
    "print(\"Table berhasil dibuat\")"
   ]
  },
  {
   "cell_type": "markdown",
   "metadata": {},
   "source": [
    "# Membuka file"
   ]
  },
  {
   "cell_type": "code",
   "execution_count": 10,
   "metadata": {},
   "outputs": [],
   "source": [
    "import json\n",
    "\n",
    "tweets_data = [] # Membuat list kosong untuk menyimpan data json perbaris\n",
    "tweets_file = open('dataset.txt', \"r\") # membuka file\n",
    "for line in tweets_file:\n",
    "    try:\n",
    "        tweet = json.loads(line)  # Membaca data dalam format json dari file perbaris\n",
    "        tweets_data.append(tweet) # Menambahkan data dari file ke dalam list\n",
    "    except:\n",
    "        continue\n",
    "tweets_file.close()\n"
   ]
  },
  {
   "cell_type": "markdown",
   "metadata": {},
   "source": [
    "# Fungsi-fungsi"
   ]
  },
  {
   "cell_type": "code",
   "execution_count": 44,
   "metadata": {},
   "outputs": [],
   "source": [
    "from datetime import datetime\n",
    "from pytz import timezone\n",
    "def convert_date(date):\n",
    "    date_time = datetime.strptime(date, '%a %b %d %H:%M:%S %z %Y')\n",
    "    utc = timezone('Asia/Jakarta')\n",
    "    utc_dt = date_time.astimezone(utc)\n",
    "    return utc_dt\n",
    "\n",
    "from unidecode import unidecode\n",
    "def remove_kutip(text):\n",
    "    new = unidecode(text)\n",
    "    new1 = new.replace('\"', '')\n",
    "    new2 = new1.replace(\"'\", \"\")\n",
    "    return new2"
   ]
  },
  {
   "cell_type": "markdown",
   "metadata": {},
   "source": [
    "# Input data json ke database"
   ]
  },
  {
   "cell_type": "code",
   "execution_count": 6,
   "metadata": {},
   "outputs": [],
   "source": [
    "tweet_id   = list(map(lambda tweet: tweet['id_str'], tweets_data))\n",
    "user_id    = list(map(lambda tweet: tweet['user']['id_str'], tweets_data))\n",
    "name       = list(map(lambda tweet: tweet['user']['name'], tweets_data))\n",
    "user_name  = list(map(lambda tweet: tweet['user']['screen_name'], tweets_data))\n",
    "text       = list(map(lambda tweet: tweet['text'], tweets_data))\n",
    "followers  = list(map(lambda tweet: tweet['user']['followers_count'], tweets_data))\n",
    "friend     = list(map(lambda tweet: tweet['user']['friends_count'], tweets_data))\n",
    "favourite  = list(map(lambda tweet: tweet['user']['favourites_count'], tweets_data))\n",
    "created_at = list(map(lambda tweet: str(convert_date(tweet['created_at'])), tweets_data))\n",
    "\n",
    "query = [[], [], []]\n",
    "i = 0\n",
    "n = 0\n",
    "for tw_id, u_id, u_nm, nm, txt, flwr, frnd, fav, time in zip(tweet_id, user_id, user_name, name, text, followers, friend, favourite, created_at):\n",
    "    query[n].append(tuple([tw_id, u_id, u_nm, remove_kutip(nm), remove_kutip(txt), flwr, frnd, fav, time]))\n",
    "    if  i < len(created_at)-1:\n",
    "        if created_at[i][:10] != created_at[i+1][:10]:\n",
    "            n += 1\n",
    "    i += 1\n",
    "\n",
    "conn = connect(nama_db = 'tweet')\n",
    "cur = conn.cursor()\n",
    "i = 1\n",
    "for tweet_perhari in query:\n",
    "    for tw in tweet_perhari:\n",
    "        cur.execute(\"INSERT INTO tweet_harike\" + str(i) + \" (tweet_id, user_id, username, name, text, followers, following, favorite, created_at) VALUES \" + str(tw) + \";\")\n",
    "        conn.commit()\n",
    "    i += 1\n",
    "conn.close()\n"
   ]
  },
  {
   "cell_type": "markdown",
   "metadata": {},
   "source": [
    "# Jumlah dan rata-rata tweet pada setiap harinya."
   ]
  },
  {
   "cell_type": "code",
   "execution_count": 45,
   "metadata": {},
   "outputs": [
    {
     "name": "stdout",
     "output_type": "stream",
     "text": [
      "Jumlah dan rata-rata tweet pada setiap harinya :\n",
      "Pada hari ke-1 jumlah tweet sebanyak 51642 dengan rata-rata perjam 2151\n",
      "Pada hari ke-2 jumlah tweet sebanyak 49614 dengan rata-rata perjam 2067\n",
      "Pada hari ke-3 jumlah tweet sebanyak 43052 dengan rata-rata perjam 1793\n"
     ]
    }
   ],
   "source": [
    "conn = connect(nama_db = 'tweet')\n",
    "cur = conn.cursor()\n",
    "\n",
    "data = []\n",
    "for i in range(1, 4):\n",
    "    cur.execute(\"SELECT COUNT(text) AS total FROM tweet_harike\" + str(i))\n",
    "    data += cur.fetchall()\n",
    "\n",
    "print(\"Jumlah dan rata-rata tweet pada setiap harinya :\")\n",
    "i = 1\n",
    "for hari in data:\n",
    "    print(\"Pada hari ke-\" + str(i) + \" jumlah tweet sebanyak \" + str(hari[0]) + \" dengan rata-rata perjam \" +str(int(hari[0]/24)))\n",
    "    i += 1"
   ]
  },
  {
   "cell_type": "markdown",
   "metadata": {},
   "source": [
    "# Waktu yang memiliki jumlah tweet terbanyak pada setiap harinya"
   ]
  },
  {
   "cell_type": "code",
   "execution_count": 46,
   "metadata": {},
   "outputs": [
    {
     "name": "stdout",
     "output_type": "stream",
     "text": [
      "Waktu yang memiliki jumlah tweet terbanyak pada setiap harinya adalah :\n",
      "Hari ke-1 adalah pada jam ke-21\n",
      "Hari ke-2 adalah pada jam ke-21\n",
      "Hari ke-3 adalah pada jam ke-18\n"
     ]
    }
   ],
   "source": [
    "conn = connect(nama_db = 'tweet')\n",
    "cur = conn.cursor()\n",
    "\n",
    "data = []\n",
    "for i in range(1, 4):\n",
    "    cur.execute('''\n",
    "        SELECT x.hour\n",
    "        FROM (\n",
    "            SELECT COUNT(text) AS total, EXTRACT(HOUR FROM created_at) AS hour\n",
    "            FROM tweet_harike''' + str(i) + '''\n",
    "            GROUP BY hour) x\n",
    "        WHERE x.total = (\n",
    "            SELECT MAX(y.total) AS max\n",
    "            FROM (\n",
    "                SELECT COUNT(text) AS total, EXTRACT(HOUR FROM created_at) AS hour\n",
    "                FROM tweet_harike''' + str(i) + '''\n",
    "                GROUP BY hour) y\n",
    "            )\n",
    "        ''')\n",
    "    data += cur.fetchall()\n",
    "print(\"Waktu yang memiliki jumlah tweet terbanyak pada setiap harinya adalah :\")\n",
    "i = 1\n",
    "for perjam in data:\n",
    "    print(\"Hari ke-\"+str(i)+\" adalah pada jam ke-\" + str(int(perjam[0])))\n",
    "    i += 1"
   ]
  }
 ],
 "metadata": {
  "kernelspec": {
   "display_name": "Python 3",
   "language": "python",
   "name": "python3"
  },
  "language_info": {
   "codemirror_mode": {
    "name": "ipython",
    "version": 3
   },
   "file_extension": ".py",
   "mimetype": "text/x-python",
   "name": "python",
   "nbconvert_exporter": "python",
   "pygments_lexer": "ipython3",
   "version": "3.6.8"
  }
 },
 "nbformat": 4,
 "nbformat_minor": 2
}

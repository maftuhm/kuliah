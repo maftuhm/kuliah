{
 "cells": [
  {
   "cell_type": "markdown",
   "metadata": {},
   "source": [
    "<center>\n",
    "    <h1>TUGAS III - Individu</h1>\n",
    "    <h2>DATA WAREHOUSE</h2>\n",
    "    <h3>Maftuh Mashuri (11160940000076)</h3>\n",
    "</center>"
   ]
  },
  {
   "cell_type": "markdown",
   "metadata": {},
   "source": [
    "# Fungsi untuk koneksi database"
   ]
  },
  {
   "cell_type": "code",
   "execution_count": 36,
   "metadata": {},
   "outputs": [],
   "source": [
    "def connect(nama_db = \"kantor\", password = \"maftuh2003\"):\n",
    "    import psycopg2\n",
    "    conn = psycopg2.connect(database = nama_db, user = \"postgres\", password = password, host = \"localhost\", port = \"5432\")\n",
    "    return conn"
   ]
  },
  {
   "cell_type": "markdown",
   "metadata": {},
   "source": [
    "# Fungsi untuk CRUD\n",
    "<p>Fungsi ini untuk melakukan running query ke database dengan input <i>query</i> yaitu string berisi query perintah untuk database dan <i>select</i> dengan type data boolean karena hanya perintah SELECT yang mengeluarkan output</p>"
   ]
  },
  {
   "cell_type": "code",
   "execution_count": 37,
   "metadata": {},
   "outputs": [],
   "source": [
    "def execute(query, select = True):\n",
    "    conn = connect()\n",
    "    cur = conn.cursor()\n",
    "    cur.execute(query)\n",
    "    if select:\n",
    "        return cur.fetchall()\n",
    "    else:\n",
    "        conn.commit()\n",
    "    conn.close()"
   ]
  },
  {
   "cell_type": "code",
   "execution_count": 51,
   "metadata": {},
   "outputs": [],
   "source": [
    "# query untuk mengosongkan tabel\n",
    "query = \"DELETE FROM karyawan; DELETE FROM cuti_karyawan;\"\n",
    "execute(query, False)"
   ]
  },
  {
   "cell_type": "code",
   "execution_count": 39,
   "metadata": {},
   "outputs": [],
   "source": [
    "# query untuk mengosongkan tabel\n",
    "query = \"DROP TABLE karyawan; DROP TABLE cuti_karyawan;\"\n",
    "execute(query, False)"
   ]
  },
  {
   "cell_type": "markdown",
   "metadata": {},
   "source": [
    "# b) Membuat tabel-tabel pada database kantor."
   ]
  },
  {
   "cell_type": "code",
   "execution_count": 40,
   "metadata": {},
   "outputs": [
    {
     "name": "stdout",
     "output_type": "stream",
     "text": [
      "Membuat tabel berhasil\n"
     ]
    }
   ],
   "source": [
    "query = '''\n",
    "    CREATE TABLE IF NOT EXISTS karyawan(\n",
    "    Nomor_induk VARCHAR(10) NOT NULL,\n",
    "    Nama VARCHAR(30),\n",
    "    Alamat TEXT,\n",
    "    Tanggal_lahir DATE,\n",
    "    Tanggal_masuk DATE,\n",
    "    PRIMARY KEY(Nomor_induk)\n",
    "    );\n",
    "\n",
    "    CREATE TABLE IF NOT EXISTS cuti_karyawan(\n",
    "    id INT NOT NULL,\n",
    "    Nomor_induk VARCHAR(10),\n",
    "    Tanggal_mulai DATE,\n",
    "    Lama_cuti SMALLINT,\n",
    "    Keterangan TEXT,\n",
    "    PRIMARY KEY(id));\n",
    "    '''\n",
    "execute(query, False)\n",
    "print(\"Membuat tabel berhasil\")"
   ]
  },
  {
   "cell_type": "markdown",
   "metadata": {},
   "source": [
    "# c) Mengisi tabel-tabel"
   ]
  },
  {
   "cell_type": "code",
   "execution_count": 41,
   "metadata": {},
   "outputs": [
    {
     "name": "stdout",
     "output_type": "stream",
     "text": [
      "Input data berhasil\n"
     ]
    }
   ],
   "source": [
    "query = '''\n",
    "    INSERT INTO karyawan (Nomor_induk, Nama, Alamat, Tanggal_lahir, Tanggal_masuk)\n",
    "    VALUES \n",
    "    ('IP06001', 'Agus', 'Jln. Gajah Mada 115A, Jakarta Pusat', '1970-08-01', '2006-07-07'),\n",
    "    ('IP06002', 'Amin', 'Jln. Bungur sari v No. 178 Bandung', '1977-05-03', '2006-07-07'),\n",
    "    ('IP06003', 'Yusuf', 'Jln. Yosodpuro 15, Surabaya', '1973-08-09', '2006-07-07'),\n",
    "    ('IP07004', 'Alyssa', 'Jln. Cendana No. 6 Bandung', '1983-02-14', '2007-01-05'),\n",
    "    ('IP07005', 'Maulana', 'Jln. Ampera Raya No 1', '1985-10-10', '2007-02-05'),\n",
    "    ('IP07006', 'Afika', 'Jln. Pejaten Barat No 6A', '1987-03-09', '2007-06-09'),\n",
    "    ('IP07007', 'James', 'Jln. Padjadjaran No. 111, Bandung', '1988-05-19', '2007-06-09'),\n",
    "    ('IP09008', 'Octavanus', 'Jln. Gajah Mada 101, Semarang', '1988-10-07', '2008-08-08'),\n",
    "    ('IP09009', 'Nugroho', 'Jln. Duren Tiga 196, Jakarta Selatan', '1988-01-20', '2008-11-11'),\n",
    "    ('IP090010', 'Raisa', 'Jln. Nangka Jakarta Selatan', '1989-12-29', '2009-02-09');\n",
    "    \n",
    "    INSERT INTO cuti_karyawan(id, Nomor_induk, Tanggal_mulai, Lama_cuti, Keterangan)\n",
    "    VALUES\n",
    "    (1, 'IP06001', '2012-02-01', 3, 'Acara keluar'),\n",
    "    (2, 'IP06001', '2012-02-13', 2, 'Anak sakit'),\n",
    "    (3, 'IP07007', '2012-02-15', 1, 'Nenek sakit'),\n",
    "    (4, 'IP06003', '2012-02-17', 1, 'Mendaftar sekolah anak'),\n",
    "    (5, 'IP07006', '2012-02-20', 5, 'Menikah'),\n",
    "    (6, 'IP07004', '2012-02-27', 1, 'Imunisasi anak');\n",
    "    '''\n",
    "execute(query, False)\n",
    "print(\"Input data berhasil\")"
   ]
  },
  {
   "cell_type": "markdown",
   "metadata": {},
   "source": [
    "# d) Tentukan empat orang karyawan yang pertama kali masuk (bergabung)"
   ]
  },
  {
   "cell_type": "code",
   "execution_count": 42,
   "metadata": {},
   "outputs": [
    {
     "name": "stdout",
     "output_type": "stream",
     "text": [
      "Empat orang karyawan yang pertama kali masuk adalah : \n",
      "- Agus\n",
      "- Yusuf\n",
      "- Amin\n",
      "- Alyssa\n"
     ]
    }
   ],
   "source": [
    "query = \"SELECT Nama FROM karyawan ORDER BY Tanggal_masuk LIMIT 4;\"\n",
    "data = execute(query)\n",
    "\n",
    "print(\"Empat orang karyawan yang pertama kali masuk adalah : \")\n",
    "for user in data:\n",
    "    print(\"-\", user[0])"
   ]
  },
  {
   "cell_type": "markdown",
   "metadata": {},
   "source": [
    "# e) Tentukan dua orang karyawan yang terakhir kali masuk (bergabung)"
   ]
  },
  {
   "cell_type": "code",
   "execution_count": 43,
   "metadata": {},
   "outputs": [
    {
     "name": "stdout",
     "output_type": "stream",
     "text": [
      "Dua orang karyawan yang terakhir kali masuk adalah : \n",
      "- Raisa\n",
      "- Nugroho\n"
     ]
    }
   ],
   "source": [
    "query = \"SELECT Nama FROM karyawan ORDER BY Tanggal_masuk DESC LIMIT 2;\"\n",
    "data = execute(query)\n",
    "\n",
    "print(\"Dua orang karyawan yang terakhir kali masuk adalah : \")\n",
    "for user in data:\n",
    "    print(\"-\", user[0])"
   ]
  },
  {
   "cell_type": "markdown",
   "metadata": {},
   "source": [
    "# f) Tentukan nama karyawan yang paling banyak mengambil cuti beserta keterangan cutinya."
   ]
  },
  {
   "cell_type": "code",
   "execution_count": 44,
   "metadata": {},
   "outputs": [
    {
     "name": "stdout",
     "output_type": "stream",
     "text": [
      "Karyawan yang paling banyak mengambil cuti adalah:\n",
      "-> Agus, dengan keterangan:\n",
      " - Acara keluar\n",
      " - Anak sakit\n",
      "\n",
      "Karyawan yang paling lama mengambil cuti adalah:\n",
      "Afika dengan keterangan Menikah\n"
     ]
    }
   ],
   "source": [
    "query = '''\n",
    "    SELECT \n",
    "        karyawan.Nama, cuti_karyawan.keterangan\n",
    "    FROM \n",
    "        karyawan\n",
    "    JOIN \n",
    "        cuti_karyawan \n",
    "    ON \n",
    "        cuti_karyawan.Nomor_induk = karyawan.Nomor_induk\n",
    "    JOIN \n",
    "        (SELECT Nomor_induk, COUNT(Nomor_induk) AS total_cuti FROM cuti_karyawan GROUP BY Nomor_induk) grup_cuti\n",
    "    ON \n",
    "        grup_cuti.Nomor_induk = karyawan.Nomor_induk\n",
    "    WHERE \n",
    "        grup_cuti.total_cuti = \n",
    "            (SELECT MAX(x.max) FROM (SELECT COUNT(Nomor_induk) AS max FROM cuti_karyawan GROUP BY Nomor_induk) x);\n",
    "    '''\n",
    "data = execute(query)\n",
    "\n",
    "print(\"Karyawan yang paling banyak mengambil cuti adalah:\")\n",
    "for i in range(len(data)):\n",
    "    if i < len(data)-1:\n",
    "        if data[i][0] == data[i+1][0]:\n",
    "            print(\"-> \" + data[i][0] + \", dengan keterangan:\")\n",
    "    print(\" -\", data[i][1])\n",
    "    \n",
    "################ Tambahan karyawan yang paling lama mengambil cuti ############################\n",
    "query = '''\n",
    "    SELECT karyawan.Nama, cuti_karyawan.keterangan \n",
    "    FROM karyawan \n",
    "    JOIN cuti_karyawan ON karyawan.Nomor_induk = cuti_karyawan.Nomor_induk \n",
    "    WHERE cuti_karyawan.lama_cuti = (SELECT MAX(Lama_cuti) FROM cuti_karyawan)\n",
    "    '''\n",
    "\n",
    "print()\n",
    "print(\"Karyawan yang paling lama mengambil cuti adalah:\")\n",
    "data = execute(query)\n",
    "for user in data:\n",
    "    print(user[0], \"dengan keterangan\", user[1])"
   ]
  },
  {
   "cell_type": "markdown",
   "metadata": {},
   "source": [
    "# g) Tentukan nama karayawan yang memiliki umur paling tua"
   ]
  },
  {
   "cell_type": "code",
   "execution_count": 45,
   "metadata": {},
   "outputs": [
    {
     "name": "stdout",
     "output_type": "stream",
     "text": [
      "Karyawan yang memiliki umur paling tua adalah:\n",
      "- Agus\n"
     ]
    }
   ],
   "source": [
    "query = \"SELECT Nama FROM karyawan WHERE Tanggal_lahir = (SELECT MIN(Tanggal_lahir) FROM karyawan);\"\n",
    "data = execute(query)\n",
    "\n",
    "print(\"Karyawan yang memiliki umur paling tua adalah:\")\n",
    "for user in data:\n",
    "    print(\"-\", user[0])"
   ]
  },
  {
   "cell_type": "markdown",
   "metadata": {},
   "source": [
    "# h) Tentukan nama karyawan yang memiliki umur paling muda"
   ]
  },
  {
   "cell_type": "code",
   "execution_count": 46,
   "metadata": {},
   "outputs": [
    {
     "name": "stdout",
     "output_type": "stream",
     "text": [
      "Karyawan yang memiliki umur paling muda adalah:\n",
      "- Raisa\n"
     ]
    }
   ],
   "source": [
    "query = \"SELECT Nama FROM karyawan WHERE Tanggal_lahir = (SELECT MAX(Tanggal_lahir) FROM karyawan);\"\n",
    "data = execute(query)\n",
    "\n",
    "print(\"Karyawan yang memiliki umur paling muda adalah:\")\n",
    "for user in data:\n",
    "    print(\"-\", user[0])"
   ]
  },
  {
   "cell_type": "markdown",
   "metadata": {},
   "source": [
    "# i) Tentukan nama-nama karyawan yang paling dulu masuk kerja setelah cuti"
   ]
  },
  {
   "cell_type": "code",
   "execution_count": 47,
   "metadata": {},
   "outputs": [
    {
     "name": "stdout",
     "output_type": "stream",
     "text": [
      "Karyawan yang paling dulu masuk kerja setelah cuti adalah:\n",
      "- Yusuf\n",
      "- Alyssa\n",
      "- James\n"
     ]
    }
   ],
   "source": [
    "query = '''\n",
    "    SELECT Nama\n",
    "    FROM karyawan\n",
    "    JOIN cuti_karyawan ON cuti_karyawan.Nomor_induk = karyawan.Nomor_induk\n",
    "    WHERE cuti_karyawan.Lama_cuti = (SELECT MIN(Lama_cuti) FROM cuti_karyawan);\n",
    "    '''\n",
    "data = execute(query)\n",
    "\n",
    "print(\"Karyawan yang paling dulu masuk kerja setelah cuti adalah:\")\n",
    "for user in data:\n",
    "    print(\"-\", user[0])"
   ]
  },
  {
   "cell_type": "markdown",
   "metadata": {},
   "source": [
    "# j) Tentukan total cuti yang diambil para karyawan."
   ]
  },
  {
   "cell_type": "code",
   "execution_count": 48,
   "metadata": {},
   "outputs": [
    {
     "name": "stdout",
     "output_type": "stream",
     "text": [
      "Total cuti yang diambil para karyawan adalah:\n",
      "- Yusuf sebanyak 1 kali\n",
      "- Afika sebanyak 1 kali\n",
      "- Alyssa sebanyak 1 kali\n",
      "- Agus sebanyak 2 kali\n",
      "- James sebanyak 1 kali\n",
      "Sisa karyawan lainnya tidak mengambil cuti.\n",
      "\n",
      "Total lama cuti yang diambil para karyawan sebanyak 13 hari\n"
     ]
    }
   ],
   "source": [
    "query = '''\n",
    "    SELECT karyawan.Nama, COUNT(cuti_karyawan.Nomor_induk)\n",
    "    FROM karyawan\n",
    "    JOIN cuti_karyawan ON cuti_karyawan.Nomor_induk = karyawan.Nomor_induk\n",
    "    GROUP BY karyawan.Nomor_induk;\n",
    "    '''\n",
    "data = execute(query)\n",
    "print(\"Total cuti yang diambil para karyawan adalah:\")\n",
    "for user in data:\n",
    "    print(\"-\", user[0], \"sebanyak\", user[1], \"kali\")\n",
    "print(\"Sisa karyawan lainnya tidak mengambil cuti.\")\n",
    "\n",
    "############# Tambahan Total lama cuti semua karyawan ##########\n",
    "query = '''\n",
    "    SELECT SUM(Lama_cuti) AS jumlah\n",
    "    FROM cuti_karyawan;\n",
    "    '''\n",
    "data = execute(query)\n",
    "print(\"\\nTotal lama cuti yang diambil para karyawan sebanyak\", data[0][0], \"hari\")"
   ]
  },
  {
   "cell_type": "markdown",
   "metadata": {},
   "source": [
    "# k) Apakah ada karyawan yang tidak mengambil cuti? Jika iya tentukan nama-nama karyawan tersebut.\n",
    "<p>Ya. Sesuai dengan output sebelumnya, ada karyawan yang tidak menggambil cuti.</p>"
   ]
  },
  {
   "cell_type": "code",
   "execution_count": 49,
   "metadata": {},
   "outputs": [
    {
     "name": "stdout",
     "output_type": "stream",
     "text": [
      "Karyawan yang tidak mengambil cuti adalah:\n",
      "- Amin\n",
      "- Maulana\n",
      "- Octavanus\n",
      "- Nugroho\n",
      "- Raisa\n"
     ]
    }
   ],
   "source": [
    "query = '''\n",
    "    SELECT Nama\n",
    "    FROM karyawan\n",
    "    WHERE Nomor_induk NOT IN (SELECT Nomor_induk FROM cuti_karyawan);\n",
    "    '''\n",
    "data = execute(query)\n",
    "print(\"Karyawan yang tidak mengambil cuti adalah:\")\n",
    "for user in data:\n",
    "    print(\"-\", user[0])"
   ]
  }
 ],
 "metadata": {
  "kernelspec": {
   "display_name": "Python 3",
   "language": "python",
   "name": "python3"
  },
  "language_info": {
   "codemirror_mode": {
    "name": "ipython",
    "version": 3
   },
   "file_extension": ".py",
   "mimetype": "text/x-python",
   "name": "python",
   "nbconvert_exporter": "python",
   "pygments_lexer": "ipython3",
   "version": "3.6.8"
  }
 },
 "nbformat": 4,
 "nbformat_minor": 2
}

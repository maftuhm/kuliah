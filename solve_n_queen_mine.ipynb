{
 "cells": [
  {
   "cell_type": "code",
   "execution_count": 7,
   "metadata": {},
   "outputs": [
    {
     "name": "stdout",
     "output_type": "stream",
     "text": [
      "Solusi dengan menggunakan algoritma backtracking adalah :\n",
      "    1    2    3    4    \n",
      "------------------------\n",
      "1 | ~    Q    ~    ~ |\n",
      "2 | ~    ~    ~    Q |\n",
      "3 | Q    ~    ~    ~ |\n",
      "4 | ~    ~    Q    ~ |\n",
      "\n"
     ]
    }
   ],
   "source": [
    "global N \n",
    "N = 4\n",
    "\n",
    "def init_matrix(p, q, element = 0):\n",
    "    matrix = [[element for row in range(q)] for col in range(p)]\n",
    "    return matrix\n",
    "\n",
    "def printSolusi(array, space = 5):\n",
    "    M = '    '\n",
    "    for i in range(len(array)):\n",
    "        M = M + str(i+1).ljust(space)\n",
    "    M = M + \"\\n\"\n",
    "    for i in range(space * (len(array) + 1) - 1):\n",
    "        M = M + \"-\"\n",
    "    M = M + \"\\n\"\n",
    "    for i in range(len(array)):\n",
    "        M = M + str(i+1) + \" | \" \n",
    "        for j in range(len(array[i])):\n",
    "            if array[i][j] == 1:\n",
    "                a = 'Q'\n",
    "            else:\n",
    "                a = '~'\n",
    "            if j != len(array[i])-1:    \n",
    "                a = a.ljust(space)\n",
    "            else:\n",
    "                a = a.ljust(space-int(space/1.25))\n",
    "            M += a\n",
    "        M = M + ' |\\n'\n",
    "    print(M)\n",
    "\n",
    "def cek_Queen(board, baris, kolom):\n",
    "\n",
    "    # Cek dari baris yang sama\n",
    "    for i in range(baris): \n",
    "        if board[i][kolom] == 1:\n",
    "            return False\n",
    "\n",
    "    # Cek di diagonal sebelah kiri\n",
    "    for i , j in zip(range(baris,-1,-1), range(kolom,-1,-1)): \n",
    "        if board[i][j] == 1: \n",
    "            return False\n",
    "\n",
    "    # Cek di diagonal sebelah kanan\n",
    "    for i,j in zip(range(baris,N,1), range(kolom,-1,-1)): \n",
    "        if board[i][j] == 1: \n",
    "            return False\n",
    "\n",
    "    return True\n",
    "\n",
    "def solveNQueen(board, baris): \n",
    "    if baris >= N: \n",
    "        return True\n",
    "\n",
    "    for i in range(N): \n",
    "        if cek_Queen(board, baris, i): \n",
    "            board[baris][i] = 1\n",
    "\n",
    "            if solveNQueen(board, baris+1) == True: \n",
    "                return True\n",
    "            board[baris][i] = 0\n",
    "\n",
    "    return False\n",
    "\n",
    "board = init_matrix(N, N)\n",
    "\n",
    "if solveNQueen(board, 0) == False: \n",
    "    print (\"Solusi Tidak ada\")\n",
    "else:\n",
    "    print(\"Solusi dengan menggunakan algoritma backtracking adalah :\")\n",
    "    printSolusi(board)"
   ]
  },
  {
   "cell_type": "code",
   "execution_count": null,
   "metadata": {},
   "outputs": [],
   "source": []
  }
 ],
 "metadata": {
  "kernelspec": {
   "display_name": "Python 3",
   "language": "python",
   "name": "python3"
  },
  "language_info": {
   "codemirror_mode": {
    "name": "ipython",
    "version": 3
   },
   "file_extension": ".py",
   "mimetype": "text/x-python",
   "name": "python",
   "nbconvert_exporter": "python",
   "pygments_lexer": "ipython3",
   "version": "3.6.5"
  }
 },
 "nbformat": 4,
 "nbformat_minor": 2
}
